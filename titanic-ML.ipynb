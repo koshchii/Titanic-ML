{
 "cells": [
  {
   "cell_type": "markdown",
   "metadata": {
    "papermill": {
     "duration": 0.037802,
     "end_time": "2021-05-19T10:55:15.731384",
     "exception": false,
     "start_time": "2021-05-19T10:55:15.693582",
     "status": "completed"
    },
    "tags": []
   },
   "source": [
    "<h2><center><font size='6'>Titanic - machine learning from disaster</font></center></h2>\n",
    "\n",
    "Table Of Contents  \n",
    "=\n",
    "\n",
    "1. <a href='#Link-SecIntro'>Introduction</a>  \n",
    "2. <a href='#Link-SecDataPrep'>Data preparation</a>  \n",
    "3. <a href='#Link-SecDataExpl'>Data exploration</a>\n",
    " - <a href='#Link-SecDataExpl-Summary'>Data summary</a>\n",
    " - <a href='#Link-SecDataExpl-GenAss'>General assesment of feature associations</a>\n",
    "4. <a href='#Link-SecImp'>Data imputation</a>\n",
    " - <a href='#Link-SecImp-Emb'>Embarked feature</a>\n",
    " - <a href='#Link-SecImp-Cabin'>Cabin feature</a>\n",
    " - <a href='#Link-SecImp-Age'>Age feature</a>\n",
    " - <a href='#Link-SecImp-Fare'>Fare feature</a>\n",
    "5. <a href='#Link-SecModel'>Model training, selection, and predictions</a>\n",
    " - <a href='#Link-SecModel-DataPrepr'>Data preprocessing</a>\n",
    " - <a href='#Link-SecModel-Training'>Model training</a>\\\n",
    "  a) <a href='#Link-SecModel-Training-RFC'>Random forest classifier</a>\\\n",
    "  b) <a href='#Link-SecModel-Training-XGBC'>Gradient boosting classifier</a>\\\n",
    "  c) <a href='#Link-SecModel-Training-LRC'>Logistic regression classifier</a>\\\n",
    "  d) <a href='#Link-SecModel-Training-KNNC'>k-nearest neighbors classifier</a>\n",
    " - <a href='#Link-SecModel-Selection'>Model selection and predictions</a> "
   ]
  },
  {
   "cell_type": "markdown",
   "metadata": {
    "papermill": {
     "duration": 0.034433,
     "end_time": "2021-05-19T10:55:15.801232",
     "exception": false,
     "start_time": "2021-05-19T10:55:15.766799",
     "status": "completed"
    },
    "tags": []
   },
   "source": [
    "# <a id='Link-SecIntro'>Introduction</a>  \n",
    "\n",
    "In this notebook we will explore and analyze the famous Titanic Dataset using Python libraries such as `pandas`, `matplotlib`, `seaborn`, and `dython`. After that, we will prepare the dataset for model training, consider four different ML models from the popular `sklearn` and `xgboost` libraries, and then assess the accuracy of each model using the cross validation data. Ultimately, we will choose the best ML model, apply it the test dataset to predict which passengers of Titanic survived."
   ]
  },
  {
   "cell_type": "markdown",
   "metadata": {
    "papermill": {
     "duration": 0.035759,
     "end_time": "2021-05-19T10:55:15.873553",
     "exception": false,
     "start_time": "2021-05-19T10:55:15.837794",
     "status": "completed"
    },
    "tags": []
   },
   "source": [
    "# <a id='Link-SecDataPrep'>Data preparation</a>  "
   ]
  },
  {
   "cell_type": "code",
   "execution_count": 1,
   "metadata": {
    "_cell_guid": "e9853b5d-7915-46a9-a005-57350ddb490d",
    "_uuid": "db8c57be-5d14-4610-8297-62d1016f9dd2",
    "execution": {
     "iopub.execute_input": "2021-05-19T10:55:15.950250Z",
     "iopub.status.busy": "2021-05-19T10:55:15.949688Z",
     "iopub.status.idle": "2021-05-19T10:55:24.505171Z",
     "shell.execute_reply": "2021-05-19T10:55:24.503836Z"
    },
    "jupyter": {
     "outputs_hidden": false
    },
    "papermill": {
     "duration": 8.596401,
     "end_time": "2021-05-19T10:55:24.505365",
     "exception": false,
     "start_time": "2021-05-19T10:55:15.908964",
     "status": "completed"
    },
    "tags": []
   },
   "outputs": [
    {
     "name": "stdout",
     "output_type": "stream",
     "text": [
      "Requirement already satisfied: dython in c:\\users\\alexk\\anaconda3\\lib\\site-packages (0.6.4.post1)\n",
      "Requirement already satisfied: numpy in c:\\users\\alexk\\anaconda3\\lib\\site-packages (from dython) (1.19.2)\n",
      "Requirement already satisfied: matplotlib in c:\\users\\alexk\\anaconda3\\lib\\site-packages (from dython) (3.3.2)\n",
      "Requirement already satisfied: pandas>=0.23.4 in c:\\users\\alexk\\anaconda3\\lib\\site-packages (from dython) (1.1.3)\n",
      "Requirement already satisfied: scikit-learn in c:\\users\\alexk\\anaconda3\\lib\\site-packages (from dython) (0.23.2)\n",
      "Requirement already satisfied: seaborn in c:\\users\\alexk\\anaconda3\\lib\\site-packages (from dython) (0.11.0)\n",
      "Requirement already satisfied: scipy in c:\\users\\alexk\\anaconda3\\lib\\site-packages (from dython) (1.5.2)\n",
      "Requirement already satisfied: python-dateutil>=2.1 in c:\\users\\alexk\\anaconda3\\lib\\site-packages (from matplotlib->dython) (2.8.1)\n",
      "Requirement already satisfied: kiwisolver>=1.0.1 in c:\\users\\alexk\\anaconda3\\lib\\site-packages (from matplotlib->dython) (1.3.0)\n",
      "Requirement already satisfied: certifi>=2020.06.20 in c:\\users\\alexk\\anaconda3\\lib\\site-packages (from matplotlib->dython) (2020.6.20)\n",
      "Requirement already satisfied: cycler>=0.10 in c:\\users\\alexk\\anaconda3\\lib\\site-packages (from matplotlib->dython) (0.10.0)\n",
      "Requirement already satisfied: pyparsing!=2.0.4,!=2.1.2,!=2.1.6,>=2.0.3 in c:\\users\\alexk\\anaconda3\\lib\\site-packages (from matplotlib->dython) (2.4.7)\n",
      "Requirement already satisfied: pillow>=6.2.0 in c:\\users\\alexk\\anaconda3\\lib\\site-packages (from matplotlib->dython) (8.0.1)\n",
      "Requirement already satisfied: pytz>=2017.2 in c:\\users\\alexk\\anaconda3\\lib\\site-packages (from pandas>=0.23.4->dython) (2020.1)\n",
      "Requirement already satisfied: joblib>=0.11 in c:\\users\\alexk\\anaconda3\\lib\\site-packages (from scikit-learn->dython) (0.17.0)\n",
      "Requirement already satisfied: threadpoolctl>=2.0.0 in c:\\users\\alexk\\anaconda3\\lib\\site-packages (from scikit-learn->dython) (2.1.0)\n",
      "Requirement already satisfied: six>=1.5 in c:\\users\\alexk\\anaconda3\\lib\\site-packages (from python-dateutil>=2.1->matplotlib->dython) (1.15.0)\n",
      "Setup Complete\n"
     ]
    }
   ],
   "source": [
    "#Install/load required packages\n",
    "!pip install dython\n",
    "\n",
    "import pandas as pd\n",
    "import matplotlib.pyplot as plt\n",
    "%matplotlib inline\n",
    "import seaborn as sns\n",
    "print(\"Setup Complete\")"
   ]
  },
  {
   "cell_type": "code",
   "execution_count": 2,
   "metadata": {
    "_cell_guid": "b9c9689c-39e1-46e2-9e41-4600f927e1ac",
    "_uuid": "d2648dd3-8da7-4e1b-8608-c2166207c59c",
    "execution": {
     "iopub.execute_input": "2021-05-19T10:55:24.587247Z",
     "iopub.status.busy": "2021-05-19T10:55:24.586732Z",
     "iopub.status.idle": "2021-05-19T10:55:24.616279Z",
     "shell.execute_reply": "2021-05-19T10:55:24.615834Z"
    },
    "jupyter": {
     "outputs_hidden": false
    },
    "papermill": {
     "duration": 0.073206,
     "end_time": "2021-05-19T10:55:24.616422",
     "exception": false,
     "start_time": "2021-05-19T10:55:24.543216",
     "status": "completed"
    },
    "tags": []
   },
   "outputs": [],
   "source": [
    "#Upload and record data \n",
    "train_file_path = 'train.csv'\n",
    "test_file_path = 'test.csv'\n",
    "\n",
    "train_data = pd.read_csv(train_file_path, index_col=\"PassengerId\")\n",
    "test_data = pd.read_csv(test_file_path, index_col=\"PassengerId\")"
   ]
  },
  {
   "cell_type": "markdown",
   "metadata": {
    "papermill": {
     "duration": 0.036765,
     "end_time": "2021-05-19T10:55:24.690268",
     "exception": false,
     "start_time": "2021-05-19T10:55:24.653503",
     "status": "completed"
    },
    "tags": []
   },
   "source": [
    "# <a id='Link-SecDataExpl'>Data exploration</a>  \n",
    "\n",
    "## <a id='Link-SecDataExpl-Summary'>Data summary</a>"
   ]
  },
  {
   "cell_type": "code",
   "execution_count": 3,
   "metadata": {
    "_cell_guid": "652a2f54-846d-410f-bef6-15fb56a6bfa5",
    "_uuid": "8c17702c-2ccc-467c-84ad-fc757a7dac72",
    "execution": {
     "iopub.execute_input": "2021-05-19T10:55:24.774797Z",
     "iopub.status.busy": "2021-05-19T10:55:24.774291Z",
     "iopub.status.idle": "2021-05-19T10:55:24.784959Z",
     "shell.execute_reply": "2021-05-19T10:55:24.784573Z"
    },
    "jupyter": {
     "outputs_hidden": false
    },
    "papermill": {
     "duration": 0.057805,
     "end_time": "2021-05-19T10:55:24.785076",
     "exception": false,
     "start_time": "2021-05-19T10:55:24.727271",
     "status": "completed"
    },
    "tags": []
   },
   "outputs": [
    {
     "data": {
      "text/html": [
       "<div>\n",
       "<style scoped>\n",
       "    .dataframe tbody tr th:only-of-type {\n",
       "        vertical-align: middle;\n",
       "    }\n",
       "\n",
       "    .dataframe tbody tr th {\n",
       "        vertical-align: top;\n",
       "    }\n",
       "\n",
       "    .dataframe thead th {\n",
       "        text-align: right;\n",
       "    }\n",
       "</style>\n",
       "<table border=\"1\" class=\"dataframe\">\n",
       "  <thead>\n",
       "    <tr style=\"text-align: right;\">\n",
       "      <th></th>\n",
       "      <th>Survived</th>\n",
       "      <th>Pclass</th>\n",
       "      <th>Name</th>\n",
       "      <th>Sex</th>\n",
       "      <th>Age</th>\n",
       "      <th>SibSp</th>\n",
       "      <th>Parch</th>\n",
       "      <th>Ticket</th>\n",
       "      <th>Fare</th>\n",
       "      <th>Cabin</th>\n",
       "      <th>Embarked</th>\n",
       "    </tr>\n",
       "    <tr>\n",
       "      <th>PassengerId</th>\n",
       "      <th></th>\n",
       "      <th></th>\n",
       "      <th></th>\n",
       "      <th></th>\n",
       "      <th></th>\n",
       "      <th></th>\n",
       "      <th></th>\n",
       "      <th></th>\n",
       "      <th></th>\n",
       "      <th></th>\n",
       "      <th></th>\n",
       "    </tr>\n",
       "  </thead>\n",
       "  <tbody>\n",
       "    <tr>\n",
       "      <th>1</th>\n",
       "      <td>0</td>\n",
       "      <td>3</td>\n",
       "      <td>Braund, Mr. Owen Harris</td>\n",
       "      <td>male</td>\n",
       "      <td>22.0</td>\n",
       "      <td>1</td>\n",
       "      <td>0</td>\n",
       "      <td>A/5 21171</td>\n",
       "      <td>7.2500</td>\n",
       "      <td>NaN</td>\n",
       "      <td>S</td>\n",
       "    </tr>\n",
       "    <tr>\n",
       "      <th>2</th>\n",
       "      <td>1</td>\n",
       "      <td>1</td>\n",
       "      <td>Cumings, Mrs. John Bradley (Florence Briggs Th...</td>\n",
       "      <td>female</td>\n",
       "      <td>38.0</td>\n",
       "      <td>1</td>\n",
       "      <td>0</td>\n",
       "      <td>PC 17599</td>\n",
       "      <td>71.2833</td>\n",
       "      <td>C85</td>\n",
       "      <td>C</td>\n",
       "    </tr>\n",
       "    <tr>\n",
       "      <th>3</th>\n",
       "      <td>1</td>\n",
       "      <td>3</td>\n",
       "      <td>Heikkinen, Miss. Laina</td>\n",
       "      <td>female</td>\n",
       "      <td>26.0</td>\n",
       "      <td>0</td>\n",
       "      <td>0</td>\n",
       "      <td>STON/O2. 3101282</td>\n",
       "      <td>7.9250</td>\n",
       "      <td>NaN</td>\n",
       "      <td>S</td>\n",
       "    </tr>\n",
       "    <tr>\n",
       "      <th>4</th>\n",
       "      <td>1</td>\n",
       "      <td>1</td>\n",
       "      <td>Futrelle, Mrs. Jacques Heath (Lily May Peel)</td>\n",
       "      <td>female</td>\n",
       "      <td>35.0</td>\n",
       "      <td>1</td>\n",
       "      <td>0</td>\n",
       "      <td>113803</td>\n",
       "      <td>53.1000</td>\n",
       "      <td>C123</td>\n",
       "      <td>S</td>\n",
       "    </tr>\n",
       "    <tr>\n",
       "      <th>5</th>\n",
       "      <td>0</td>\n",
       "      <td>3</td>\n",
       "      <td>Allen, Mr. William Henry</td>\n",
       "      <td>male</td>\n",
       "      <td>35.0</td>\n",
       "      <td>0</td>\n",
       "      <td>0</td>\n",
       "      <td>373450</td>\n",
       "      <td>8.0500</td>\n",
       "      <td>NaN</td>\n",
       "      <td>S</td>\n",
       "    </tr>\n",
       "  </tbody>\n",
       "</table>\n",
       "</div>"
      ],
      "text/plain": [
       "             Survived  Pclass  \\\n",
       "PassengerId                     \n",
       "1                   0       3   \n",
       "2                   1       1   \n",
       "3                   1       3   \n",
       "4                   1       1   \n",
       "5                   0       3   \n",
       "\n",
       "                                                          Name     Sex   Age  \\\n",
       "PassengerId                                                                    \n",
       "1                                      Braund, Mr. Owen Harris    male  22.0   \n",
       "2            Cumings, Mrs. John Bradley (Florence Briggs Th...  female  38.0   \n",
       "3                                       Heikkinen, Miss. Laina  female  26.0   \n",
       "4                 Futrelle, Mrs. Jacques Heath (Lily May Peel)  female  35.0   \n",
       "5                                     Allen, Mr. William Henry    male  35.0   \n",
       "\n",
       "             SibSp  Parch            Ticket     Fare Cabin Embarked  \n",
       "PassengerId                                                          \n",
       "1                1      0         A/5 21171   7.2500   NaN        S  \n",
       "2                1      0          PC 17599  71.2833   C85        C  \n",
       "3                0      0  STON/O2. 3101282   7.9250   NaN        S  \n",
       "4                1      0            113803  53.1000  C123        S  \n",
       "5                0      0            373450   8.0500   NaN        S  "
      ]
     },
     "execution_count": 3,
     "metadata": {},
     "output_type": "execute_result"
    }
   ],
   "source": [
    "#Visualize the first entries of the dataset\n",
    "train_data.head()\n",
    "#test_data.head()"
   ]
  },
  {
   "cell_type": "code",
   "execution_count": 4,
   "metadata": {
    "_cell_guid": "a3709adf-cffc-4c76-a758-597fd81b08cd",
    "_uuid": "0ab03ab3-10a6-4552-98a9-0138a8b87236",
    "execution": {
     "iopub.execute_input": "2021-05-19T10:55:24.870246Z",
     "iopub.status.busy": "2021-05-19T10:55:24.869394Z",
     "iopub.status.idle": "2021-05-19T10:55:24.891015Z",
     "shell.execute_reply": "2021-05-19T10:55:24.890608Z"
    },
    "jupyter": {
     "outputs_hidden": false
    },
    "papermill": {
     "duration": 0.067615,
     "end_time": "2021-05-19T10:55:24.891126",
     "exception": false,
     "start_time": "2021-05-19T10:55:24.823511",
     "status": "completed"
    },
    "tags": []
   },
   "outputs": [
    {
     "data": {
      "text/html": [
       "<div>\n",
       "<style scoped>\n",
       "    .dataframe tbody tr th:only-of-type {\n",
       "        vertical-align: middle;\n",
       "    }\n",
       "\n",
       "    .dataframe tbody tr th {\n",
       "        vertical-align: top;\n",
       "    }\n",
       "\n",
       "    .dataframe thead th {\n",
       "        text-align: right;\n",
       "    }\n",
       "</style>\n",
       "<table border=\"1\" class=\"dataframe\">\n",
       "  <thead>\n",
       "    <tr style=\"text-align: right;\">\n",
       "      <th></th>\n",
       "      <th>Survived</th>\n",
       "      <th>Pclass</th>\n",
       "      <th>Age</th>\n",
       "      <th>SibSp</th>\n",
       "      <th>Parch</th>\n",
       "      <th>Fare</th>\n",
       "    </tr>\n",
       "  </thead>\n",
       "  <tbody>\n",
       "    <tr>\n",
       "      <th>count</th>\n",
       "      <td>891.000000</td>\n",
       "      <td>891.000000</td>\n",
       "      <td>714.000000</td>\n",
       "      <td>891.000000</td>\n",
       "      <td>891.000000</td>\n",
       "      <td>891.000000</td>\n",
       "    </tr>\n",
       "    <tr>\n",
       "      <th>mean</th>\n",
       "      <td>0.383838</td>\n",
       "      <td>2.308642</td>\n",
       "      <td>29.699118</td>\n",
       "      <td>0.523008</td>\n",
       "      <td>0.381594</td>\n",
       "      <td>32.204208</td>\n",
       "    </tr>\n",
       "    <tr>\n",
       "      <th>std</th>\n",
       "      <td>0.486592</td>\n",
       "      <td>0.836071</td>\n",
       "      <td>14.526497</td>\n",
       "      <td>1.102743</td>\n",
       "      <td>0.806057</td>\n",
       "      <td>49.693429</td>\n",
       "    </tr>\n",
       "    <tr>\n",
       "      <th>min</th>\n",
       "      <td>0.000000</td>\n",
       "      <td>1.000000</td>\n",
       "      <td>0.420000</td>\n",
       "      <td>0.000000</td>\n",
       "      <td>0.000000</td>\n",
       "      <td>0.000000</td>\n",
       "    </tr>\n",
       "    <tr>\n",
       "      <th>25%</th>\n",
       "      <td>0.000000</td>\n",
       "      <td>2.000000</td>\n",
       "      <td>20.125000</td>\n",
       "      <td>0.000000</td>\n",
       "      <td>0.000000</td>\n",
       "      <td>7.910400</td>\n",
       "    </tr>\n",
       "    <tr>\n",
       "      <th>50%</th>\n",
       "      <td>0.000000</td>\n",
       "      <td>3.000000</td>\n",
       "      <td>28.000000</td>\n",
       "      <td>0.000000</td>\n",
       "      <td>0.000000</td>\n",
       "      <td>14.454200</td>\n",
       "    </tr>\n",
       "    <tr>\n",
       "      <th>75%</th>\n",
       "      <td>1.000000</td>\n",
       "      <td>3.000000</td>\n",
       "      <td>38.000000</td>\n",
       "      <td>1.000000</td>\n",
       "      <td>0.000000</td>\n",
       "      <td>31.000000</td>\n",
       "    </tr>\n",
       "    <tr>\n",
       "      <th>max</th>\n",
       "      <td>1.000000</td>\n",
       "      <td>3.000000</td>\n",
       "      <td>80.000000</td>\n",
       "      <td>8.000000</td>\n",
       "      <td>6.000000</td>\n",
       "      <td>512.329200</td>\n",
       "    </tr>\n",
       "  </tbody>\n",
       "</table>\n",
       "</div>"
      ],
      "text/plain": [
       "         Survived      Pclass         Age       SibSp       Parch        Fare\n",
       "count  891.000000  891.000000  714.000000  891.000000  891.000000  891.000000\n",
       "mean     0.383838    2.308642   29.699118    0.523008    0.381594   32.204208\n",
       "std      0.486592    0.836071   14.526497    1.102743    0.806057   49.693429\n",
       "min      0.000000    1.000000    0.420000    0.000000    0.000000    0.000000\n",
       "25%      0.000000    2.000000   20.125000    0.000000    0.000000    7.910400\n",
       "50%      0.000000    3.000000   28.000000    0.000000    0.000000   14.454200\n",
       "75%      1.000000    3.000000   38.000000    1.000000    0.000000   31.000000\n",
       "max      1.000000    3.000000   80.000000    8.000000    6.000000  512.329200"
      ]
     },
     "execution_count": 4,
     "metadata": {},
     "output_type": "execute_result"
    }
   ],
   "source": [
    "#Brief summary\n",
    "train_data.describe()\n",
    "#test_data.describe()"
   ]
  },
  {
   "cell_type": "code",
   "execution_count": 5,
   "metadata": {
    "_cell_guid": "8dcaf23f-2566-49df-9f81-513e3cd0410a",
    "_uuid": "b9b615bd-f46b-45ca-8e54-1a1b845fb03a",
    "execution": {
     "iopub.execute_input": "2021-05-19T10:55:24.975412Z",
     "iopub.status.busy": "2021-05-19T10:55:24.974631Z",
     "iopub.status.idle": "2021-05-19T10:55:24.978297Z",
     "shell.execute_reply": "2021-05-19T10:55:24.977868Z"
    },
    "jupyter": {
     "outputs_hidden": false
    },
    "papermill": {
     "duration": 0.047616,
     "end_time": "2021-05-19T10:55:24.978418",
     "exception": false,
     "start_time": "2021-05-19T10:55:24.930802",
     "status": "completed"
    },
    "tags": []
   },
   "outputs": [
    {
     "data": {
      "text/plain": [
       "Survived      0\n",
       "Pclass        0\n",
       "Name          0\n",
       "Sex           0\n",
       "Age         177\n",
       "SibSp         0\n",
       "Parch         0\n",
       "Ticket        0\n",
       "Fare          0\n",
       "Cabin       687\n",
       "Embarked      2\n",
       "dtype: int64"
      ]
     },
     "execution_count": 5,
     "metadata": {},
     "output_type": "execute_result"
    }
   ],
   "source": [
    "#Identify missing entries\n",
    "train_data.isnull().sum()\n",
    "#test_data.isnull().sum()"
   ]
  },
  {
   "cell_type": "markdown",
   "metadata": {
    "_cell_guid": "0ba68d4a-f9b7-40c6-8f4e-394cf8d73d93",
    "_uuid": "505658e0-8df6-44b4-b255-b8cf18695ea3",
    "papermill": {
     "duration": 0.038488,
     "end_time": "2021-05-19T10:55:25.055616",
     "exception": false,
     "start_time": "2021-05-19T10:55:25.017128",
     "status": "completed"
    },
    "tags": []
   },
   "source": [
    "## <a id='Link-SecDataExpl-GenAss'>General assesment of feature associations</a>\n",
    "\n",
    "First, let's peform a general assesment of assosiation (correlation) between different features.\n",
    "\n",
    "Since our dataset contains both numerical and categotical types of features, we will need to analyze 3 different types of association/correlation: a) categorical-categorical association, b) categorical-numerical association, c) numerical-numerical correlation. To estimate the corresponding associations, we will use the [dython](http://shakedzy.xyz/dython/) library (see [this link](https://towardsdatascience.com/the-search-for-categorical-correlation-a1cf7f1888c9) and [this kaggle notebook](https://www.kaggle.com/shakedzy/alone-in-the-woods-using-theil-s-u-for-survival) for more details about this library), which evaluates the following measures:\n",
    "\n",
    "* The _categorical-categorical_ feature association (e.g. 'Sex'-'Survived') is computed using the _Theil's U_ measure.\n",
    "* The _numerical-categorical_ feature association (e.g. 'Fare'-'Survived') is computed using the _correlation ratio_ measure called Eta. \n",
    "* The _numerical-numerical_ correlation (e.g. 'Fare'-'Age') is computed using the _Pearson's R_ measure.\n",
    "<a id='Fig1Link'></a>"
   ]
  },
  {
   "cell_type": "code",
   "execution_count": 6,
   "metadata": {
    "_cell_guid": "9efe7513-b53e-493d-80aa-500526525403",
    "_uuid": "bd332f49-2395-48e1-a998-9fea939c788b",
    "execution": {
     "iopub.execute_input": "2021-05-19T10:55:25.138921Z",
     "iopub.status.busy": "2021-05-19T10:55:25.138084Z",
     "iopub.status.idle": "2021-05-19T10:55:26.677464Z",
     "shell.execute_reply": "2021-05-19T10:55:26.676991Z"
    },
    "jupyter": {
     "outputs_hidden": false
    },
    "papermill": {
     "duration": 1.582928,
     "end_time": "2021-05-19T10:55:26.677599",
     "exception": false,
     "start_time": "2021-05-19T10:55:25.094671",
     "status": "completed"
    },
    "tags": []
   },
   "outputs": [
    {
     "data": {
      "image/png": "[encoded data removed]",
      "text/plain": [
       "<Figure size 1008x504 with 2 Axes>"
      ]
     },
     "metadata": {
      "needs_background": "light"
     },
     "output_type": "display_data"
    }
   ],
   "source": [
    "from dython.nominal import associations\n",
    "\n",
    "categorical_cols = ['Survived', 'Pclass', 'Sex', 'SibSp', \n",
    "                    'Parch', 'Ticket', 'Cabin', 'Embarked']\n",
    "\n",
    "fig1 = associations(train_data.drop(['Name'],axis=1), figsize=(14,7),\n",
    "                    theil_u=True, nominal_columns=categorical_cols,\n",
    "                    title='Fig. 1. Associations between features.',\n",
    "                    mark_columns=True);"
   ]
  },
  {
   "cell_type": "markdown",
   "metadata": {
    "_cell_guid": "655d270c-01e2-4b08-b116-001987640225",
    "_uuid": "dd430040-15a3-4190-9694-7de0ceeab07d",
    "papermill": {
     "duration": 0.039985,
     "end_time": "2021-05-19T10:55:26.758571",
     "exception": false,
     "start_time": "2021-05-19T10:55:26.718586",
     "status": "completed"
    },
    "tags": []
   },
   "source": [
    "We are interested in the output of the first column that shows assotiations between the survival rate and the rest of the features. There are several interesting observations that can be made:\n",
    "1. There is a very strong association between the 'Ticket' and 'Survived' columns.   \n",
    "2. The association between the 'Age' and 'Survived' features is surprisingly low (only 0.01). This needs to be checked.  \n",
    "3. The association between the 'Pclass' and 'Survived' seem to be quite low, too. On the other hand, the association between the 'Fare' and 'Survived' columns is much stronger. This needs to be understood.\n",
    "\n",
    "\n",
    "**1. The 'Ticket'-'Survived' association.**\n",
    "\n",
    "As it is shown below, the reason for such a high association (0.86) is due to 681 unique entries (out of 891) in the 'Ticket' column, resulting in a strong association between these columns. Most passengers had unique ticket numbers, therefore knowledge of their ticket number uniquely determines their survival.  "
   ]
  },
  {
   "cell_type": "code",
   "execution_count": 7,
   "metadata": {
    "execution": {
     "iopub.execute_input": "2021-05-19T10:55:26.847367Z",
     "iopub.status.busy": "2021-05-19T10:55:26.846569Z",
     "iopub.status.idle": "2021-05-19T10:55:26.876791Z",
     "shell.execute_reply": "2021-05-19T10:55:26.876269Z"
    },
    "papermill": {
     "duration": 0.078022,
     "end_time": "2021-05-19T10:55:26.876900",
     "exception": false,
     "start_time": "2021-05-19T10:55:26.798878",
     "status": "completed"
    },
    "tags": []
   },
   "outputs": [
    {
     "data": {
      "text/html": [
       "<div>\n",
       "<style scoped>\n",
       "    .dataframe tbody tr th:only-of-type {\n",
       "        vertical-align: middle;\n",
       "    }\n",
       "\n",
       "    .dataframe tbody tr th {\n",
       "        vertical-align: top;\n",
       "    }\n",
       "\n",
       "    .dataframe thead th {\n",
       "        text-align: right;\n",
       "    }\n",
       "</style>\n",
       "<table border=\"1\" class=\"dataframe\">\n",
       "  <thead>\n",
       "    <tr style=\"text-align: right;\">\n",
       "      <th></th>\n",
       "      <th>Name</th>\n",
       "      <th>Sex</th>\n",
       "      <th>Ticket</th>\n",
       "      <th>Cabin</th>\n",
       "      <th>Embarked</th>\n",
       "    </tr>\n",
       "  </thead>\n",
       "  <tbody>\n",
       "    <tr>\n",
       "      <th>count</th>\n",
       "      <td>891</td>\n",
       "      <td>891</td>\n",
       "      <td>891</td>\n",
       "      <td>204</td>\n",
       "      <td>889</td>\n",
       "    </tr>\n",
       "    <tr>\n",
       "      <th>unique</th>\n",
       "      <td>891</td>\n",
       "      <td>2</td>\n",
       "      <td>681</td>\n",
       "      <td>147</td>\n",
       "      <td>3</td>\n",
       "    </tr>\n",
       "    <tr>\n",
       "      <th>top</th>\n",
       "      <td>McCormack, Mr. Thomas Joseph</td>\n",
       "      <td>male</td>\n",
       "      <td>CA. 2343</td>\n",
       "      <td>G6</td>\n",
       "      <td>S</td>\n",
       "    </tr>\n",
       "    <tr>\n",
       "      <th>freq</th>\n",
       "      <td>1</td>\n",
       "      <td>577</td>\n",
       "      <td>7</td>\n",
       "      <td>4</td>\n",
       "      <td>644</td>\n",
       "    </tr>\n",
       "  </tbody>\n",
       "</table>\n",
       "</div>"
      ],
      "text/plain": [
       "                                Name   Sex    Ticket Cabin Embarked\n",
       "count                            891   891       891   204      889\n",
       "unique                           891     2       681   147        3\n",
       "top     McCormack, Mr. Thomas Joseph  male  CA. 2343    G6        S\n",
       "freq                               1   577         7     4      644"
      ]
     },
     "execution_count": 7,
     "metadata": {},
     "output_type": "execute_result"
    }
   ],
   "source": [
    "train_data.describe(include=['O'])"
   ]
  },
  {
   "cell_type": "markdown",
   "metadata": {
    "papermill": {
     "duration": 0.041146,
     "end_time": "2021-05-19T10:55:26.959352",
     "exception": false,
     "start_time": "2021-05-19T10:55:26.918206",
     "status": "completed"
    },
    "tags": []
   },
   "source": [
    "**2. The 'Age'-'Survived' association.**\n",
    "\n",
    "Let's take a closer look at passengers age data and check if the evaluated 0.01 association (displayed in [Fig. 1](#Fig1Link)) with the survaval rate makes sense. In order to visualize the survival vs age data, we define 6 age groups: 0-14, 14-28, ..., 70-84. (Check out [this turotial](https://www.kaggle.com/alexisbcook/bar-charts-and-heatmaps) to learn more about data visualization with python.) "
   ]
  },
  {
   "cell_type": "code",
   "execution_count": 8,
   "metadata": {
    "_cell_guid": "759f76f6-d16e-4c1e-a40c-266906a7f9d6",
    "_uuid": "e77a073a-2126-4531-94fc-30f15b889614",
    "execution": {
     "iopub.execute_input": "2021-05-19T10:55:27.056705Z",
     "iopub.status.busy": "2021-05-19T10:55:27.055839Z",
     "iopub.status.idle": "2021-05-19T10:55:27.442993Z",
     "shell.execute_reply": "2021-05-19T10:55:27.443407Z"
    },
    "jupyter": {
     "outputs_hidden": false
    },
    "papermill": {
     "duration": 0.443279,
     "end_time": "2021-05-19T10:55:27.443563",
     "exception": false,
     "start_time": "2021-05-19T10:55:27.000284",
     "status": "completed"
    },
    "tags": []
   },
   "outputs": [
    {
     "data": {
      "image/png": "[encoded data removed]",
      "text/plain": [
       "<Figure size 720x432 with 1 Axes>"
      ]
     },
     "metadata": {
      "needs_background": "light"
     },
     "output_type": "display_data"
    }
   ],
   "source": [
    "#Create a copy of the train dataset and create 6 age groups\n",
    "train_data_age_groups = train_data.copy()\n",
    "train_data_age_groups['Age'] = train_data_age_groups['Age']//14\n",
    "train_data_age_groups.fillna('unknown',inplace=True)\n",
    "\n",
    "#Create suplemental lists for the data visualization purposes\n",
    "order_list_fig2 = [0, 1, 2, 3, 4, 5, 'unknown']\n",
    "bar_counts_fig2 = [x for x in train_data_age_groups.Age.value_counts()[order_list_fig2]]\n",
    "\n",
    "#Visualize results\n",
    "plt.figure(figsize=(10,6))\n",
    "plt.title('Fig. 2. Chances of survival for different age groups.')\n",
    "fig2 = sns.barplot(x=\"Age\", y=\"Survived\", data=train_data_age_groups, \n",
    "                   order=order_list_fig2)\n",
    "plt.xlabel('Age group')\n",
    "plt.ylabel('Survival rate');\n",
    "fig2.set_xticklabels(['0-14', '14-28', '28-42', '42-56', \n",
    "                      '56-70', '70-84', 'unknown']);\n",
    "\n",
    "#Add value counts at the bar bottom\n",
    "for i, patch in enumerate(fig2.patches):\n",
    "    fig2.annotate(f'{patch.get_height()*bar_counts_fig2[i]:.0f}/{bar_counts_fig2[i]}', \n",
    "                  (patch.get_x() + patch.get_width() / 2., 0), \n",
    "                  ha = 'center', va = 'center', \n",
    "                  size=15, xytext = (0, 15), \n",
    "                  textcoords = 'offset points')"
   ]
  },
  {
   "cell_type": "markdown",
   "metadata": {
    "papermill": {
     "duration": 0.043266,
     "end_time": "2021-05-19T10:55:27.529788",
     "exception": false,
     "start_time": "2021-05-19T10:55:27.486522",
     "status": "completed"
    },
    "tags": []
   },
   "source": [
    "One can see that there seem to be some association between the survival rate and age groups. More specifically: \n",
    "* Children (0-14) are more likely to survive than other age groups. \n",
    "* Seniors (70-84) seem to have the smallest survival chances. Though, due to limited statistics, elderly's survival rate has large uncertainties. \n",
    "* Various adult age groups have very similar chances for survival. \n",
    "\n",
    "These results seem to contradict with the association coefficient (0.01) between the 'Age' and 'Survival' columns displayed in [Fig. 1](#Fig1Link). This is because the associations method of the dython.nominal module by default replaces all the 'NaN' values in the 'Age' column with 0. As a result, all the 'NaN' age values were prescribed to the 0-14 age group, thereby lovering the survival chances for children. If we now remove all the 'NaN' values in the 'Age' column, the association coefficient should increase. The visualisation below confirm this assumption."
   ]
  },
  {
   "cell_type": "code",
   "execution_count": 9,
   "metadata": {
    "_cell_guid": "b2ea53dd-abb5-43a4-a63a-e75000b8ebee",
    "_uuid": "f9c3e2af-3866-40f8-9dcb-d643204db339",
    "execution": {
     "iopub.execute_input": "2021-05-19T10:55:27.626663Z",
     "iopub.status.busy": "2021-05-19T10:55:27.625858Z",
     "iopub.status.idle": "2021-05-19T10:55:28.564330Z",
     "shell.execute_reply": "2021-05-19T10:55:28.564753Z"
    },
    "jupyter": {
     "outputs_hidden": false
    },
    "papermill": {
     "duration": 0.99257,
     "end_time": "2021-05-19T10:55:28.564917",
     "exception": false,
     "start_time": "2021-05-19T10:55:27.572347",
     "status": "completed"
    },
    "tags": []
   },
   "outputs": [
    {
     "data": {
      "image/png": "[encoded data removed]",
      "text/plain": [
       "<Figure size 1008x504 with 2 Axes>"
      ]
     },
     "metadata": {
      "needs_background": "light"
     },
     "output_type": "display_data"
    }
   ],
   "source": [
    "#Drop rows with NaN values in the 'Age' column \n",
    "train_data_no_nan_age = train_data.dropna(subset=['Age'])\n",
    "\n",
    "#Produce an updated associations table\n",
    "categorical_cols = ['Survived', 'Pclass', 'Sex', 'SibSp', \n",
    "                    'Parch', 'Ticket', 'Cabin', 'Embarked']\n",
    "fig3 = associations(train_data_no_nan_age.drop(['Name'],axis=1), figsize=(14,7), \n",
    "             theil_u=True, nominal_columns=categorical_cols,\n",
    "             title='Fig. 3. Feature associations (excluding \\'NaN\\' age entries).',\n",
    "             mark_columns=True);"
   ]
  },
  {
   "cell_type": "markdown",
   "metadata": {
    "papermill": {
     "duration": 0.044348,
     "end_time": "2021-05-19T10:55:28.654504",
     "exception": false,
     "start_time": "2021-05-19T10:55:28.610156",
     "status": "completed"
    },
    "tags": []
   },
   "source": [
    "**3. The 'Pclass'-'Survived' association.**\n",
    "\n",
    "Let's take a closer look at the 'Pclass' column and check if the corresponding association with the 'Survival' column makes sense. "
   ]
  },
  {
   "cell_type": "code",
   "execution_count": 10,
   "metadata": {
    "execution": {
     "iopub.execute_input": "2021-05-19T10:55:28.844462Z",
     "iopub.status.busy": "2021-05-19T10:55:28.841912Z",
     "iopub.status.idle": "2021-05-19T10:55:29.050929Z",
     "shell.execute_reply": "2021-05-19T10:55:29.051365Z"
    },
    "papermill": {
     "duration": 0.353094,
     "end_time": "2021-05-19T10:55:29.051511",
     "exception": false,
     "start_time": "2021-05-19T10:55:28.698417",
     "status": "completed"
    },
    "tags": []
   },
   "outputs": [
    {
     "data": {
      "image/png": "[encoded data removed]",
      "text/plain": [
       "<Figure size 720x504 with 1 Axes>"
      ]
     },
     "metadata": {
      "needs_background": "light"
     },
     "output_type": "display_data"
    }
   ],
   "source": [
    "#Create suplemental lists for data visualization purposes\n",
    "order_list_fig4 = [1, 2, 3]\n",
    "bar_counts_fig4 = [x for x in train_data.Pclass.value_counts()[order_list_fig4]]\n",
    "\n",
    "#Visualize results\n",
    "plt.figure(figsize=(10,7))\n",
    "plt.title('Fig. 4. Chances of survival for different passenger classes.')\n",
    "fig4 = sns.barplot(data=train_data, x='Pclass', y='Survived',\n",
    "                   order=order_list_fig4)\n",
    "plt.ylabel('Survival rate')\n",
    "plt.xlabel('Passengers class');\n",
    "\n",
    "for i, patch in enumerate(fig4.patches):\n",
    "    fig4.annotate(f'{patch.get_height()*bar_counts_fig4[i]:.0f}/{bar_counts_fig4[i]}', \n",
    "                  (patch.get_x() + patch.get_width() / 2., 0), \n",
    "                  ha = 'center', va = 'center', \n",
    "                  size=15, xytext = (0, 15), \n",
    "                  textcoords = 'offset points')"
   ]
  },
  {
   "cell_type": "markdown",
   "metadata": {
    "papermill": {
     "duration": 0.045353,
     "end_time": "2021-05-19T10:55:29.142759",
     "exception": false,
     "start_time": "2021-05-19T10:55:29.097406",
     "status": "completed"
    },
    "tags": []
   },
   "source": [
    "The association seem to be quite strong. The possible reason why the association coefficient in Fig. 4 is low is because we treat the pessenger class as a nominal categorical column. In fact, 'Pclass' is an ordinal column. It might be better to treat this column as numerical, so that the Eta correlation ratio is evaluated instead of the Thiel's U measure. Below, we can see that, indeed, the corresponding association coefficient increases when we treat the 'Pclass' column as numerical. The same observation can be made for the 'SibSp' and 'Parch' columns."
   ]
  },
  {
   "cell_type": "code",
   "execution_count": 11,
   "metadata": {
    "execution": {
     "iopub.execute_input": "2021-05-19T10:55:29.239645Z",
     "iopub.status.busy": "2021-05-19T10:55:29.238805Z",
     "iopub.status.idle": "2021-05-19T10:55:30.210020Z",
     "shell.execute_reply": "2021-05-19T10:55:30.210434Z"
    },
    "papermill": {
     "duration": 1.022177,
     "end_time": "2021-05-19T10:55:30.210589",
     "exception": false,
     "start_time": "2021-05-19T10:55:29.188412",
     "status": "completed"
    },
    "tags": []
   },
   "outputs": [
    {
     "data": {
      "image/png": "[encoded data removed]",
      "text/plain": [
       "<Figure size 1008x504 with 2 Axes>"
      ]
     },
     "metadata": {
      "needs_background": "light"
     },
     "output_type": "display_data"
    }
   ],
   "source": [
    "# Produce an associations table\n",
    "categorical_cols = ['Survived', 'Sex','Ticket', 'Cabin', 'Embarked']\n",
    "fig5 = associations(train_data.drop(['Name'],axis=1), figsize=(14,7), \n",
    "             theil_u=True, nominal_columns=categorical_cols,\n",
    "             title='Fig. 5. Associations between features',\n",
    "             mark_columns=True);"
   ]
  },
  {
   "cell_type": "markdown",
   "metadata": {
    "_cell_guid": "8198a353-9a6a-4f8b-85f4-8f3510e7f9cf",
    "_uuid": "141ec086-55d1-49e9-ab6b-0dceef9bba0c",
    "papermill": {
     "duration": 0.047571,
     "end_time": "2021-05-19T10:55:30.305651",
     "exception": false,
     "start_time": "2021-05-19T10:55:30.258080",
     "status": "completed"
    },
    "tags": []
   },
   "source": [
    "# <a id='Link-SecImp'>Data imputation</a>\n",
    "\n",
    "## <a id='Link-SecImp-Emb'>Embarked feature</a>\n",
    "\n",
    "We will start with imputing the 'Embarked' column.\n",
    "\n",
    "First, we visualize the corresponding data and notice that there are only 2 'NaN' values in the 'Embarked' column."
   ]
  },
  {
   "cell_type": "code",
   "execution_count": 12,
   "metadata": {
    "_cell_guid": "9d47fa44-7caa-4ed2-a782-ef155054bf8e",
    "_uuid": "19898c58-b096-4aa9-9090-b8a3e86e8bc0",
    "execution": {
     "iopub.execute_input": "2021-05-19T10:55:30.425770Z",
     "iopub.status.busy": "2021-05-19T10:55:30.424891Z",
     "iopub.status.idle": "2021-05-19T10:55:30.669859Z",
     "shell.execute_reply": "2021-05-19T10:55:30.670276Z"
    },
    "jupyter": {
     "outputs_hidden": false
    },
    "papermill": {
     "duration": 0.317123,
     "end_time": "2021-05-19T10:55:30.670445",
     "exception": false,
     "start_time": "2021-05-19T10:55:30.353322",
     "status": "completed"
    },
    "tags": []
   },
   "outputs": [
    {
     "data": {
      "image/png": "[encoded data removed]",
      "text/plain": [
       "<Figure size 720x432 with 1 Axes>"
      ]
     },
     "metadata": {
      "needs_background": "light"
     },
     "output_type": "display_data"
    }
   ],
   "source": [
    "#Create a copy of the train dataset \n",
    "train_data_emb = train_data.copy()\n",
    "train_data_emb.fillna('unknown',inplace=True)\n",
    "\n",
    "#Create suplemental lists for the data visualization purposes\n",
    "order_list_fig6 = ['C', 'Q', 'S', 'unknown']\n",
    "bar_counts_fig6 = [x for x in train_data_emb.Embarked.value_counts()[order_list_fig6]]\n",
    "\n",
    "#Visualize data\n",
    "plt.figure(figsize=(10,6))\n",
    "plt.title('Fig. 6. Chances of survival for different ports of embarkation.')\n",
    "fig6 = sns.barplot(data=train_data_emb, x='Embarked', y='Survived', \n",
    "                   order=order_list_fig6)\n",
    "plt.ylabel('Survival rate')\n",
    "\n",
    "for i, patch in enumerate(fig6.patches):\n",
    "    fig6.annotate(f'{patch.get_height()*bar_counts_fig6[i]:.0f}/{bar_counts_fig6[i]}', \n",
    "                  (patch.get_x() + patch.get_width()/2., 0), \n",
    "                  ha = 'center', va = 'center', \n",
    "                  size=15, xytext = (0, 15), \n",
    "                  textcoords = 'offset points')"
   ]
  },
  {
   "cell_type": "markdown",
   "metadata": {
    "_cell_guid": "db4b2a78-8216-47b9-a1d7-f0e0e9f5bc93",
    "_uuid": "ff4a5770-473f-4d3f-bbde-9ed59dfba8fd",
    "papermill": {
     "duration": 0.049234,
     "end_time": "2021-05-19T10:55:30.768937",
     "exception": false,
     "start_time": "2021-05-19T10:55:30.719703",
     "status": "completed"
    },
    "tags": []
   },
   "source": [
    "Below, we take a closer look at the entries with the 'NaN' value in the 'Embarked' column. We notice that both passengers had 1st class tickets, were lodged in zone B, and payed 80 for their tickets."
   ]
  },
  {
   "cell_type": "code",
   "execution_count": 13,
   "metadata": {
    "_cell_guid": "b6d16ffe-ae14-4f69-b76e-47f14e4d990b",
    "_uuid": "bd8aa43e-9576-455c-9390-ed289cf26cba",
    "execution": {
     "iopub.execute_input": "2021-05-19T10:55:30.880066Z",
     "iopub.status.busy": "2021-05-19T10:55:30.879080Z",
     "iopub.status.idle": "2021-05-19T10:55:30.882996Z",
     "shell.execute_reply": "2021-05-19T10:55:30.883606Z"
    },
    "jupyter": {
     "outputs_hidden": false
    },
    "papermill": {
     "duration": 0.066191,
     "end_time": "2021-05-19T10:55:30.883743",
     "exception": false,
     "start_time": "2021-05-19T10:55:30.817552",
     "status": "completed"
    },
    "tags": []
   },
   "outputs": [
    {
     "data": {
      "text/html": [
       "<div>\n",
       "<style scoped>\n",
       "    .dataframe tbody tr th:only-of-type {\n",
       "        vertical-align: middle;\n",
       "    }\n",
       "\n",
       "    .dataframe tbody tr th {\n",
       "        vertical-align: top;\n",
       "    }\n",
       "\n",
       "    .dataframe thead th {\n",
       "        text-align: right;\n",
       "    }\n",
       "</style>\n",
       "<table border=\"1\" class=\"dataframe\">\n",
       "  <thead>\n",
       "    <tr style=\"text-align: right;\">\n",
       "      <th></th>\n",
       "      <th>Survived</th>\n",
       "      <th>Pclass</th>\n",
       "      <th>Name</th>\n",
       "      <th>Sex</th>\n",
       "      <th>Age</th>\n",
       "      <th>SibSp</th>\n",
       "      <th>Parch</th>\n",
       "      <th>Ticket</th>\n",
       "      <th>Fare</th>\n",
       "      <th>Cabin</th>\n",
       "      <th>Embarked</th>\n",
       "    </tr>\n",
       "    <tr>\n",
       "      <th>PassengerId</th>\n",
       "      <th></th>\n",
       "      <th></th>\n",
       "      <th></th>\n",
       "      <th></th>\n",
       "      <th></th>\n",
       "      <th></th>\n",
       "      <th></th>\n",
       "      <th></th>\n",
       "      <th></th>\n",
       "      <th></th>\n",
       "      <th></th>\n",
       "    </tr>\n",
       "  </thead>\n",
       "  <tbody>\n",
       "    <tr>\n",
       "      <th>62</th>\n",
       "      <td>1</td>\n",
       "      <td>1</td>\n",
       "      <td>Icard, Miss. Amelie</td>\n",
       "      <td>female</td>\n",
       "      <td>38.0</td>\n",
       "      <td>0</td>\n",
       "      <td>0</td>\n",
       "      <td>113572</td>\n",
       "      <td>80.0</td>\n",
       "      <td>B28</td>\n",
       "      <td>NaN</td>\n",
       "    </tr>\n",
       "    <tr>\n",
       "      <th>830</th>\n",
       "      <td>1</td>\n",
       "      <td>1</td>\n",
       "      <td>Stone, Mrs. George Nelson (Martha Evelyn)</td>\n",
       "      <td>female</td>\n",
       "      <td>62.0</td>\n",
       "      <td>0</td>\n",
       "      <td>0</td>\n",
       "      <td>113572</td>\n",
       "      <td>80.0</td>\n",
       "      <td>B28</td>\n",
       "      <td>NaN</td>\n",
       "    </tr>\n",
       "  </tbody>\n",
       "</table>\n",
       "</div>"
      ],
      "text/plain": [
       "             Survived  Pclass                                       Name  \\\n",
       "PassengerId                                                                \n",
       "62                  1       1                        Icard, Miss. Amelie   \n",
       "830                 1       1  Stone, Mrs. George Nelson (Martha Evelyn)   \n",
       "\n",
       "                Sex   Age  SibSp  Parch  Ticket  Fare Cabin Embarked  \n",
       "PassengerId                                                           \n",
       "62           female  38.0      0      0  113572  80.0   B28      NaN  \n",
       "830          female  62.0      0      0  113572  80.0   B28      NaN  "
      ]
     },
     "execution_count": 13,
     "metadata": {},
     "output_type": "execute_result"
    }
   ],
   "source": [
    "train_data[train_data.Embarked.isnull()]"
   ]
  },
  {
   "cell_type": "markdown",
   "metadata": {
    "_cell_guid": "05cbc07a-8087-4087-b73c-4e71fe83e156",
    "_uuid": "3b925684-6038-4662-a533-60fc591fd9e1",
    "papermill": {
     "duration": 0.099404,
     "end_time": "2021-05-19T10:55:31.031873",
     "exception": false,
     "start_time": "2021-05-19T10:55:30.932469",
     "status": "completed"
    },
    "tags": []
   },
   "source": [
    "Let us now investigate the ticket price distribution for all 1st class passengers lodged in zone B."
   ]
  },
  {
   "cell_type": "code",
   "execution_count": 14,
   "metadata": {
    "_cell_guid": "870983f5-4c30-47de-898e-871118291475",
    "_uuid": "b8ff1fc4-2c83-481a-8ded-df8bb863c29a",
    "execution": {
     "iopub.execute_input": "2021-05-19T10:55:31.209019Z",
     "iopub.status.busy": "2021-05-19T10:55:31.208074Z",
     "iopub.status.idle": "2021-05-19T10:55:31.893219Z",
     "shell.execute_reply": "2021-05-19T10:55:31.892392Z"
    },
    "jupyter": {
     "outputs_hidden": false
    },
    "papermill": {
     "duration": 0.775651,
     "end_time": "2021-05-19T10:55:31.893365",
     "exception": false,
     "start_time": "2021-05-19T10:55:31.117714",
     "status": "completed"
    },
    "tags": []
   },
   "outputs": [
    {
     "data": {
      "image/png": "[encoded data removed]",
      "text/plain": [
       "<Figure size 720x432 with 1 Axes>"
      ]
     },
     "metadata": {
      "needs_background": "light"
     },
     "output_type": "display_data"
    }
   ],
   "source": [
    "#Select appropriate rows\n",
    "first_class_cabB = train_data[(train_data.Pclass == 1) & \n",
    "                              (train_data['Cabin'].str.contains('B'))]\n",
    "\n",
    "#Visualize the distribution of 'Fare' for zone B\n",
    "plt.figure(figsize=(10, 6))\n",
    "plt.title('Fig. 7. First class passengers with a cabin in zone B.')\n",
    "fig7 = sns.histplot(data=first_class_cabB, x='Fare', hue='Embarked', \n",
    "                    kde=False, binwidth=5)\n",
    "plt.xlim([0,100]);"
   ]
  },
  {
   "cell_type": "markdown",
   "metadata": {
    "_cell_guid": "b05d5e87-36ce-47da-acac-637d6f3b23ca",
    "_uuid": "8b08a38d-2721-4e05-8663-06468e70981b",
    "papermill": {
     "duration": 0.049405,
     "end_time": "2021-05-19T10:55:31.992475",
     "exception": false,
     "start_time": "2021-05-19T10:55:31.943070",
     "status": "completed"
    },
    "tags": []
   },
   "source": [
    "Among the 1st class passengers in the zone B who payed between 60 and 80 for their tickets, 6 embarked in 'C', while only 2 embarked in 'S'. We conclude that most likely the two passengers of our interest belonged to the 'Embarked' == 'C' category. To check this assumption further, we study the ticket price distribution for the 1st class passengers embarked in 'C' and 'S', independently of their lodging zone."
   ]
  },
  {
   "cell_type": "code",
   "execution_count": 15,
   "metadata": {
    "_cell_guid": "b24df75a-fc7a-4410-bfa9-8e1eed24b387",
    "_uuid": "47d87046-a0a3-487f-b870-80af7ca2e635",
    "execution": {
     "iopub.execute_input": "2021-05-19T10:55:32.120158Z",
     "iopub.status.busy": "2021-05-19T10:55:32.118925Z",
     "iopub.status.idle": "2021-05-19T10:55:32.625979Z",
     "shell.execute_reply": "2021-05-19T10:55:32.626394Z"
    },
    "jupyter": {
     "outputs_hidden": false
    },
    "papermill": {
     "duration": 0.584447,
     "end_time": "2021-05-19T10:55:32.626551",
     "exception": false,
     "start_time": "2021-05-19T10:55:32.042104",
     "status": "completed"
    },
    "tags": []
   },
   "outputs": [
    {
     "data": {
      "image/png": "[encoded data removed]",
      "text/plain": [
       "<Figure size 1008x504 with 2 Axes>"
      ]
     },
     "metadata": {
      "needs_background": "light"
     },
     "output_type": "display_data"
    }
   ],
   "source": [
    "#1st class passengers emparked in Southampton \n",
    "first_class_embS = train_data[(train_data.Pclass == 1) &\n",
    "                              (train_data.Embarked.str.contains('S'))]\n",
    "\n",
    "#1st class passengers emparked in Cherbourg\n",
    "first_class_embC = train_data[(train_data.Pclass == 1) & \n",
    "                              (train_data.Embarked.str.contains('C'))]\n",
    "\n",
    "fig, axes = plt.subplots(1, 2, figsize=(14,7))\n",
    "\n",
    "fig8a = sns.histplot(x=first_class_embC.Fare, ax=axes[0], kde=True, binwidth=5)\n",
    "axes[0].set_xlim([0,150])\n",
    "axes[0].set_title('Fig. 8a. First class passengers embarked in (C)herbourg.')\n",
    "\n",
    "fig8b = sns.histplot(x=first_class_embS['Fare'], ax=axes[1], kde=True, binwidth=5)\n",
    "axes[1].set_xlim([0,150])\n",
    "axes[1].set_title('Fig. 8b. First class passengers embarked in (S)outhampton.');"
   ]
  },
  {
   "cell_type": "markdown",
   "metadata": {
    "_cell_guid": "f2b2b567-09f6-4e8b-965f-a5af821fc730",
    "_uuid": "f0e93c68-517b-4178-9f9b-e7b3f2f8d663",
    "papermill": {
     "duration": 0.050741,
     "end_time": "2021-05-19T10:55:32.728374",
     "exception": false,
     "start_time": "2021-05-19T10:55:32.677633",
     "status": "completed"
    },
    "tags": []
   },
   "source": [
    "These plots don't bring a definitive answer for passengers who payed ~80 for their tickets, so we stick to our previous conclusion and impute the corresponding 'NaN' values with 'C'."
   ]
  },
  {
   "cell_type": "code",
   "execution_count": 16,
   "metadata": {
    "_cell_guid": "263f894b-bd1c-4061-b332-9f23203d691f",
    "_uuid": "7aa1adbf-b000-4083-bacf-15a7af2c0190",
    "execution": {
     "iopub.execute_input": "2021-05-19T10:55:32.834140Z",
     "iopub.status.busy": "2021-05-19T10:55:32.833556Z",
     "iopub.status.idle": "2021-05-19T10:55:32.836910Z",
     "shell.execute_reply": "2021-05-19T10:55:32.837468Z"
    },
    "jupyter": {
     "outputs_hidden": false
    },
    "papermill": {
     "duration": 0.059086,
     "end_time": "2021-05-19T10:55:32.837678",
     "exception": false,
     "start_time": "2021-05-19T10:55:32.778592",
     "status": "completed"
    },
    "tags": []
   },
   "outputs": [],
   "source": [
    "train_data_imputed = train_data.copy() \n",
    "train_data_imputed.Embarked.fillna('C',inplace=True)\n",
    "#train_data_imputed.isnull().sum()"
   ]
  },
  {
   "cell_type": "markdown",
   "metadata": {
    "_cell_guid": "3de4ccb5-ae61-451d-ab59-b6998af6a4a9",
    "_uuid": "ccd94896-4bce-4ac7-a412-1dfe99096770",
    "papermill": {
     "duration": 0.052086,
     "end_time": "2021-05-19T10:55:32.940063",
     "exception": false,
     "start_time": "2021-05-19T10:55:32.887977",
     "status": "completed"
    },
    "tags": []
   },
   "source": [
    "## <a id='Link-SecImp-Cabin'>Cabin feature</a>\n",
    "\n",
    "In [Section 3.1](#Link-SecDataExpl-Examine), we observed that the number of 'NaN' entries in the 'Cabin' column of the training dataset is huge (~77%). The initial guess would be to drop entirely this column from our analysis. However, the code below suggests that the chances of survival for a person with a 'NaN' value in the 'Cabin' column are considerably lower than those for a person with a known cabin."
   ]
  },
  {
   "cell_type": "code",
   "execution_count": 17,
   "metadata": {
    "execution": {
     "iopub.execute_input": "2021-05-19T10:55:33.055185Z",
     "iopub.status.busy": "2021-05-19T10:55:33.054614Z",
     "iopub.status.idle": "2021-05-19T10:55:33.059326Z",
     "shell.execute_reply": "2021-05-19T10:55:33.058492Z"
    },
    "papermill": {
     "duration": 0.066859,
     "end_time": "2021-05-19T10:55:33.059452",
     "exception": false,
     "start_time": "2021-05-19T10:55:32.992593",
     "status": "completed"
    },
    "tags": []
   },
   "outputs": [
    {
     "name": "stdout",
     "output_type": "stream",
     "text": [
      "Probability to survive with known cabin is 66.7%!\n",
      "Probability to survive with unknown cabin is only 30.0%.\n"
     ]
    }
   ],
   "source": [
    "num_surv_cab_notnull = len(train_data[(train_data.Cabin.notnull()) & \n",
    "                                      (train_data.Survived == 1)])\n",
    "num_died_cab_notnull = len(train_data[(train_data.Cabin.notnull()) & \n",
    "                                      (train_data.Survived == 0)])\n",
    "tot_cab_notnull = num_surv_cab_notnull + num_died_cab_notnull\n",
    "print('Probability to survive with known cabin is ' \n",
    "      f'{num_surv_cab_notnull/tot_cab_notnull*100:.1f}%!')\n",
    "\n",
    "num_surv_cab_null = len(train_data[(train_data.Cabin.isnull()) & \n",
    "                                   (train_data.Survived == 1)])\n",
    "num_died_cab_null = len(train_data[(train_data.Cabin.isnull()) & \n",
    "                                   (train_data.Survived == 0)])\n",
    "tot_cab_null = num_surv_cab_null + num_died_cab_null\n",
    "print('Probability to survive with unknown cabin is only ' \n",
    "      f'{num_surv_cab_null/tot_cab_null*100:.1f}%.')"
   ]
  },
  {
   "cell_type": "markdown",
   "metadata": {
    "papermill": {
     "duration": 0.051578,
     "end_time": "2021-05-19T10:55:33.163031",
     "exception": false,
     "start_time": "2021-05-19T10:55:33.111453",
     "status": "completed"
    },
    "tags": []
   },
   "source": [
    "In the same time, the average survival rate in the training dataset, as visualized below, is 38.4%."
   ]
  },
  {
   "cell_type": "code",
   "execution_count": 18,
   "metadata": {
    "_cell_guid": "393b8402-da24-42b1-941b-620b6295fca8",
    "_uuid": "c6da072b-799e-4319-9ceb-fbb9982a174f",
    "execution": {
     "iopub.execute_input": "2021-05-19T10:55:33.290761Z",
     "iopub.status.busy": "2021-05-19T10:55:33.289930Z",
     "iopub.status.idle": "2021-05-19T10:55:33.400638Z",
     "shell.execute_reply": "2021-05-19T10:55:33.401031Z"
    },
    "jupyter": {
     "outputs_hidden": false
    },
    "papermill": {
     "duration": 0.187018,
     "end_time": "2021-05-19T10:55:33.401180",
     "exception": false,
     "start_time": "2021-05-19T10:55:33.214162",
     "status": "completed"
    },
    "tags": []
   },
   "outputs": [
    {
     "data": {
      "image/png": "[encoded data removed]",
      "text/plain": [
       "<Figure size 720x432 with 1 Axes>"
      ]
     },
     "metadata": {
      "needs_background": "light"
     },
     "output_type": "display_data"
    }
   ],
   "source": [
    "#Create a copy of the train dataset to rename survival groups for the data visualization purposes\n",
    "train_data_survival = train_data.copy()\n",
    "train_data_survival['Survived'].replace(0, 'No',inplace=True) \n",
    "train_data_survival['Survived'].replace(1, 'Yes',inplace=True)\n",
    "\n",
    "#Create suplemental lists for the data visualization purposes\n",
    "colors=['C0','C1']\n",
    "bar_counts_fig9 = [x for x in train_data_survival.Survived.value_counts()]\n",
    "\n",
    "#Visualize the survival data \n",
    "plt.figure(figsize=(10, 6))\n",
    "plt.title('Fig. 9. Survival probability.')\n",
    "fig9 = sns.histplot(train_data_survival,  x='Survived', stat='probability')\n",
    "for i, patch in enumerate(fig9.patches):\n",
    "    patch.set_facecolor(colors[i])\n",
    "    fig9.annotate(f'{bar_counts_fig9[i]:.0f}/{sum(bar_counts_fig9)}', \n",
    "                  (patch.get_x() + patch.get_width() / 2., 0), \n",
    "                  ha = 'center', va = 'center', \n",
    "                  size=15, xytext = (0, 15), \n",
    "                  textcoords = 'offset points')"
   ]
  },
  {
   "cell_type": "markdown",
   "metadata": {
    "_cell_guid": "a1431351-79ef-4808-8c5f-4afbf7c41127",
    "_uuid": "c9b77a6b-1f28-44d8-b20a-ec7eaff5821d",
    "papermill": {
     "duration": 0.053598,
     "end_time": "2021-05-19T10:55:33.506964",
     "exception": false,
     "start_time": "2021-05-19T10:55:33.453366",
     "status": "completed"
    },
    "tags": []
   },
   "source": [
    "Given this, we decide to mark the 'NaN' cabin values (in training and testing datasets) as 'unknown' and this marking should help our model to lower the survival chances for entries with the 'NaN' values in the 'Cabin' column."
   ]
  },
  {
   "cell_type": "code",
   "execution_count": 19,
   "metadata": {
    "_cell_guid": "d07f5333-060b-4918-8453-bfcb75e01a46",
    "_uuid": "50b9e9d4-d4c1-4d80-8e2d-8cb7aefa657a",
    "execution": {
     "iopub.execute_input": "2021-05-19T10:55:33.620155Z",
     "iopub.status.busy": "2021-05-19T10:55:33.619415Z",
     "iopub.status.idle": "2021-05-19T10:55:33.622681Z",
     "shell.execute_reply": "2021-05-19T10:55:33.623047Z"
    },
    "jupyter": {
     "outputs_hidden": false
    },
    "papermill": {
     "duration": 0.063796,
     "end_time": "2021-05-19T10:55:33.623179",
     "exception": false,
     "start_time": "2021-05-19T10:55:33.559383",
     "status": "completed"
    },
    "tags": []
   },
   "outputs": [
    {
     "data": {
      "text/plain": [
       "Survived      0\n",
       "Pclass        0\n",
       "Name          0\n",
       "Sex           0\n",
       "Age         177\n",
       "SibSp         0\n",
       "Parch         0\n",
       "Ticket        0\n",
       "Fare          0\n",
       "Cabin         0\n",
       "Embarked      0\n",
       "dtype: int64"
      ]
     },
     "execution_count": 19,
     "metadata": {},
     "output_type": "execute_result"
    }
   ],
   "source": [
    "test_data_imputed = test_data.copy()\n",
    "test_data_imputed.Cabin.fillna('unknown', inplace=True)\n",
    "\n",
    "train_data_imputed.Cabin.fillna('unknown', inplace=True)\n",
    "train_data_imputed.isnull().sum()"
   ]
  },
  {
   "cell_type": "markdown",
   "metadata": {
    "_cell_guid": "9f606888-539f-4853-acaa-a6f0e35ab443",
    "_uuid": "2f404cc3-2a0e-4134-8327-a583c51e0418",
    "papermill": {
     "duration": 0.052466,
     "end_time": "2021-05-19T10:55:33.728475",
     "exception": false,
     "start_time": "2021-05-19T10:55:33.676009",
     "status": "completed"
    },
    "tags": []
   },
   "source": [
    "## <a id='Link-SecImp-Age'>Age feature</a>\n",
    "\n",
    "Now, we will proceed to impute the missing values in the 'Age' column.\n",
    "\n",
    "First, we check below if passengers with 'NaN' values in the 'Age' column had different survival chances than those with known age."
   ]
  },
  {
   "cell_type": "code",
   "execution_count": 20,
   "metadata": {
    "_cell_guid": "807e5bff-6e97-47df-918d-4914cc2b2378",
    "_uuid": "06a45ecb-a66a-426d-aa3d-2f1d48ca1361",
    "execution": {
     "iopub.execute_input": "2021-05-19T10:55:33.843881Z",
     "iopub.status.busy": "2021-05-19T10:55:33.843201Z",
     "iopub.status.idle": "2021-05-19T10:55:33.847121Z",
     "shell.execute_reply": "2021-05-19T10:55:33.846730Z"
    },
    "jupyter": {
     "outputs_hidden": false
    },
    "papermill": {
     "duration": 0.066649,
     "end_time": "2021-05-19T10:55:33.847230",
     "exception": false,
     "start_time": "2021-05-19T10:55:33.780581",
     "status": "completed"
    },
    "tags": []
   },
   "outputs": [
    {
     "name": "stdout",
     "output_type": "stream",
     "text": [
      "Probability to survive with known age is 40.6%\n",
      "Probability to survive with unknown age is 29.4%\n"
     ]
    }
   ],
   "source": [
    "num_surv_age_notnull = len(train_data[(train_data.Age.notnull()) & \n",
    "                                      (train_data.Survived == 1)])\n",
    "num_died_age_notnull = len(train_data[(train_data.Age.notnull()) & \n",
    "                                      (train_data.Survived == 0)])\n",
    "tot_age_notnull = num_surv_age_notnull + num_died_age_notnull\n",
    "print('Probability to survive with known age is '\n",
    "      f'{num_surv_age_notnull/tot_age_notnull*100:.1f}%')\n",
    "\n",
    "num_surv_age_null = len(train_data[(train_data.Age.isnull()) & \n",
    "                                   (train_data.Survived == 1)])\n",
    "num_died_age_null = len(train_data[(train_data.Age.isnull()) & \n",
    "                                   (train_data.Survived == 0)])\n",
    "tot_age_null = num_surv_age_null + num_died_age_null\n",
    "print('Probability to survive with unknown age is '\n",
    "      f'{num_surv_age_null/tot_age_null*100:.1f}%')"
   ]
  },
  {
   "cell_type": "markdown",
   "metadata": {
    "_cell_guid": "1f68d2eb-e69c-40bc-b3a2-fbf98c5f493c",
    "_uuid": "164bd00e-c782-494a-9682-27fc9848d832",
    "papermill": {
     "duration": 0.052141,
     "end_time": "2021-05-19T10:55:33.951896",
     "exception": false,
     "start_time": "2021-05-19T10:55:33.899755",
     "status": "completed"
    },
    "tags": []
   },
   "source": [
    "This means that there is a slight association between known (unknown) age and survival rate. Therefore, before imputing the unknown ages with numerical values, we will add an extra (boolean) column indicating that the age was missing, as discussed in one of the [Intermediate Machine Learning courses](https://www.kaggle.com/alexisbcook/missing-values). There is a chance that this extra column may improve the accuracy of our model. Below, we will work with training and test data because both contain 'NaN' age values."
   ]
  },
  {
   "cell_type": "code",
   "execution_count": 21,
   "metadata": {
    "_cell_guid": "3d0110a6-4e2b-4974-86a5-bd9e36ce1473",
    "_uuid": "e9af3ad7-1fed-43f1-b660-460849bafd65",
    "execution": {
     "iopub.execute_input": "2021-05-19T10:55:34.079366Z",
     "iopub.status.busy": "2021-05-19T10:55:34.078698Z",
     "iopub.status.idle": "2021-05-19T10:55:34.081695Z",
     "shell.execute_reply": "2021-05-19T10:55:34.082235Z"
    },
    "jupyter": {
     "outputs_hidden": false
    },
    "papermill": {
     "duration": 0.078061,
     "end_time": "2021-05-19T10:55:34.082386",
     "exception": false,
     "start_time": "2021-05-19T10:55:34.004325",
     "status": "completed"
    },
    "tags": []
   },
   "outputs": [
    {
     "data": {
      "text/html": [
       "<div>\n",
       "<style scoped>\n",
       "    .dataframe tbody tr th:only-of-type {\n",
       "        vertical-align: middle;\n",
       "    }\n",
       "\n",
       "    .dataframe tbody tr th {\n",
       "        vertical-align: top;\n",
       "    }\n",
       "\n",
       "    .dataframe thead th {\n",
       "        text-align: right;\n",
       "    }\n",
       "</style>\n",
       "<table border=\"1\" class=\"dataframe\">\n",
       "  <thead>\n",
       "    <tr style=\"text-align: right;\">\n",
       "      <th></th>\n",
       "      <th>Pclass</th>\n",
       "      <th>Name</th>\n",
       "      <th>Sex</th>\n",
       "      <th>Age</th>\n",
       "      <th>SibSp</th>\n",
       "      <th>Parch</th>\n",
       "      <th>Ticket</th>\n",
       "      <th>Fare</th>\n",
       "      <th>Cabin</th>\n",
       "      <th>Embarked</th>\n",
       "      <th>Age_was_missing</th>\n",
       "    </tr>\n",
       "    <tr>\n",
       "      <th>PassengerId</th>\n",
       "      <th></th>\n",
       "      <th></th>\n",
       "      <th></th>\n",
       "      <th></th>\n",
       "      <th></th>\n",
       "      <th></th>\n",
       "      <th></th>\n",
       "      <th></th>\n",
       "      <th></th>\n",
       "      <th></th>\n",
       "      <th></th>\n",
       "    </tr>\n",
       "  </thead>\n",
       "  <tbody>\n",
       "    <tr>\n",
       "      <th>1305</th>\n",
       "      <td>3</td>\n",
       "      <td>Spector, Mr. Woolf</td>\n",
       "      <td>male</td>\n",
       "      <td>NaN</td>\n",
       "      <td>0</td>\n",
       "      <td>0</td>\n",
       "      <td>A.5. 3236</td>\n",
       "      <td>8.0500</td>\n",
       "      <td>unknown</td>\n",
       "      <td>S</td>\n",
       "      <td>True</td>\n",
       "    </tr>\n",
       "    <tr>\n",
       "      <th>1306</th>\n",
       "      <td>1</td>\n",
       "      <td>Oliva y Ocana, Dona. Fermina</td>\n",
       "      <td>female</td>\n",
       "      <td>39.0</td>\n",
       "      <td>0</td>\n",
       "      <td>0</td>\n",
       "      <td>PC 17758</td>\n",
       "      <td>108.9000</td>\n",
       "      <td>C105</td>\n",
       "      <td>C</td>\n",
       "      <td>False</td>\n",
       "    </tr>\n",
       "    <tr>\n",
       "      <th>1307</th>\n",
       "      <td>3</td>\n",
       "      <td>Saether, Mr. Simon Sivertsen</td>\n",
       "      <td>male</td>\n",
       "      <td>38.5</td>\n",
       "      <td>0</td>\n",
       "      <td>0</td>\n",
       "      <td>SOTON/O.Q. 3101262</td>\n",
       "      <td>7.2500</td>\n",
       "      <td>unknown</td>\n",
       "      <td>S</td>\n",
       "      <td>False</td>\n",
       "    </tr>\n",
       "    <tr>\n",
       "      <th>1308</th>\n",
       "      <td>3</td>\n",
       "      <td>Ware, Mr. Frederick</td>\n",
       "      <td>male</td>\n",
       "      <td>NaN</td>\n",
       "      <td>0</td>\n",
       "      <td>0</td>\n",
       "      <td>359309</td>\n",
       "      <td>8.0500</td>\n",
       "      <td>unknown</td>\n",
       "      <td>S</td>\n",
       "      <td>True</td>\n",
       "    </tr>\n",
       "    <tr>\n",
       "      <th>1309</th>\n",
       "      <td>3</td>\n",
       "      <td>Peter, Master. Michael J</td>\n",
       "      <td>male</td>\n",
       "      <td>NaN</td>\n",
       "      <td>1</td>\n",
       "      <td>1</td>\n",
       "      <td>2668</td>\n",
       "      <td>22.3583</td>\n",
       "      <td>unknown</td>\n",
       "      <td>C</td>\n",
       "      <td>True</td>\n",
       "    </tr>\n",
       "  </tbody>\n",
       "</table>\n",
       "</div>"
      ],
      "text/plain": [
       "             Pclass                          Name     Sex   Age  SibSp  Parch  \\\n",
       "PassengerId                                                                     \n",
       "1305              3            Spector, Mr. Woolf    male   NaN      0      0   \n",
       "1306              1  Oliva y Ocana, Dona. Fermina  female  39.0      0      0   \n",
       "1307              3  Saether, Mr. Simon Sivertsen    male  38.5      0      0   \n",
       "1308              3           Ware, Mr. Frederick    male   NaN      0      0   \n",
       "1309              3      Peter, Master. Michael J    male   NaN      1      1   \n",
       "\n",
       "                         Ticket      Fare    Cabin Embarked  Age_was_missing  \n",
       "PassengerId                                                                   \n",
       "1305                  A.5. 3236    8.0500  unknown        S             True  \n",
       "1306                   PC 17758  108.9000     C105        C            False  \n",
       "1307         SOTON/O.Q. 3101262    7.2500  unknown        S            False  \n",
       "1308                     359309    8.0500  unknown        S             True  \n",
       "1309                       2668   22.3583  unknown        C             True  "
      ]
     },
     "execution_count": 21,
     "metadata": {},
     "output_type": "execute_result"
    }
   ],
   "source": [
    "#Separate the 'Survived' column from the training dataset\n",
    "y_train = train_data['Survived']\n",
    "X_train_imputed = train_data_imputed.drop(['Survived'], axis=1)\n",
    "\n",
    "#Rename the test dataset correspondingly\n",
    "X_test_imputed = test_data_imputed\n",
    "\n",
    "#Concat training and test data to have more statistics for 'Age' \n",
    "X_all = pd.concat([X_train_imputed, X_test_imputed])\n",
    "\n",
    "#Add a boolean column indicating if the age was missing \n",
    "X_all['Age_was_missing'] = X_all['Age'].isnull()\n",
    "\n",
    "#Check out the tail of the combined dataset\n",
    "X_all.tail()"
   ]
  },
  {
   "cell_type": "markdown",
   "metadata": {
    "_cell_guid": "258466be-73f2-4fa1-b3f1-1e585817f1d3",
    "_uuid": "b9f0e6ad-845a-45f8-8471-4f4147be61da",
    "papermill": {
     "duration": 0.053109,
     "end_time": "2021-05-19T10:55:34.189535",
     "exception": false,
     "start_time": "2021-05-19T10:55:34.136426",
     "status": "completed"
    },
    "tags": []
   },
   "source": [
    "Before imputing the 'NaN' entries in the 'Age' column, we will analyze below the people's titles provided in the 'Name' column. As a result of this, one can clearly see that the passengers with the 'NaN' age belonged to 4 relevant age groups (with only one exception). These age groups are: \n",
    "* Boys (title 'Master.')\n",
    "* Married Women (title 'Mrs.')\n",
    "* Single Women (title 'Miss.')\n",
    "* Men (title 'Mr.')\n",
    "\n",
    "We will impute the corresponding 'NaN' values depending on the person's age group."
   ]
  },
  {
   "cell_type": "code",
   "execution_count": 22,
   "metadata": {
    "_cell_guid": "4e3f954c-174e-4d07-9cdd-b1a9aa86981f",
    "_uuid": "a1a9593d-6369-4738-8d96-a0ce1cdc831f",
    "execution": {
     "iopub.execute_input": "2021-05-19T10:55:34.306629Z",
     "iopub.status.busy": "2021-05-19T10:55:34.305867Z",
     "iopub.status.idle": "2021-05-19T10:55:34.309669Z",
     "shell.execute_reply": "2021-05-19T10:55:34.309243Z"
    },
    "jupyter": {
     "outputs_hidden": false
    },
    "papermill": {
     "duration": 0.066802,
     "end_time": "2021-05-19T10:55:34.309783",
     "exception": false,
     "start_time": "2021-05-19T10:55:34.242981",
     "status": "completed"
    },
    "tags": []
   },
   "outputs": [
    {
     "data": {
      "text/plain": [
       "Mr          757\n",
       "Miss        260\n",
       "Mrs         197\n",
       "Master       61\n",
       "Dr            8\n",
       "Rev           8\n",
       "Col           4\n",
       "Major         2\n",
       "Ms            2\n",
       "Mlle          2\n",
       "Sir           1\n",
       "Don           1\n",
       "Capt          1\n",
       "Jonkheer      1\n",
       "Dona          1\n",
       "Mme           1\n",
       "Countess      1\n",
       "Lady          1\n",
       "Name: Name, dtype: int64"
      ]
     },
     "execution_count": 22,
     "metadata": {},
     "output_type": "execute_result"
    }
   ],
   "source": [
    "# Check out the unique titles in the combined dataset\n",
    "X_all.Name.str.extract(' ([A-Za-z]+)\\.', expand=False).value_counts()"
   ]
  },
  {
   "cell_type": "code",
   "execution_count": 23,
   "metadata": {
    "execution": {
     "iopub.execute_input": "2021-05-19T10:55:34.421967Z",
     "iopub.status.busy": "2021-05-19T10:55:34.421381Z",
     "iopub.status.idle": "2021-05-19T10:55:34.430053Z",
     "shell.execute_reply": "2021-05-19T10:55:34.430566Z"
    },
    "papermill": {
     "duration": 0.067367,
     "end_time": "2021-05-19T10:55:34.430697",
     "exception": false,
     "start_time": "2021-05-19T10:55:34.363330",
     "status": "completed"
    },
    "tags": []
   },
   "outputs": [
    {
     "data": {
      "text/plain": [
       "Mr        176\n",
       "Miss       50\n",
       "Mrs        27\n",
       "Master      8\n",
       "Ms          1\n",
       "Dr          1\n",
       "Name: Name, dtype: int64"
      ]
     },
     "execution_count": 23,
     "metadata": {},
     "output_type": "execute_result"
    }
   ],
   "source": [
    "# Check out the unique titles for the 'NaN' age entries in the combined dataset \n",
    "X_all[X_all['Age_was_missing']==True].Name.str.extract(' ([A-Za-z]+)\\.', \n",
    "                                                       expand=False).value_counts()"
   ]
  },
  {
   "cell_type": "code",
   "execution_count": 24,
   "metadata": {
    "_cell_guid": "505e6282-46ad-4c48-8352-e400f20936ea",
    "_uuid": "2539ba13-a078-4c79-b388-4d62b2181a83",
    "execution": {
     "iopub.execute_input": "2021-05-19T10:55:34.660190Z",
     "iopub.status.busy": "2021-05-19T10:55:34.652537Z",
     "iopub.status.idle": "2021-05-19T10:55:34.825922Z",
     "shell.execute_reply": "2021-05-19T10:55:34.826345Z"
    },
    "jupyter": {
     "outputs_hidden": false
    },
    "papermill": {
     "duration": 0.342007,
     "end_time": "2021-05-19T10:55:34.826496",
     "exception": false,
     "start_time": "2021-05-19T10:55:34.484489",
     "status": "completed"
    },
    "tags": []
   },
   "outputs": [
    {
     "data": {
      "image/png": "[encoded data removed]",
      "text/plain": [
       "<Figure size 720x432 with 1 Axes>"
      ]
     },
     "metadata": {
      "needs_background": "light"
     },
     "output_type": "display_data"
    }
   ],
   "source": [
    "#Generate the 'boys_data' table and record relevant statistical info\n",
    "boys_data = X_all[X_all['Name'].str.split(\",\").str.get(1).str.contains('Master.')]\n",
    "boys_mean_age = boys_data.Age.mean()\n",
    "boys_age_std = boys_data.Age.std()\n",
    "boys_nan_count = boys_data.Age.isnull().sum()\n",
    "\n",
    "#Visualize the distribution of boys age \n",
    "plt.figure(figsize=(10,6))\n",
    "sns.histplot(boys_data, x='Age', kde=True, binwidth=1)\n",
    "plt.title('Fig. 10. Boys age distribution.');"
   ]
  },
  {
   "cell_type": "code",
   "execution_count": 25,
   "metadata": {
    "_cell_guid": "83b3e9ba-11e8-480e-8b59-fcfb5afb8469",
    "_uuid": "212889a1-e9bb-4c00-8a7e-82c60e86c5b6",
    "execution": {
     "iopub.execute_input": "2021-05-19T10:55:34.963006Z",
     "iopub.status.busy": "2021-05-19T10:55:34.962160Z",
     "iopub.status.idle": "2021-05-19T10:55:34.968073Z",
     "shell.execute_reply": "2021-05-19T10:55:34.968732Z"
    },
    "jupyter": {
     "outputs_hidden": false
    },
    "papermill": {
     "duration": 0.086947,
     "end_time": "2021-05-19T10:55:34.968948",
     "exception": false,
     "start_time": "2021-05-19T10:55:34.882001",
     "status": "completed"
    },
    "tags": []
   },
   "outputs": [
    {
     "name": "stdout",
     "output_type": "stream",
     "text": [
      "Number of entries that are left with an unknown age is: 255\n"
     ]
    },
    {
     "data": {
      "text/html": [
       "<div>\n",
       "<style scoped>\n",
       "    .dataframe tbody tr th:only-of-type {\n",
       "        vertical-align: middle;\n",
       "    }\n",
       "\n",
       "    .dataframe tbody tr th {\n",
       "        vertical-align: top;\n",
       "    }\n",
       "\n",
       "    .dataframe thead th {\n",
       "        text-align: right;\n",
       "    }\n",
       "</style>\n",
       "<table border=\"1\" class=\"dataframe\">\n",
       "  <thead>\n",
       "    <tr style=\"text-align: right;\">\n",
       "      <th></th>\n",
       "      <th>Pclass</th>\n",
       "      <th>Name</th>\n",
       "      <th>Sex</th>\n",
       "      <th>Age</th>\n",
       "      <th>SibSp</th>\n",
       "      <th>Parch</th>\n",
       "      <th>Ticket</th>\n",
       "      <th>Fare</th>\n",
       "      <th>Cabin</th>\n",
       "      <th>Embarked</th>\n",
       "      <th>Age_was_missing</th>\n",
       "    </tr>\n",
       "    <tr>\n",
       "      <th>PassengerId</th>\n",
       "      <th></th>\n",
       "      <th></th>\n",
       "      <th></th>\n",
       "      <th></th>\n",
       "      <th></th>\n",
       "      <th></th>\n",
       "      <th></th>\n",
       "      <th></th>\n",
       "      <th></th>\n",
       "      <th></th>\n",
       "      <th></th>\n",
       "    </tr>\n",
       "  </thead>\n",
       "  <tbody>\n",
       "    <tr>\n",
       "      <th>66</th>\n",
       "      <td>3</td>\n",
       "      <td>Moubarek, Master. Gerios</td>\n",
       "      <td>male</td>\n",
       "      <td>5.482642</td>\n",
       "      <td>1</td>\n",
       "      <td>1</td>\n",
       "      <td>2661</td>\n",
       "      <td>15.2458</td>\n",
       "      <td>unknown</td>\n",
       "      <td>C</td>\n",
       "      <td>True</td>\n",
       "    </tr>\n",
       "    <tr>\n",
       "      <th>160</th>\n",
       "      <td>3</td>\n",
       "      <td>Sage, Master. Thomas Henry</td>\n",
       "      <td>male</td>\n",
       "      <td>5.482642</td>\n",
       "      <td>8</td>\n",
       "      <td>2</td>\n",
       "      <td>CA. 2343</td>\n",
       "      <td>69.5500</td>\n",
       "      <td>unknown</td>\n",
       "      <td>S</td>\n",
       "      <td>True</td>\n",
       "    </tr>\n",
       "    <tr>\n",
       "      <th>177</th>\n",
       "      <td>3</td>\n",
       "      <td>Lefebre, Master. Henry Forbes</td>\n",
       "      <td>male</td>\n",
       "      <td>5.482642</td>\n",
       "      <td>3</td>\n",
       "      <td>1</td>\n",
       "      <td>4133</td>\n",
       "      <td>25.4667</td>\n",
       "      <td>unknown</td>\n",
       "      <td>S</td>\n",
       "      <td>True</td>\n",
       "    </tr>\n",
       "    <tr>\n",
       "      <th>710</th>\n",
       "      <td>3</td>\n",
       "      <td>Moubarek, Master. Halim Gonios (\"William George\")</td>\n",
       "      <td>male</td>\n",
       "      <td>5.482642</td>\n",
       "      <td>1</td>\n",
       "      <td>1</td>\n",
       "      <td>2661</td>\n",
       "      <td>15.2458</td>\n",
       "      <td>unknown</td>\n",
       "      <td>C</td>\n",
       "      <td>True</td>\n",
       "    </tr>\n",
       "    <tr>\n",
       "      <th>1136</th>\n",
       "      <td>3</td>\n",
       "      <td>Johnston, Master. William Arthur Willie\"\"</td>\n",
       "      <td>male</td>\n",
       "      <td>5.482642</td>\n",
       "      <td>1</td>\n",
       "      <td>2</td>\n",
       "      <td>W./C. 6607</td>\n",
       "      <td>23.4500</td>\n",
       "      <td>unknown</td>\n",
       "      <td>S</td>\n",
       "      <td>True</td>\n",
       "    </tr>\n",
       "    <tr>\n",
       "      <th>1231</th>\n",
       "      <td>3</td>\n",
       "      <td>Betros, Master. Seman</td>\n",
       "      <td>male</td>\n",
       "      <td>5.482642</td>\n",
       "      <td>0</td>\n",
       "      <td>0</td>\n",
       "      <td>2622</td>\n",
       "      <td>7.2292</td>\n",
       "      <td>unknown</td>\n",
       "      <td>C</td>\n",
       "      <td>True</td>\n",
       "    </tr>\n",
       "    <tr>\n",
       "      <th>1236</th>\n",
       "      <td>3</td>\n",
       "      <td>van Billiard, Master. James William</td>\n",
       "      <td>male</td>\n",
       "      <td>5.482642</td>\n",
       "      <td>1</td>\n",
       "      <td>1</td>\n",
       "      <td>A/5. 851</td>\n",
       "      <td>14.5000</td>\n",
       "      <td>unknown</td>\n",
       "      <td>S</td>\n",
       "      <td>True</td>\n",
       "    </tr>\n",
       "    <tr>\n",
       "      <th>1309</th>\n",
       "      <td>3</td>\n",
       "      <td>Peter, Master. Michael J</td>\n",
       "      <td>male</td>\n",
       "      <td>5.482642</td>\n",
       "      <td>1</td>\n",
       "      <td>1</td>\n",
       "      <td>2668</td>\n",
       "      <td>22.3583</td>\n",
       "      <td>unknown</td>\n",
       "      <td>C</td>\n",
       "      <td>True</td>\n",
       "    </tr>\n",
       "  </tbody>\n",
       "</table>\n",
       "</div>"
      ],
      "text/plain": [
       "             Pclass                                               Name   Sex  \\\n",
       "PassengerId                                                                    \n",
       "66                3                           Moubarek, Master. Gerios  male   \n",
       "160               3                         Sage, Master. Thomas Henry  male   \n",
       "177               3                      Lefebre, Master. Henry Forbes  male   \n",
       "710               3  Moubarek, Master. Halim Gonios (\"William George\")  male   \n",
       "1136              3          Johnston, Master. William Arthur Willie\"\"  male   \n",
       "1231              3                              Betros, Master. Seman  male   \n",
       "1236              3                van Billiard, Master. James William  male   \n",
       "1309              3                           Peter, Master. Michael J  male   \n",
       "\n",
       "                  Age  SibSp  Parch      Ticket     Fare    Cabin Embarked  \\\n",
       "PassengerId                                                                  \n",
       "66           5.482642      1      1        2661  15.2458  unknown        C   \n",
       "160          5.482642      8      2    CA. 2343  69.5500  unknown        S   \n",
       "177          5.482642      3      1        4133  25.4667  unknown        S   \n",
       "710          5.482642      1      1        2661  15.2458  unknown        C   \n",
       "1136         5.482642      1      2  W./C. 6607  23.4500  unknown        S   \n",
       "1231         5.482642      0      0        2622   7.2292  unknown        C   \n",
       "1236         5.482642      1      1    A/5. 851  14.5000  unknown        S   \n",
       "1309         5.482642      1      1        2668  22.3583  unknown        C   \n",
       "\n",
       "             Age_was_missing  \n",
       "PassengerId                   \n",
       "66                      True  \n",
       "160                     True  \n",
       "177                     True  \n",
       "710                     True  \n",
       "1136                    True  \n",
       "1231                    True  \n",
       "1236                    True  \n",
       "1309                    True  "
      ]
     },
     "execution_count": 25,
     "metadata": {},
     "output_type": "execute_result"
    }
   ],
   "source": [
    "#Get indices of the 'NaN' age values for boys\n",
    "boys_age_nan_ind = X_all[(X_all['Name'].str.split(\",\").str.get(1).str.contains('Master.'))\n",
    "                         & (X_all['Age'].isnull())].index\n",
    "\n",
    "#Impute the boys 'NaN' age\n",
    "X_all.loc[boys_age_nan_ind,'Age'] = boys_mean_age\n",
    "print('Number of entries that are left with an unknown age is:',\n",
    "      len(X_all[X_all['Age'].isnull()]))\n",
    "X_all.loc[boys_age_nan_ind]"
   ]
  },
  {
   "cell_type": "code",
   "execution_count": 26,
   "metadata": {
    "_cell_guid": "0148a91c-c1b2-4340-92f4-344aae344ad9",
    "_uuid": "904fd89a-4d96-40e8-8854-7ea44a6aa266",
    "execution": {
     "iopub.execute_input": "2021-05-19T10:55:35.108892Z",
     "iopub.status.busy": "2021-05-19T10:55:35.108040Z",
     "iopub.status.idle": "2021-05-19T10:55:35.287641Z",
     "shell.execute_reply": "2021-05-19T10:55:35.288070Z"
    },
    "jupyter": {
     "outputs_hidden": false
    },
    "papermill": {
     "duration": 0.25931,
     "end_time": "2021-05-19T10:55:35.288215",
     "exception": false,
     "start_time": "2021-05-19T10:55:35.028905",
     "status": "completed"
    },
    "tags": []
   },
   "outputs": [
    {
     "data": {
      "image/png": "[encoded data removed]",
      "text/plain": [
       "<Figure size 720x432 with 1 Axes>"
      ]
     },
     "metadata": {
      "needs_background": "light"
     },
     "output_type": "display_data"
    }
   ],
   "source": [
    "#Generate the 'married_women_data' table and record the relevant statistical info\n",
    "married_women_data = X_all[X_all['Name'].str.split(\",\").str.get(1).str.contains('Mrs.')]\n",
    "married_women_mean_age = married_women_data.Age.mean()\n",
    "married_women_age_std = married_women_data.Age.std()\n",
    "married_women_nan_count = married_women_data.Age.isnull().sum()\n",
    "\n",
    "#Visualize the married women age distribution\n",
    "plt.figure(figsize=(10,6))\n",
    "sns.histplot(married_women_data, x='Age', kde=True, binwidth=3)\n",
    "plt.title('Fig. 11. Married women age distribution.');"
   ]
  },
  {
   "cell_type": "code",
   "execution_count": 27,
   "metadata": {
    "_cell_guid": "4580176d-79cb-4601-b360-41b15e5e3afd",
    "_uuid": "1ccf3fc6-57c0-4647-afc1-3a01f91b6cf4",
    "execution": {
     "iopub.execute_input": "2021-05-19T10:55:35.445520Z",
     "iopub.status.busy": "2021-05-19T10:55:35.444021Z",
     "iopub.status.idle": "2021-05-19T10:55:35.469077Z",
     "shell.execute_reply": "2021-05-19T10:55:35.469531Z"
    },
    "jupyter": {
     "outputs_hidden": false
    },
    "papermill": {
     "duration": 0.122334,
     "end_time": "2021-05-19T10:55:35.469693",
     "exception": false,
     "start_time": "2021-05-19T10:55:35.347359",
     "status": "completed"
    },
    "tags": []
   },
   "outputs": [
    {
     "name": "stdout",
     "output_type": "stream",
     "text": [
      "Number of entries that are left with unknown age is: 228\n"
     ]
    },
    {
     "data": {
      "text/html": [
       "<div>\n",
       "<style scoped>\n",
       "    .dataframe tbody tr th:only-of-type {\n",
       "        vertical-align: middle;\n",
       "    }\n",
       "\n",
       "    .dataframe tbody tr th {\n",
       "        vertical-align: top;\n",
       "    }\n",
       "\n",
       "    .dataframe thead th {\n",
       "        text-align: right;\n",
       "    }\n",
       "</style>\n",
       "<table border=\"1\" class=\"dataframe\">\n",
       "  <thead>\n",
       "    <tr style=\"text-align: right;\">\n",
       "      <th></th>\n",
       "      <th>Pclass</th>\n",
       "      <th>Name</th>\n",
       "      <th>Sex</th>\n",
       "      <th>Age</th>\n",
       "      <th>SibSp</th>\n",
       "      <th>Parch</th>\n",
       "      <th>Ticket</th>\n",
       "      <th>Fare</th>\n",
       "      <th>Cabin</th>\n",
       "      <th>Embarked</th>\n",
       "      <th>Age_was_missing</th>\n",
       "    </tr>\n",
       "    <tr>\n",
       "      <th>PassengerId</th>\n",
       "      <th></th>\n",
       "      <th></th>\n",
       "      <th></th>\n",
       "      <th></th>\n",
       "      <th></th>\n",
       "      <th></th>\n",
       "      <th></th>\n",
       "      <th></th>\n",
       "      <th></th>\n",
       "      <th></th>\n",
       "      <th></th>\n",
       "    </tr>\n",
       "  </thead>\n",
       "  <tbody>\n",
       "    <tr>\n",
       "      <th>20</th>\n",
       "      <td>3</td>\n",
       "      <td>Masselmani, Mrs. Fatima</td>\n",
       "      <td>female</td>\n",
       "      <td>36.804598</td>\n",
       "      <td>0</td>\n",
       "      <td>0</td>\n",
       "      <td>2649</td>\n",
       "      <td>7.2250</td>\n",
       "      <td>unknown</td>\n",
       "      <td>C</td>\n",
       "      <td>True</td>\n",
       "    </tr>\n",
       "    <tr>\n",
       "      <th>32</th>\n",
       "      <td>1</td>\n",
       "      <td>Spencer, Mrs. William Augustus (Marie Eugenie)</td>\n",
       "      <td>female</td>\n",
       "      <td>36.804598</td>\n",
       "      <td>1</td>\n",
       "      <td>0</td>\n",
       "      <td>PC 17569</td>\n",
       "      <td>146.5208</td>\n",
       "      <td>B78</td>\n",
       "      <td>C</td>\n",
       "      <td>True</td>\n",
       "    </tr>\n",
       "    <tr>\n",
       "      <th>141</th>\n",
       "      <td>3</td>\n",
       "      <td>Boulos, Mrs. Joseph (Sultana)</td>\n",
       "      <td>female</td>\n",
       "      <td>36.804598</td>\n",
       "      <td>0</td>\n",
       "      <td>2</td>\n",
       "      <td>2678</td>\n",
       "      <td>15.2458</td>\n",
       "      <td>unknown</td>\n",
       "      <td>C</td>\n",
       "      <td>True</td>\n",
       "    </tr>\n",
       "    <tr>\n",
       "      <th>167</th>\n",
       "      <td>1</td>\n",
       "      <td>Chibnall, Mrs. (Edith Martha Bowerman)</td>\n",
       "      <td>female</td>\n",
       "      <td>36.804598</td>\n",
       "      <td>0</td>\n",
       "      <td>1</td>\n",
       "      <td>113505</td>\n",
       "      <td>55.0000</td>\n",
       "      <td>E33</td>\n",
       "      <td>S</td>\n",
       "      <td>True</td>\n",
       "    </tr>\n",
       "    <tr>\n",
       "      <th>187</th>\n",
       "      <td>3</td>\n",
       "      <td>O'Brien, Mrs. Thomas (Johanna \"Hannah\" Godfrey)</td>\n",
       "      <td>female</td>\n",
       "      <td>36.804598</td>\n",
       "      <td>1</td>\n",
       "      <td>0</td>\n",
       "      <td>370365</td>\n",
       "      <td>15.5000</td>\n",
       "      <td>unknown</td>\n",
       "      <td>Q</td>\n",
       "      <td>True</td>\n",
       "    </tr>\n",
       "    <tr>\n",
       "      <th>257</th>\n",
       "      <td>1</td>\n",
       "      <td>Thorne, Mrs. Gertrude Maybelle</td>\n",
       "      <td>female</td>\n",
       "      <td>36.804598</td>\n",
       "      <td>0</td>\n",
       "      <td>0</td>\n",
       "      <td>PC 17585</td>\n",
       "      <td>79.2000</td>\n",
       "      <td>unknown</td>\n",
       "      <td>C</td>\n",
       "      <td>True</td>\n",
       "    </tr>\n",
       "    <tr>\n",
       "      <th>335</th>\n",
       "      <td>1</td>\n",
       "      <td>Frauenthal, Mrs. Henry William (Clara Heinshei...</td>\n",
       "      <td>female</td>\n",
       "      <td>36.804598</td>\n",
       "      <td>1</td>\n",
       "      <td>0</td>\n",
       "      <td>PC 17611</td>\n",
       "      <td>133.6500</td>\n",
       "      <td>unknown</td>\n",
       "      <td>S</td>\n",
       "      <td>True</td>\n",
       "    </tr>\n",
       "    <tr>\n",
       "      <th>348</th>\n",
       "      <td>3</td>\n",
       "      <td>Davison, Mrs. Thomas Henry (Mary E Finck)</td>\n",
       "      <td>female</td>\n",
       "      <td>36.804598</td>\n",
       "      <td>1</td>\n",
       "      <td>0</td>\n",
       "      <td>386525</td>\n",
       "      <td>16.1000</td>\n",
       "      <td>unknown</td>\n",
       "      <td>S</td>\n",
       "      <td>True</td>\n",
       "    </tr>\n",
       "    <tr>\n",
       "      <th>368</th>\n",
       "      <td>3</td>\n",
       "      <td>Moussa, Mrs. (Mantoura Boulos)</td>\n",
       "      <td>female</td>\n",
       "      <td>36.804598</td>\n",
       "      <td>0</td>\n",
       "      <td>0</td>\n",
       "      <td>2626</td>\n",
       "      <td>7.2292</td>\n",
       "      <td>unknown</td>\n",
       "      <td>C</td>\n",
       "      <td>True</td>\n",
       "    </tr>\n",
       "    <tr>\n",
       "      <th>376</th>\n",
       "      <td>1</td>\n",
       "      <td>Meyer, Mrs. Edgar Joseph (Leila Saks)</td>\n",
       "      <td>female</td>\n",
       "      <td>36.804598</td>\n",
       "      <td>1</td>\n",
       "      <td>0</td>\n",
       "      <td>PC 17604</td>\n",
       "      <td>82.1708</td>\n",
       "      <td>unknown</td>\n",
       "      <td>C</td>\n",
       "      <td>True</td>\n",
       "    </tr>\n",
       "    <tr>\n",
       "      <th>416</th>\n",
       "      <td>3</td>\n",
       "      <td>Meek, Mrs. Thomas (Annie Louise Rowley)</td>\n",
       "      <td>female</td>\n",
       "      <td>36.804598</td>\n",
       "      <td>0</td>\n",
       "      <td>0</td>\n",
       "      <td>343095</td>\n",
       "      <td>8.0500</td>\n",
       "      <td>unknown</td>\n",
       "      <td>S</td>\n",
       "      <td>True</td>\n",
       "    </tr>\n",
       "    <tr>\n",
       "      <th>432</th>\n",
       "      <td>3</td>\n",
       "      <td>Thorneycroft, Mrs. Percival (Florence Kate White)</td>\n",
       "      <td>female</td>\n",
       "      <td>36.804598</td>\n",
       "      <td>1</td>\n",
       "      <td>0</td>\n",
       "      <td>376564</td>\n",
       "      <td>16.1000</td>\n",
       "      <td>unknown</td>\n",
       "      <td>S</td>\n",
       "      <td>True</td>\n",
       "    </tr>\n",
       "    <tr>\n",
       "      <th>458</th>\n",
       "      <td>1</td>\n",
       "      <td>Kenyon, Mrs. Frederick R (Marion)</td>\n",
       "      <td>female</td>\n",
       "      <td>36.804598</td>\n",
       "      <td>1</td>\n",
       "      <td>0</td>\n",
       "      <td>17464</td>\n",
       "      <td>51.8625</td>\n",
       "      <td>D21</td>\n",
       "      <td>S</td>\n",
       "      <td>True</td>\n",
       "    </tr>\n",
       "    <tr>\n",
       "      <th>534</th>\n",
       "      <td>3</td>\n",
       "      <td>Peter, Mrs. Catherine (Catherine Rizk)</td>\n",
       "      <td>female</td>\n",
       "      <td>36.804598</td>\n",
       "      <td>0</td>\n",
       "      <td>2</td>\n",
       "      <td>2668</td>\n",
       "      <td>22.3583</td>\n",
       "      <td>unknown</td>\n",
       "      <td>C</td>\n",
       "      <td>True</td>\n",
       "    </tr>\n",
       "    <tr>\n",
       "      <th>579</th>\n",
       "      <td>3</td>\n",
       "      <td>Caram, Mrs. Joseph (Maria Elias)</td>\n",
       "      <td>female</td>\n",
       "      <td>36.804598</td>\n",
       "      <td>1</td>\n",
       "      <td>0</td>\n",
       "      <td>2689</td>\n",
       "      <td>14.4583</td>\n",
       "      <td>unknown</td>\n",
       "      <td>C</td>\n",
       "      <td>True</td>\n",
       "    </tr>\n",
       "    <tr>\n",
       "      <th>670</th>\n",
       "      <td>1</td>\n",
       "      <td>Taylor, Mrs. Elmer Zebley (Juliet Cummins Wright)</td>\n",
       "      <td>female</td>\n",
       "      <td>36.804598</td>\n",
       "      <td>1</td>\n",
       "      <td>0</td>\n",
       "      <td>19996</td>\n",
       "      <td>52.0000</td>\n",
       "      <td>C126</td>\n",
       "      <td>S</td>\n",
       "      <td>True</td>\n",
       "    </tr>\n",
       "    <tr>\n",
       "      <th>850</th>\n",
       "      <td>1</td>\n",
       "      <td>Goldenberg, Mrs. Samuel L (Edwiga Grabowska)</td>\n",
       "      <td>female</td>\n",
       "      <td>36.804598</td>\n",
       "      <td>1</td>\n",
       "      <td>0</td>\n",
       "      <td>17453</td>\n",
       "      <td>89.1042</td>\n",
       "      <td>C92</td>\n",
       "      <td>C</td>\n",
       "      <td>True</td>\n",
       "    </tr>\n",
       "    <tr>\n",
       "      <th>914</th>\n",
       "      <td>1</td>\n",
       "      <td>Flegenheim, Mrs. Alfred (Antoinette)</td>\n",
       "      <td>female</td>\n",
       "      <td>36.804598</td>\n",
       "      <td>0</td>\n",
       "      <td>0</td>\n",
       "      <td>PC 17598</td>\n",
       "      <td>31.6833</td>\n",
       "      <td>unknown</td>\n",
       "      <td>S</td>\n",
       "      <td>True</td>\n",
       "    </tr>\n",
       "    <tr>\n",
       "      <th>925</th>\n",
       "      <td>3</td>\n",
       "      <td>Johnston, Mrs. Andrew G (Elizabeth Lily\" Watson)\"</td>\n",
       "      <td>female</td>\n",
       "      <td>36.804598</td>\n",
       "      <td>1</td>\n",
       "      <td>2</td>\n",
       "      <td>W./C. 6607</td>\n",
       "      <td>23.4500</td>\n",
       "      <td>unknown</td>\n",
       "      <td>S</td>\n",
       "      <td>True</td>\n",
       "    </tr>\n",
       "    <tr>\n",
       "      <th>957</th>\n",
       "      <td>2</td>\n",
       "      <td>Corey, Mrs. Percy C (Mary Phyllis Elizabeth Mi...</td>\n",
       "      <td>female</td>\n",
       "      <td>36.804598</td>\n",
       "      <td>0</td>\n",
       "      <td>0</td>\n",
       "      <td>F.C.C. 13534</td>\n",
       "      <td>21.0000</td>\n",
       "      <td>unknown</td>\n",
       "      <td>S</td>\n",
       "      <td>True</td>\n",
       "    </tr>\n",
       "    <tr>\n",
       "      <th>1024</th>\n",
       "      <td>3</td>\n",
       "      <td>Lefebre, Mrs. Frank (Frances)</td>\n",
       "      <td>female</td>\n",
       "      <td>36.804598</td>\n",
       "      <td>0</td>\n",
       "      <td>4</td>\n",
       "      <td>4133</td>\n",
       "      <td>25.4667</td>\n",
       "      <td>unknown</td>\n",
       "      <td>S</td>\n",
       "      <td>True</td>\n",
       "    </tr>\n",
       "    <tr>\n",
       "      <th>1060</th>\n",
       "      <td>1</td>\n",
       "      <td>Cassebeer, Mrs. Henry Arthur Jr (Eleanor Genev...</td>\n",
       "      <td>female</td>\n",
       "      <td>36.804598</td>\n",
       "      <td>0</td>\n",
       "      <td>0</td>\n",
       "      <td>17770</td>\n",
       "      <td>27.7208</td>\n",
       "      <td>unknown</td>\n",
       "      <td>C</td>\n",
       "      <td>True</td>\n",
       "    </tr>\n",
       "    <tr>\n",
       "      <th>1091</th>\n",
       "      <td>3</td>\n",
       "      <td>Rasmussen, Mrs. (Lena Jacobsen Solvang)</td>\n",
       "      <td>female</td>\n",
       "      <td>36.804598</td>\n",
       "      <td>0</td>\n",
       "      <td>0</td>\n",
       "      <td>65305</td>\n",
       "      <td>8.1125</td>\n",
       "      <td>unknown</td>\n",
       "      <td>S</td>\n",
       "      <td>True</td>\n",
       "    </tr>\n",
       "    <tr>\n",
       "      <th>1117</th>\n",
       "      <td>3</td>\n",
       "      <td>Moubarek, Mrs. George (Omine Amenia\" Alexander)\"</td>\n",
       "      <td>female</td>\n",
       "      <td>36.804598</td>\n",
       "      <td>0</td>\n",
       "      <td>2</td>\n",
       "      <td>2661</td>\n",
       "      <td>15.2458</td>\n",
       "      <td>unknown</td>\n",
       "      <td>C</td>\n",
       "      <td>True</td>\n",
       "    </tr>\n",
       "    <tr>\n",
       "      <th>1141</th>\n",
       "      <td>3</td>\n",
       "      <td>Khalil, Mrs. Betros (Zahie Maria\" Elias)\"</td>\n",
       "      <td>female</td>\n",
       "      <td>36.804598</td>\n",
       "      <td>1</td>\n",
       "      <td>0</td>\n",
       "      <td>2660</td>\n",
       "      <td>14.4542</td>\n",
       "      <td>unknown</td>\n",
       "      <td>C</td>\n",
       "      <td>True</td>\n",
       "    </tr>\n",
       "    <tr>\n",
       "      <th>1257</th>\n",
       "      <td>3</td>\n",
       "      <td>Sage, Mrs. John (Annie Bullen)</td>\n",
       "      <td>female</td>\n",
       "      <td>36.804598</td>\n",
       "      <td>1</td>\n",
       "      <td>9</td>\n",
       "      <td>CA. 2343</td>\n",
       "      <td>69.5500</td>\n",
       "      <td>unknown</td>\n",
       "      <td>S</td>\n",
       "      <td>True</td>\n",
       "    </tr>\n",
       "    <tr>\n",
       "      <th>1274</th>\n",
       "      <td>3</td>\n",
       "      <td>Risien, Mrs. Samuel (Emma)</td>\n",
       "      <td>female</td>\n",
       "      <td>36.804598</td>\n",
       "      <td>0</td>\n",
       "      <td>0</td>\n",
       "      <td>364498</td>\n",
       "      <td>14.5000</td>\n",
       "      <td>unknown</td>\n",
       "      <td>S</td>\n",
       "      <td>True</td>\n",
       "    </tr>\n",
       "  </tbody>\n",
       "</table>\n",
       "</div>"
      ],
      "text/plain": [
       "             Pclass                                               Name  \\\n",
       "PassengerId                                                              \n",
       "20                3                            Masselmani, Mrs. Fatima   \n",
       "32                1     Spencer, Mrs. William Augustus (Marie Eugenie)   \n",
       "141               3                      Boulos, Mrs. Joseph (Sultana)   \n",
       "167               1             Chibnall, Mrs. (Edith Martha Bowerman)   \n",
       "187               3    O'Brien, Mrs. Thomas (Johanna \"Hannah\" Godfrey)   \n",
       "257               1                     Thorne, Mrs. Gertrude Maybelle   \n",
       "335               1  Frauenthal, Mrs. Henry William (Clara Heinshei...   \n",
       "348               3          Davison, Mrs. Thomas Henry (Mary E Finck)   \n",
       "368               3                     Moussa, Mrs. (Mantoura Boulos)   \n",
       "376               1              Meyer, Mrs. Edgar Joseph (Leila Saks)   \n",
       "416               3            Meek, Mrs. Thomas (Annie Louise Rowley)   \n",
       "432               3  Thorneycroft, Mrs. Percival (Florence Kate White)   \n",
       "458               1                  Kenyon, Mrs. Frederick R (Marion)   \n",
       "534               3             Peter, Mrs. Catherine (Catherine Rizk)   \n",
       "579               3                   Caram, Mrs. Joseph (Maria Elias)   \n",
       "670               1  Taylor, Mrs. Elmer Zebley (Juliet Cummins Wright)   \n",
       "850               1       Goldenberg, Mrs. Samuel L (Edwiga Grabowska)   \n",
       "914               1               Flegenheim, Mrs. Alfred (Antoinette)   \n",
       "925               3  Johnston, Mrs. Andrew G (Elizabeth Lily\" Watson)\"   \n",
       "957               2  Corey, Mrs. Percy C (Mary Phyllis Elizabeth Mi...   \n",
       "1024              3                      Lefebre, Mrs. Frank (Frances)   \n",
       "1060              1  Cassebeer, Mrs. Henry Arthur Jr (Eleanor Genev...   \n",
       "1091              3            Rasmussen, Mrs. (Lena Jacobsen Solvang)   \n",
       "1117              3   Moubarek, Mrs. George (Omine Amenia\" Alexander)\"   \n",
       "1141              3          Khalil, Mrs. Betros (Zahie Maria\" Elias)\"   \n",
       "1257              3                     Sage, Mrs. John (Annie Bullen)   \n",
       "1274              3                         Risien, Mrs. Samuel (Emma)   \n",
       "\n",
       "                Sex        Age  SibSp  Parch        Ticket      Fare    Cabin  \\\n",
       "PassengerId                                                                     \n",
       "20           female  36.804598      0      0          2649    7.2250  unknown   \n",
       "32           female  36.804598      1      0      PC 17569  146.5208      B78   \n",
       "141          female  36.804598      0      2          2678   15.2458  unknown   \n",
       "167          female  36.804598      0      1        113505   55.0000      E33   \n",
       "187          female  36.804598      1      0        370365   15.5000  unknown   \n",
       "257          female  36.804598      0      0      PC 17585   79.2000  unknown   \n",
       "335          female  36.804598      1      0      PC 17611  133.6500  unknown   \n",
       "348          female  36.804598      1      0        386525   16.1000  unknown   \n",
       "368          female  36.804598      0      0          2626    7.2292  unknown   \n",
       "376          female  36.804598      1      0      PC 17604   82.1708  unknown   \n",
       "416          female  36.804598      0      0        343095    8.0500  unknown   \n",
       "432          female  36.804598      1      0        376564   16.1000  unknown   \n",
       "458          female  36.804598      1      0         17464   51.8625      D21   \n",
       "534          female  36.804598      0      2          2668   22.3583  unknown   \n",
       "579          female  36.804598      1      0          2689   14.4583  unknown   \n",
       "670          female  36.804598      1      0         19996   52.0000     C126   \n",
       "850          female  36.804598      1      0         17453   89.1042      C92   \n",
       "914          female  36.804598      0      0      PC 17598   31.6833  unknown   \n",
       "925          female  36.804598      1      2    W./C. 6607   23.4500  unknown   \n",
       "957          female  36.804598      0      0  F.C.C. 13534   21.0000  unknown   \n",
       "1024         female  36.804598      0      4          4133   25.4667  unknown   \n",
       "1060         female  36.804598      0      0         17770   27.7208  unknown   \n",
       "1091         female  36.804598      0      0         65305    8.1125  unknown   \n",
       "1117         female  36.804598      0      2          2661   15.2458  unknown   \n",
       "1141         female  36.804598      1      0          2660   14.4542  unknown   \n",
       "1257         female  36.804598      1      9      CA. 2343   69.5500  unknown   \n",
       "1274         female  36.804598      0      0        364498   14.5000  unknown   \n",
       "\n",
       "            Embarked  Age_was_missing  \n",
       "PassengerId                            \n",
       "20                 C             True  \n",
       "32                 C             True  \n",
       "141                C             True  \n",
       "167                S             True  \n",
       "187                Q             True  \n",
       "257                C             True  \n",
       "335                S             True  \n",
       "348                S             True  \n",
       "368                C             True  \n",
       "376                C             True  \n",
       "416                S             True  \n",
       "432                S             True  \n",
       "458                S             True  \n",
       "534                C             True  \n",
       "579                C             True  \n",
       "670                S             True  \n",
       "850                C             True  \n",
       "914                S             True  \n",
       "925                S             True  \n",
       "957                S             True  \n",
       "1024               S             True  \n",
       "1060               C             True  \n",
       "1091               S             True  \n",
       "1117               C             True  \n",
       "1141               C             True  \n",
       "1257               S             True  \n",
       "1274               S             True  "
      ]
     },
     "execution_count": 27,
     "metadata": {},
     "output_type": "execute_result"
    }
   ],
   "source": [
    "#Get indices of the 'NaN' age values for married women\n",
    "married_women_age_nan_ind = X_all[(X_all['Name'].str.split(\",\").str.get(1).str.contains('Mrs.'))\n",
    "                         & (X_all['Age'].isnull())].index\n",
    "\n",
    "#Impute the married women 'NaN' age\n",
    "X_all.loc[married_women_age_nan_ind,'Age'] = married_women_mean_age\n",
    "print('Number of entries that are left with unknown age is:',\n",
    "      len(X_all[X_all['Age'].isnull()]))\n",
    "X_all.loc[married_women_age_nan_ind]"
   ]
  },
  {
   "cell_type": "code",
   "execution_count": 28,
   "metadata": {
    "_cell_guid": "aa809698-4bef-4600-b257-e49b34a9907a",
    "_uuid": "7d140f7f-5146-4141-99bc-b2281d949ad7",
    "execution": {
     "iopub.execute_input": "2021-05-19T10:55:35.621087Z",
     "iopub.status.busy": "2021-05-19T10:55:35.620257Z",
     "iopub.status.idle": "2021-05-19T10:55:35.795404Z",
     "shell.execute_reply": "2021-05-19T10:55:35.795805Z"
    },
    "jupyter": {
     "outputs_hidden": false
    },
    "papermill": {
     "duration": 0.261458,
     "end_time": "2021-05-19T10:55:35.795946",
     "exception": false,
     "start_time": "2021-05-19T10:55:35.534488",
     "status": "completed"
    },
    "tags": []
   },
   "outputs": [
    {
     "data": {
      "image/png": "[encoded data removed]",
      "text/plain": [
       "<Figure size 720x432 with 1 Axes>"
      ]
     },
     "metadata": {
      "needs_background": "light"
     },
     "output_type": "display_data"
    }
   ],
   "source": [
    "#Generate the 'single_women_data' table and record the relevant statistical info\n",
    "single_women_data = X_all[X_all['Name'].str.split(\",\").str.get(1).str.contains('Miss.')]\n",
    "single_women_mean_age = single_women_data.Age.mean()\n",
    "single_women_age_std = single_women_data.Age.std()\n",
    "single_women_nan_count = single_women_data.Age.isnull().sum()\n",
    "\n",
    "#Visualize the age distribution of single women \n",
    "plt.figure(figsize=(10,6))\n",
    "sns.histplot(single_women_data, x='Age', kde=True, binwidth=3)\n",
    "plt.title('Fig. 12. Single women age distribution.');"
   ]
  },
  {
   "cell_type": "code",
   "execution_count": 29,
   "metadata": {
    "_cell_guid": "182a4026-5d88-48f2-9075-b4c720325e20",
    "_uuid": "107dd348-25cf-405b-9365-fc6c73b51cbb",
    "execution": {
     "iopub.execute_input": "2021-05-19T10:55:35.928574Z",
     "iopub.status.busy": "2021-05-19T10:55:35.927751Z",
     "iopub.status.idle": "2021-05-19T10:55:35.962445Z",
     "shell.execute_reply": "2021-05-19T10:55:35.962872Z"
    },
    "jupyter": {
     "outputs_hidden": false
    },
    "papermill": {
     "duration": 0.106189,
     "end_time": "2021-05-19T10:55:35.963033",
     "exception": false,
     "start_time": "2021-05-19T10:55:35.856844",
     "status": "completed"
    },
    "tags": []
   },
   "outputs": [
    {
     "name": "stdout",
     "output_type": "stream",
     "text": [
      "Number of entries that are left with unknown age is: 178\n"
     ]
    },
    {
     "data": {
      "text/html": [
       "<div>\n",
       "<style scoped>\n",
       "    .dataframe tbody tr th:only-of-type {\n",
       "        vertical-align: middle;\n",
       "    }\n",
       "\n",
       "    .dataframe tbody tr th {\n",
       "        vertical-align: top;\n",
       "    }\n",
       "\n",
       "    .dataframe thead th {\n",
       "        text-align: right;\n",
       "    }\n",
       "</style>\n",
       "<table border=\"1\" class=\"dataframe\">\n",
       "  <thead>\n",
       "    <tr style=\"text-align: right;\">\n",
       "      <th></th>\n",
       "      <th>Pclass</th>\n",
       "      <th>Name</th>\n",
       "      <th>Sex</th>\n",
       "      <th>Age</th>\n",
       "      <th>SibSp</th>\n",
       "      <th>Parch</th>\n",
       "      <th>Ticket</th>\n",
       "      <th>Fare</th>\n",
       "      <th>Cabin</th>\n",
       "      <th>Embarked</th>\n",
       "      <th>Age_was_missing</th>\n",
       "    </tr>\n",
       "    <tr>\n",
       "      <th>PassengerId</th>\n",
       "      <th></th>\n",
       "      <th></th>\n",
       "      <th></th>\n",
       "      <th></th>\n",
       "      <th></th>\n",
       "      <th></th>\n",
       "      <th></th>\n",
       "      <th></th>\n",
       "      <th></th>\n",
       "      <th></th>\n",
       "      <th></th>\n",
       "    </tr>\n",
       "  </thead>\n",
       "  <tbody>\n",
       "    <tr>\n",
       "      <th>29</th>\n",
       "      <td>3</td>\n",
       "      <td>O'Dwyer, Miss. Ellen \"Nellie\"</td>\n",
       "      <td>female</td>\n",
       "      <td>21.774238</td>\n",
       "      <td>0</td>\n",
       "      <td>0</td>\n",
       "      <td>330959</td>\n",
       "      <td>7.8792</td>\n",
       "      <td>unknown</td>\n",
       "      <td>Q</td>\n",
       "      <td>True</td>\n",
       "    </tr>\n",
       "    <tr>\n",
       "      <th>33</th>\n",
       "      <td>3</td>\n",
       "      <td>Glynn, Miss. Mary Agatha</td>\n",
       "      <td>female</td>\n",
       "      <td>21.774238</td>\n",
       "      <td>0</td>\n",
       "      <td>0</td>\n",
       "      <td>335677</td>\n",
       "      <td>7.7500</td>\n",
       "      <td>unknown</td>\n",
       "      <td>Q</td>\n",
       "      <td>True</td>\n",
       "    </tr>\n",
       "    <tr>\n",
       "      <th>48</th>\n",
       "      <td>3</td>\n",
       "      <td>O'Driscoll, Miss. Bridget</td>\n",
       "      <td>female</td>\n",
       "      <td>21.774238</td>\n",
       "      <td>0</td>\n",
       "      <td>0</td>\n",
       "      <td>14311</td>\n",
       "      <td>7.7500</td>\n",
       "      <td>unknown</td>\n",
       "      <td>Q</td>\n",
       "      <td>True</td>\n",
       "    </tr>\n",
       "    <tr>\n",
       "      <th>83</th>\n",
       "      <td>3</td>\n",
       "      <td>McDermott, Miss. Brigdet Delia</td>\n",
       "      <td>female</td>\n",
       "      <td>21.774238</td>\n",
       "      <td>0</td>\n",
       "      <td>0</td>\n",
       "      <td>330932</td>\n",
       "      <td>7.7875</td>\n",
       "      <td>unknown</td>\n",
       "      <td>Q</td>\n",
       "      <td>True</td>\n",
       "    </tr>\n",
       "    <tr>\n",
       "      <th>110</th>\n",
       "      <td>3</td>\n",
       "      <td>Moran, Miss. Bertha</td>\n",
       "      <td>female</td>\n",
       "      <td>21.774238</td>\n",
       "      <td>1</td>\n",
       "      <td>0</td>\n",
       "      <td>371110</td>\n",
       "      <td>24.1500</td>\n",
       "      <td>unknown</td>\n",
       "      <td>Q</td>\n",
       "      <td>True</td>\n",
       "    </tr>\n",
       "    <tr>\n",
       "      <th>129</th>\n",
       "      <td>3</td>\n",
       "      <td>Peter, Miss. Anna</td>\n",
       "      <td>female</td>\n",
       "      <td>21.774238</td>\n",
       "      <td>1</td>\n",
       "      <td>1</td>\n",
       "      <td>2668</td>\n",
       "      <td>22.3583</td>\n",
       "      <td>F E69</td>\n",
       "      <td>C</td>\n",
       "      <td>True</td>\n",
       "    </tr>\n",
       "    <tr>\n",
       "      <th>181</th>\n",
       "      <td>3</td>\n",
       "      <td>Sage, Miss. Constance Gladys</td>\n",
       "      <td>female</td>\n",
       "      <td>21.774238</td>\n",
       "      <td>8</td>\n",
       "      <td>2</td>\n",
       "      <td>CA. 2343</td>\n",
       "      <td>69.5500</td>\n",
       "      <td>unknown</td>\n",
       "      <td>S</td>\n",
       "      <td>True</td>\n",
       "    </tr>\n",
       "    <tr>\n",
       "      <th>199</th>\n",
       "      <td>3</td>\n",
       "      <td>Madigan, Miss. Margaret \"Maggie\"</td>\n",
       "      <td>female</td>\n",
       "      <td>21.774238</td>\n",
       "      <td>0</td>\n",
       "      <td>0</td>\n",
       "      <td>370370</td>\n",
       "      <td>7.7500</td>\n",
       "      <td>unknown</td>\n",
       "      <td>Q</td>\n",
       "      <td>True</td>\n",
       "    </tr>\n",
       "    <tr>\n",
       "      <th>230</th>\n",
       "      <td>3</td>\n",
       "      <td>Lefebre, Miss. Mathilde</td>\n",
       "      <td>female</td>\n",
       "      <td>21.774238</td>\n",
       "      <td>3</td>\n",
       "      <td>1</td>\n",
       "      <td>4133</td>\n",
       "      <td>25.4667</td>\n",
       "      <td>unknown</td>\n",
       "      <td>S</td>\n",
       "      <td>True</td>\n",
       "    </tr>\n",
       "    <tr>\n",
       "      <th>236</th>\n",
       "      <td>3</td>\n",
       "      <td>Harknett, Miss. Alice Phoebe</td>\n",
       "      <td>female</td>\n",
       "      <td>21.774238</td>\n",
       "      <td>0</td>\n",
       "      <td>0</td>\n",
       "      <td>W./C. 6609</td>\n",
       "      <td>7.5500</td>\n",
       "      <td>unknown</td>\n",
       "      <td>S</td>\n",
       "      <td>True</td>\n",
       "    </tr>\n",
       "    <tr>\n",
       "      <th>241</th>\n",
       "      <td>3</td>\n",
       "      <td>Zabour, Miss. Thamine</td>\n",
       "      <td>female</td>\n",
       "      <td>21.774238</td>\n",
       "      <td>1</td>\n",
       "      <td>0</td>\n",
       "      <td>2665</td>\n",
       "      <td>14.4542</td>\n",
       "      <td>unknown</td>\n",
       "      <td>C</td>\n",
       "      <td>True</td>\n",
       "    </tr>\n",
       "    <tr>\n",
       "      <th>242</th>\n",
       "      <td>3</td>\n",
       "      <td>Murphy, Miss. Katherine \"Kate\"</td>\n",
       "      <td>female</td>\n",
       "      <td>21.774238</td>\n",
       "      <td>1</td>\n",
       "      <td>0</td>\n",
       "      <td>367230</td>\n",
       "      <td>15.5000</td>\n",
       "      <td>unknown</td>\n",
       "      <td>Q</td>\n",
       "      <td>True</td>\n",
       "    </tr>\n",
       "    <tr>\n",
       "      <th>265</th>\n",
       "      <td>3</td>\n",
       "      <td>Henry, Miss. Delia</td>\n",
       "      <td>female</td>\n",
       "      <td>21.774238</td>\n",
       "      <td>0</td>\n",
       "      <td>0</td>\n",
       "      <td>382649</td>\n",
       "      <td>7.7500</td>\n",
       "      <td>unknown</td>\n",
       "      <td>Q</td>\n",
       "      <td>True</td>\n",
       "    </tr>\n",
       "    <tr>\n",
       "      <th>275</th>\n",
       "      <td>3</td>\n",
       "      <td>Healy, Miss. Hanora \"Nora\"</td>\n",
       "      <td>female</td>\n",
       "      <td>21.774238</td>\n",
       "      <td>0</td>\n",
       "      <td>0</td>\n",
       "      <td>370375</td>\n",
       "      <td>7.7500</td>\n",
       "      <td>unknown</td>\n",
       "      <td>Q</td>\n",
       "      <td>True</td>\n",
       "    </tr>\n",
       "    <tr>\n",
       "      <th>301</th>\n",
       "      <td>3</td>\n",
       "      <td>Kelly, Miss. Anna Katherine \"Annie Kate\"</td>\n",
       "      <td>female</td>\n",
       "      <td>21.774238</td>\n",
       "      <td>0</td>\n",
       "      <td>0</td>\n",
       "      <td>9234</td>\n",
       "      <td>7.7500</td>\n",
       "      <td>unknown</td>\n",
       "      <td>Q</td>\n",
       "      <td>True</td>\n",
       "    </tr>\n",
       "    <tr>\n",
       "      <th>304</th>\n",
       "      <td>2</td>\n",
       "      <td>Keane, Miss. Nora A</td>\n",
       "      <td>female</td>\n",
       "      <td>21.774238</td>\n",
       "      <td>0</td>\n",
       "      <td>0</td>\n",
       "      <td>226593</td>\n",
       "      <td>12.3500</td>\n",
       "      <td>E101</td>\n",
       "      <td>Q</td>\n",
       "      <td>True</td>\n",
       "    </tr>\n",
       "    <tr>\n",
       "      <th>307</th>\n",
       "      <td>1</td>\n",
       "      <td>Fleming, Miss. Margaret</td>\n",
       "      <td>female</td>\n",
       "      <td>21.774238</td>\n",
       "      <td>0</td>\n",
       "      <td>0</td>\n",
       "      <td>17421</td>\n",
       "      <td>110.8833</td>\n",
       "      <td>unknown</td>\n",
       "      <td>C</td>\n",
       "      <td>True</td>\n",
       "    </tr>\n",
       "    <tr>\n",
       "      <th>331</th>\n",
       "      <td>3</td>\n",
       "      <td>McCoy, Miss. Agnes</td>\n",
       "      <td>female</td>\n",
       "      <td>21.774238</td>\n",
       "      <td>2</td>\n",
       "      <td>0</td>\n",
       "      <td>367226</td>\n",
       "      <td>23.2500</td>\n",
       "      <td>unknown</td>\n",
       "      <td>Q</td>\n",
       "      <td>True</td>\n",
       "    </tr>\n",
       "    <tr>\n",
       "      <th>359</th>\n",
       "      <td>3</td>\n",
       "      <td>McGovern, Miss. Mary</td>\n",
       "      <td>female</td>\n",
       "      <td>21.774238</td>\n",
       "      <td>0</td>\n",
       "      <td>0</td>\n",
       "      <td>330931</td>\n",
       "      <td>7.8792</td>\n",
       "      <td>unknown</td>\n",
       "      <td>Q</td>\n",
       "      <td>True</td>\n",
       "    </tr>\n",
       "    <tr>\n",
       "      <th>360</th>\n",
       "      <td>3</td>\n",
       "      <td>Mockler, Miss. Helen Mary \"Ellie\"</td>\n",
       "      <td>female</td>\n",
       "      <td>21.774238</td>\n",
       "      <td>0</td>\n",
       "      <td>0</td>\n",
       "      <td>330980</td>\n",
       "      <td>7.8792</td>\n",
       "      <td>unknown</td>\n",
       "      <td>Q</td>\n",
       "      <td>True</td>\n",
       "    </tr>\n",
       "    <tr>\n",
       "      <th>369</th>\n",
       "      <td>3</td>\n",
       "      <td>Jermyn, Miss. Annie</td>\n",
       "      <td>female</td>\n",
       "      <td>21.774238</td>\n",
       "      <td>0</td>\n",
       "      <td>0</td>\n",
       "      <td>14313</td>\n",
       "      <td>7.7500</td>\n",
       "      <td>unknown</td>\n",
       "      <td>Q</td>\n",
       "      <td>True</td>\n",
       "    </tr>\n",
       "    <tr>\n",
       "      <th>410</th>\n",
       "      <td>3</td>\n",
       "      <td>Lefebre, Miss. Ida</td>\n",
       "      <td>female</td>\n",
       "      <td>21.774238</td>\n",
       "      <td>3</td>\n",
       "      <td>1</td>\n",
       "      <td>4133</td>\n",
       "      <td>25.4667</td>\n",
       "      <td>unknown</td>\n",
       "      <td>S</td>\n",
       "      <td>True</td>\n",
       "    </tr>\n",
       "    <tr>\n",
       "      <th>486</th>\n",
       "      <td>3</td>\n",
       "      <td>Lefebre, Miss. Jeannie</td>\n",
       "      <td>female</td>\n",
       "      <td>21.774238</td>\n",
       "      <td>3</td>\n",
       "      <td>1</td>\n",
       "      <td>4133</td>\n",
       "      <td>25.4667</td>\n",
       "      <td>unknown</td>\n",
       "      <td>S</td>\n",
       "      <td>True</td>\n",
       "    </tr>\n",
       "    <tr>\n",
       "      <th>503</th>\n",
       "      <td>3</td>\n",
       "      <td>O'Sullivan, Miss. Bridget Mary</td>\n",
       "      <td>female</td>\n",
       "      <td>21.774238</td>\n",
       "      <td>0</td>\n",
       "      <td>0</td>\n",
       "      <td>330909</td>\n",
       "      <td>7.6292</td>\n",
       "      <td>unknown</td>\n",
       "      <td>Q</td>\n",
       "      <td>True</td>\n",
       "    </tr>\n",
       "    <tr>\n",
       "      <th>565</th>\n",
       "      <td>3</td>\n",
       "      <td>Meanwell, Miss. (Marion Ogden)</td>\n",
       "      <td>female</td>\n",
       "      <td>21.774238</td>\n",
       "      <td>0</td>\n",
       "      <td>0</td>\n",
       "      <td>SOTON/O.Q. 392087</td>\n",
       "      <td>8.0500</td>\n",
       "      <td>unknown</td>\n",
       "      <td>S</td>\n",
       "      <td>True</td>\n",
       "    </tr>\n",
       "    <tr>\n",
       "      <th>574</th>\n",
       "      <td>3</td>\n",
       "      <td>Kelly, Miss. Mary</td>\n",
       "      <td>female</td>\n",
       "      <td>21.774238</td>\n",
       "      <td>0</td>\n",
       "      <td>0</td>\n",
       "      <td>14312</td>\n",
       "      <td>7.7500</td>\n",
       "      <td>unknown</td>\n",
       "      <td>Q</td>\n",
       "      <td>True</td>\n",
       "    </tr>\n",
       "    <tr>\n",
       "      <th>594</th>\n",
       "      <td>3</td>\n",
       "      <td>Bourke, Miss. Mary</td>\n",
       "      <td>female</td>\n",
       "      <td>21.774238</td>\n",
       "      <td>0</td>\n",
       "      <td>2</td>\n",
       "      <td>364848</td>\n",
       "      <td>7.7500</td>\n",
       "      <td>unknown</td>\n",
       "      <td>Q</td>\n",
       "      <td>True</td>\n",
       "    </tr>\n",
       "    <tr>\n",
       "      <th>597</th>\n",
       "      <td>2</td>\n",
       "      <td>Leitch, Miss. Jessie Wills</td>\n",
       "      <td>female</td>\n",
       "      <td>21.774238</td>\n",
       "      <td>0</td>\n",
       "      <td>0</td>\n",
       "      <td>248727</td>\n",
       "      <td>33.0000</td>\n",
       "      <td>unknown</td>\n",
       "      <td>S</td>\n",
       "      <td>True</td>\n",
       "    </tr>\n",
       "    <tr>\n",
       "      <th>613</th>\n",
       "      <td>3</td>\n",
       "      <td>Murphy, Miss. Margaret Jane</td>\n",
       "      <td>female</td>\n",
       "      <td>21.774238</td>\n",
       "      <td>1</td>\n",
       "      <td>0</td>\n",
       "      <td>367230</td>\n",
       "      <td>15.5000</td>\n",
       "      <td>unknown</td>\n",
       "      <td>Q</td>\n",
       "      <td>True</td>\n",
       "    </tr>\n",
       "    <tr>\n",
       "      <th>654</th>\n",
       "      <td>3</td>\n",
       "      <td>O'Leary, Miss. Hanora \"Norah\"</td>\n",
       "      <td>female</td>\n",
       "      <td>21.774238</td>\n",
       "      <td>0</td>\n",
       "      <td>0</td>\n",
       "      <td>330919</td>\n",
       "      <td>7.8292</td>\n",
       "      <td>unknown</td>\n",
       "      <td>Q</td>\n",
       "      <td>True</td>\n",
       "    </tr>\n",
       "    <tr>\n",
       "      <th>681</th>\n",
       "      <td>3</td>\n",
       "      <td>Peters, Miss. Katie</td>\n",
       "      <td>female</td>\n",
       "      <td>21.774238</td>\n",
       "      <td>0</td>\n",
       "      <td>0</td>\n",
       "      <td>330935</td>\n",
       "      <td>8.1375</td>\n",
       "      <td>unknown</td>\n",
       "      <td>Q</td>\n",
       "      <td>True</td>\n",
       "    </tr>\n",
       "    <tr>\n",
       "      <th>698</th>\n",
       "      <td>3</td>\n",
       "      <td>Mullens, Miss. Katherine \"Katie\"</td>\n",
       "      <td>female</td>\n",
       "      <td>21.774238</td>\n",
       "      <td>0</td>\n",
       "      <td>0</td>\n",
       "      <td>35852</td>\n",
       "      <td>7.7333</td>\n",
       "      <td>unknown</td>\n",
       "      <td>Q</td>\n",
       "      <td>True</td>\n",
       "    </tr>\n",
       "    <tr>\n",
       "      <th>728</th>\n",
       "      <td>3</td>\n",
       "      <td>Mannion, Miss. Margareth</td>\n",
       "      <td>female</td>\n",
       "      <td>21.774238</td>\n",
       "      <td>0</td>\n",
       "      <td>0</td>\n",
       "      <td>36866</td>\n",
       "      <td>7.7375</td>\n",
       "      <td>unknown</td>\n",
       "      <td>Q</td>\n",
       "      <td>True</td>\n",
       "    </tr>\n",
       "    <tr>\n",
       "      <th>793</th>\n",
       "      <td>3</td>\n",
       "      <td>Sage, Miss. Stella Anna</td>\n",
       "      <td>female</td>\n",
       "      <td>21.774238</td>\n",
       "      <td>8</td>\n",
       "      <td>2</td>\n",
       "      <td>CA. 2343</td>\n",
       "      <td>69.5500</td>\n",
       "      <td>unknown</td>\n",
       "      <td>S</td>\n",
       "      <td>True</td>\n",
       "    </tr>\n",
       "    <tr>\n",
       "      <th>864</th>\n",
       "      <td>3</td>\n",
       "      <td>Sage, Miss. Dorothy Edith \"Dolly\"</td>\n",
       "      <td>female</td>\n",
       "      <td>21.774238</td>\n",
       "      <td>8</td>\n",
       "      <td>2</td>\n",
       "      <td>CA. 2343</td>\n",
       "      <td>69.5500</td>\n",
       "      <td>unknown</td>\n",
       "      <td>S</td>\n",
       "      <td>True</td>\n",
       "    </tr>\n",
       "    <tr>\n",
       "      <th>889</th>\n",
       "      <td>3</td>\n",
       "      <td>Johnston, Miss. Catherine Helen \"Carrie\"</td>\n",
       "      <td>female</td>\n",
       "      <td>21.774238</td>\n",
       "      <td>1</td>\n",
       "      <td>2</td>\n",
       "      <td>W./C. 6607</td>\n",
       "      <td>23.4500</td>\n",
       "      <td>unknown</td>\n",
       "      <td>S</td>\n",
       "      <td>True</td>\n",
       "    </tr>\n",
       "    <tr>\n",
       "      <th>928</th>\n",
       "      <td>3</td>\n",
       "      <td>Roth, Miss. Sarah A</td>\n",
       "      <td>female</td>\n",
       "      <td>21.774238</td>\n",
       "      <td>0</td>\n",
       "      <td>0</td>\n",
       "      <td>342712</td>\n",
       "      <td>8.0500</td>\n",
       "      <td>unknown</td>\n",
       "      <td>S</td>\n",
       "      <td>True</td>\n",
       "    </tr>\n",
       "    <tr>\n",
       "      <th>1003</th>\n",
       "      <td>3</td>\n",
       "      <td>Shine, Miss. Ellen Natalia</td>\n",
       "      <td>female</td>\n",
       "      <td>21.774238</td>\n",
       "      <td>0</td>\n",
       "      <td>0</td>\n",
       "      <td>330968</td>\n",
       "      <td>7.7792</td>\n",
       "      <td>unknown</td>\n",
       "      <td>Q</td>\n",
       "      <td>True</td>\n",
       "    </tr>\n",
       "    <tr>\n",
       "      <th>1019</th>\n",
       "      <td>3</td>\n",
       "      <td>McCoy, Miss. Alicia</td>\n",
       "      <td>female</td>\n",
       "      <td>21.774238</td>\n",
       "      <td>2</td>\n",
       "      <td>0</td>\n",
       "      <td>367226</td>\n",
       "      <td>23.2500</td>\n",
       "      <td>unknown</td>\n",
       "      <td>Q</td>\n",
       "      <td>True</td>\n",
       "    </tr>\n",
       "    <tr>\n",
       "      <th>1052</th>\n",
       "      <td>3</td>\n",
       "      <td>Smyth, Miss. Julia</td>\n",
       "      <td>female</td>\n",
       "      <td>21.774238</td>\n",
       "      <td>0</td>\n",
       "      <td>0</td>\n",
       "      <td>335432</td>\n",
       "      <td>7.7333</td>\n",
       "      <td>unknown</td>\n",
       "      <td>Q</td>\n",
       "      <td>True</td>\n",
       "    </tr>\n",
       "    <tr>\n",
       "      <th>1080</th>\n",
       "      <td>3</td>\n",
       "      <td>Sage, Miss. Ada</td>\n",
       "      <td>female</td>\n",
       "      <td>21.774238</td>\n",
       "      <td>8</td>\n",
       "      <td>2</td>\n",
       "      <td>CA. 2343</td>\n",
       "      <td>69.5500</td>\n",
       "      <td>unknown</td>\n",
       "      <td>S</td>\n",
       "      <td>True</td>\n",
       "    </tr>\n",
       "    <tr>\n",
       "      <th>1092</th>\n",
       "      <td>3</td>\n",
       "      <td>Murphy, Miss. Nora</td>\n",
       "      <td>female</td>\n",
       "      <td>21.774238</td>\n",
       "      <td>0</td>\n",
       "      <td>0</td>\n",
       "      <td>36568</td>\n",
       "      <td>15.5000</td>\n",
       "      <td>unknown</td>\n",
       "      <td>Q</td>\n",
       "      <td>True</td>\n",
       "    </tr>\n",
       "    <tr>\n",
       "      <th>1108</th>\n",
       "      <td>3</td>\n",
       "      <td>Mahon, Miss. Bridget Delia</td>\n",
       "      <td>female</td>\n",
       "      <td>21.774238</td>\n",
       "      <td>0</td>\n",
       "      <td>0</td>\n",
       "      <td>330924</td>\n",
       "      <td>7.8792</td>\n",
       "      <td>unknown</td>\n",
       "      <td>Q</td>\n",
       "      <td>True</td>\n",
       "    </tr>\n",
       "    <tr>\n",
       "      <th>1119</th>\n",
       "      <td>3</td>\n",
       "      <td>McNeill, Miss. Bridget</td>\n",
       "      <td>female</td>\n",
       "      <td>21.774238</td>\n",
       "      <td>0</td>\n",
       "      <td>0</td>\n",
       "      <td>370368</td>\n",
       "      <td>7.7500</td>\n",
       "      <td>unknown</td>\n",
       "      <td>Q</td>\n",
       "      <td>True</td>\n",
       "    </tr>\n",
       "    <tr>\n",
       "      <th>1160</th>\n",
       "      <td>3</td>\n",
       "      <td>Howard, Miss. May Elizabeth</td>\n",
       "      <td>female</td>\n",
       "      <td>21.774238</td>\n",
       "      <td>0</td>\n",
       "      <td>0</td>\n",
       "      <td>A. 2. 39186</td>\n",
       "      <td>8.0500</td>\n",
       "      <td>unknown</td>\n",
       "      <td>S</td>\n",
       "      <td>True</td>\n",
       "    </tr>\n",
       "    <tr>\n",
       "      <th>1165</th>\n",
       "      <td>3</td>\n",
       "      <td>Lennon, Miss. Mary</td>\n",
       "      <td>female</td>\n",
       "      <td>21.774238</td>\n",
       "      <td>1</td>\n",
       "      <td>0</td>\n",
       "      <td>370371</td>\n",
       "      <td>15.5000</td>\n",
       "      <td>unknown</td>\n",
       "      <td>Q</td>\n",
       "      <td>True</td>\n",
       "    </tr>\n",
       "    <tr>\n",
       "      <th>1174</th>\n",
       "      <td>3</td>\n",
       "      <td>Fleming, Miss. Honora</td>\n",
       "      <td>female</td>\n",
       "      <td>21.774238</td>\n",
       "      <td>0</td>\n",
       "      <td>0</td>\n",
       "      <td>364859</td>\n",
       "      <td>7.7500</td>\n",
       "      <td>unknown</td>\n",
       "      <td>Q</td>\n",
       "      <td>True</td>\n",
       "    </tr>\n",
       "    <tr>\n",
       "      <th>1196</th>\n",
       "      <td>3</td>\n",
       "      <td>McCarthy, Miss. Catherine Katie\"\"</td>\n",
       "      <td>female</td>\n",
       "      <td>21.774238</td>\n",
       "      <td>0</td>\n",
       "      <td>0</td>\n",
       "      <td>383123</td>\n",
       "      <td>7.7500</td>\n",
       "      <td>unknown</td>\n",
       "      <td>Q</td>\n",
       "      <td>True</td>\n",
       "    </tr>\n",
       "    <tr>\n",
       "      <th>1300</th>\n",
       "      <td>3</td>\n",
       "      <td>Riordan, Miss. Johanna Hannah\"\"</td>\n",
       "      <td>female</td>\n",
       "      <td>21.774238</td>\n",
       "      <td>0</td>\n",
       "      <td>0</td>\n",
       "      <td>334915</td>\n",
       "      <td>7.7208</td>\n",
       "      <td>unknown</td>\n",
       "      <td>Q</td>\n",
       "      <td>True</td>\n",
       "    </tr>\n",
       "    <tr>\n",
       "      <th>1302</th>\n",
       "      <td>3</td>\n",
       "      <td>Naughton, Miss. Hannah</td>\n",
       "      <td>female</td>\n",
       "      <td>21.774238</td>\n",
       "      <td>0</td>\n",
       "      <td>0</td>\n",
       "      <td>365237</td>\n",
       "      <td>7.7500</td>\n",
       "      <td>unknown</td>\n",
       "      <td>Q</td>\n",
       "      <td>True</td>\n",
       "    </tr>\n",
       "  </tbody>\n",
       "</table>\n",
       "</div>"
      ],
      "text/plain": [
       "             Pclass                                      Name     Sex  \\\n",
       "PassengerId                                                             \n",
       "29                3             O'Dwyer, Miss. Ellen \"Nellie\"  female   \n",
       "33                3                  Glynn, Miss. Mary Agatha  female   \n",
       "48                3                 O'Driscoll, Miss. Bridget  female   \n",
       "83                3            McDermott, Miss. Brigdet Delia  female   \n",
       "110               3                       Moran, Miss. Bertha  female   \n",
       "129               3                         Peter, Miss. Anna  female   \n",
       "181               3              Sage, Miss. Constance Gladys  female   \n",
       "199               3          Madigan, Miss. Margaret \"Maggie\"  female   \n",
       "230               3                   Lefebre, Miss. Mathilde  female   \n",
       "236               3              Harknett, Miss. Alice Phoebe  female   \n",
       "241               3                     Zabour, Miss. Thamine  female   \n",
       "242               3            Murphy, Miss. Katherine \"Kate\"  female   \n",
       "265               3                        Henry, Miss. Delia  female   \n",
       "275               3                Healy, Miss. Hanora \"Nora\"  female   \n",
       "301               3  Kelly, Miss. Anna Katherine \"Annie Kate\"  female   \n",
       "304               2                       Keane, Miss. Nora A  female   \n",
       "307               1                   Fleming, Miss. Margaret  female   \n",
       "331               3                        McCoy, Miss. Agnes  female   \n",
       "359               3                      McGovern, Miss. Mary  female   \n",
       "360               3         Mockler, Miss. Helen Mary \"Ellie\"  female   \n",
       "369               3                       Jermyn, Miss. Annie  female   \n",
       "410               3                        Lefebre, Miss. Ida  female   \n",
       "486               3                    Lefebre, Miss. Jeannie  female   \n",
       "503               3            O'Sullivan, Miss. Bridget Mary  female   \n",
       "565               3            Meanwell, Miss. (Marion Ogden)  female   \n",
       "574               3                         Kelly, Miss. Mary  female   \n",
       "594               3                        Bourke, Miss. Mary  female   \n",
       "597               2                Leitch, Miss. Jessie Wills  female   \n",
       "613               3               Murphy, Miss. Margaret Jane  female   \n",
       "654               3             O'Leary, Miss. Hanora \"Norah\"  female   \n",
       "681               3                       Peters, Miss. Katie  female   \n",
       "698               3          Mullens, Miss. Katherine \"Katie\"  female   \n",
       "728               3                  Mannion, Miss. Margareth  female   \n",
       "793               3                   Sage, Miss. Stella Anna  female   \n",
       "864               3         Sage, Miss. Dorothy Edith \"Dolly\"  female   \n",
       "889               3  Johnston, Miss. Catherine Helen \"Carrie\"  female   \n",
       "928               3                       Roth, Miss. Sarah A  female   \n",
       "1003              3                Shine, Miss. Ellen Natalia  female   \n",
       "1019              3                       McCoy, Miss. Alicia  female   \n",
       "1052              3                        Smyth, Miss. Julia  female   \n",
       "1080              3                           Sage, Miss. Ada  female   \n",
       "1092              3                        Murphy, Miss. Nora  female   \n",
       "1108              3                Mahon, Miss. Bridget Delia  female   \n",
       "1119              3                    McNeill, Miss. Bridget  female   \n",
       "1160              3               Howard, Miss. May Elizabeth  female   \n",
       "1165              3                        Lennon, Miss. Mary  female   \n",
       "1174              3                     Fleming, Miss. Honora  female   \n",
       "1196              3         McCarthy, Miss. Catherine Katie\"\"  female   \n",
       "1300              3           Riordan, Miss. Johanna Hannah\"\"  female   \n",
       "1302              3                    Naughton, Miss. Hannah  female   \n",
       "\n",
       "                   Age  SibSp  Parch             Ticket      Fare    Cabin  \\\n",
       "PassengerId                                                                  \n",
       "29           21.774238      0      0             330959    7.8792  unknown   \n",
       "33           21.774238      0      0             335677    7.7500  unknown   \n",
       "48           21.774238      0      0              14311    7.7500  unknown   \n",
       "83           21.774238      0      0             330932    7.7875  unknown   \n",
       "110          21.774238      1      0             371110   24.1500  unknown   \n",
       "129          21.774238      1      1               2668   22.3583    F E69   \n",
       "181          21.774238      8      2           CA. 2343   69.5500  unknown   \n",
       "199          21.774238      0      0             370370    7.7500  unknown   \n",
       "230          21.774238      3      1               4133   25.4667  unknown   \n",
       "236          21.774238      0      0         W./C. 6609    7.5500  unknown   \n",
       "241          21.774238      1      0               2665   14.4542  unknown   \n",
       "242          21.774238      1      0             367230   15.5000  unknown   \n",
       "265          21.774238      0      0             382649    7.7500  unknown   \n",
       "275          21.774238      0      0             370375    7.7500  unknown   \n",
       "301          21.774238      0      0               9234    7.7500  unknown   \n",
       "304          21.774238      0      0             226593   12.3500     E101   \n",
       "307          21.774238      0      0              17421  110.8833  unknown   \n",
       "331          21.774238      2      0             367226   23.2500  unknown   \n",
       "359          21.774238      0      0             330931    7.8792  unknown   \n",
       "360          21.774238      0      0             330980    7.8792  unknown   \n",
       "369          21.774238      0      0              14313    7.7500  unknown   \n",
       "410          21.774238      3      1               4133   25.4667  unknown   \n",
       "486          21.774238      3      1               4133   25.4667  unknown   \n",
       "503          21.774238      0      0             330909    7.6292  unknown   \n",
       "565          21.774238      0      0  SOTON/O.Q. 392087    8.0500  unknown   \n",
       "574          21.774238      0      0              14312    7.7500  unknown   \n",
       "594          21.774238      0      2             364848    7.7500  unknown   \n",
       "597          21.774238      0      0             248727   33.0000  unknown   \n",
       "613          21.774238      1      0             367230   15.5000  unknown   \n",
       "654          21.774238      0      0             330919    7.8292  unknown   \n",
       "681          21.774238      0      0             330935    8.1375  unknown   \n",
       "698          21.774238      0      0              35852    7.7333  unknown   \n",
       "728          21.774238      0      0              36866    7.7375  unknown   \n",
       "793          21.774238      8      2           CA. 2343   69.5500  unknown   \n",
       "864          21.774238      8      2           CA. 2343   69.5500  unknown   \n",
       "889          21.774238      1      2         W./C. 6607   23.4500  unknown   \n",
       "928          21.774238      0      0             342712    8.0500  unknown   \n",
       "1003         21.774238      0      0             330968    7.7792  unknown   \n",
       "1019         21.774238      2      0             367226   23.2500  unknown   \n",
       "1052         21.774238      0      0             335432    7.7333  unknown   \n",
       "1080         21.774238      8      2           CA. 2343   69.5500  unknown   \n",
       "1092         21.774238      0      0              36568   15.5000  unknown   \n",
       "1108         21.774238      0      0             330924    7.8792  unknown   \n",
       "1119         21.774238      0      0             370368    7.7500  unknown   \n",
       "1160         21.774238      0      0        A. 2. 39186    8.0500  unknown   \n",
       "1165         21.774238      1      0             370371   15.5000  unknown   \n",
       "1174         21.774238      0      0             364859    7.7500  unknown   \n",
       "1196         21.774238      0      0             383123    7.7500  unknown   \n",
       "1300         21.774238      0      0             334915    7.7208  unknown   \n",
       "1302         21.774238      0      0             365237    7.7500  unknown   \n",
       "\n",
       "            Embarked  Age_was_missing  \n",
       "PassengerId                            \n",
       "29                 Q             True  \n",
       "33                 Q             True  \n",
       "48                 Q             True  \n",
       "83                 Q             True  \n",
       "110                Q             True  \n",
       "129                C             True  \n",
       "181                S             True  \n",
       "199                Q             True  \n",
       "230                S             True  \n",
       "236                S             True  \n",
       "241                C             True  \n",
       "242                Q             True  \n",
       "265                Q             True  \n",
       "275                Q             True  \n",
       "301                Q             True  \n",
       "304                Q             True  \n",
       "307                C             True  \n",
       "331                Q             True  \n",
       "359                Q             True  \n",
       "360                Q             True  \n",
       "369                Q             True  \n",
       "410                S             True  \n",
       "486                S             True  \n",
       "503                Q             True  \n",
       "565                S             True  \n",
       "574                Q             True  \n",
       "594                Q             True  \n",
       "597                S             True  \n",
       "613                Q             True  \n",
       "654                Q             True  \n",
       "681                Q             True  \n",
       "698                Q             True  \n",
       "728                Q             True  \n",
       "793                S             True  \n",
       "864                S             True  \n",
       "889                S             True  \n",
       "928                S             True  \n",
       "1003               Q             True  \n",
       "1019               Q             True  \n",
       "1052               Q             True  \n",
       "1080               S             True  \n",
       "1092               Q             True  \n",
       "1108               Q             True  \n",
       "1119               Q             True  \n",
       "1160               S             True  \n",
       "1165               Q             True  \n",
       "1174               Q             True  \n",
       "1196               Q             True  \n",
       "1300               Q             True  \n",
       "1302               Q             True  "
      ]
     },
     "execution_count": 29,
     "metadata": {},
     "output_type": "execute_result"
    }
   ],
   "source": [
    "#Get indices of 'NaN' age values for single women\n",
    "single_women_age_nan_ind = X_all[(X_all['Name'].str.split(\",\").str.get(1).str.contains('Miss.'))\n",
    "                         & (X_all['Age'].isnull())].index\n",
    "\n",
    "#Impute the single women 'NaN' age\n",
    "X_all.loc[single_women_age_nan_ind,'Age'] = single_women_mean_age\n",
    "print('Number of entries that are left with unknown age is:',\n",
    "      len(X_all[X_all['Age'].isnull()]))\n",
    "X_all.loc[single_women_age_nan_ind]"
   ]
  },
  {
   "cell_type": "code",
   "execution_count": 30,
   "metadata": {
    "_cell_guid": "72f14d7f-43d5-45df-b42e-3c3cca9b7938",
    "_uuid": "47b4033c-55e5-44dd-89b8-18085ca8cb0e",
    "execution": {
     "iopub.execute_input": "2021-05-19T10:55:36.101832Z",
     "iopub.status.busy": "2021-05-19T10:55:36.100994Z",
     "iopub.status.idle": "2021-05-19T10:55:36.297199Z",
     "shell.execute_reply": "2021-05-19T10:55:36.297617Z"
    },
    "jupyter": {
     "outputs_hidden": false
    },
    "papermill": {
     "duration": 0.268908,
     "end_time": "2021-05-19T10:55:36.297763",
     "exception": false,
     "start_time": "2021-05-19T10:55:36.028855",
     "status": "completed"
    },
    "tags": []
   },
   "outputs": [
    {
     "data": {
      "image/png": "[encoded data removed]",
      "text/plain": [
       "<Figure size 720x432 with 1 Axes>"
      ]
     },
     "metadata": {
      "needs_background": "light"
     },
     "output_type": "display_data"
    }
   ],
   "source": [
    "#Generate the 'men_data' table and record the relevant statistical info\n",
    "men_data = X_all[(~(X_all['Name'].str.split(\",\").str.get(1).str.contains('Master.')))\n",
    "                 & (X_all['Sex']=='male')]\n",
    "men_mean_age = men_data.Age.mean()\n",
    "men_age_std = men_data.Age.std()\n",
    "men_nan_count = men_data.Age.isnull().sum()\n",
    "\n",
    "#Visualize the age distribution of men \n",
    "plt.figure(figsize=(10,6))\n",
    "sns.histplot(men_data, x='Age', kde=True, binwidth=3)\n",
    "plt.title('Fig. 13. Men age distribution.');"
   ]
  },
  {
   "cell_type": "code",
   "execution_count": 31,
   "metadata": {
    "_cell_guid": "bbb6b1d4-be1d-4aea-9bbb-8ae84f74f7e5",
    "_uuid": "e51040ee-5d6b-4a31-b813-945f4c9c56bb",
    "execution": {
     "iopub.execute_input": "2021-05-19T10:55:36.450353Z",
     "iopub.status.busy": "2021-05-19T10:55:36.449434Z",
     "iopub.status.idle": "2021-05-19T10:55:36.461128Z",
     "shell.execute_reply": "2021-05-19T10:55:36.460719Z"
    },
    "jupyter": {
     "outputs_hidden": false
    },
    "papermill": {
     "duration": 0.100001,
     "end_time": "2021-05-19T10:55:36.461245",
     "exception": false,
     "start_time": "2021-05-19T10:55:36.361244",
     "status": "completed"
    },
    "tags": []
   },
   "outputs": [
    {
     "name": "stdout",
     "output_type": "stream",
     "text": [
      "Number of entries that are left with unknown age is: 1\n"
     ]
    },
    {
     "data": {
      "text/html": [
       "<div>\n",
       "<style scoped>\n",
       "    .dataframe tbody tr th:only-of-type {\n",
       "        vertical-align: middle;\n",
       "    }\n",
       "\n",
       "    .dataframe tbody tr th {\n",
       "        vertical-align: top;\n",
       "    }\n",
       "\n",
       "    .dataframe thead th {\n",
       "        text-align: right;\n",
       "    }\n",
       "</style>\n",
       "<table border=\"1\" class=\"dataframe\">\n",
       "  <thead>\n",
       "    <tr style=\"text-align: right;\">\n",
       "      <th></th>\n",
       "      <th>Pclass</th>\n",
       "      <th>Name</th>\n",
       "      <th>Sex</th>\n",
       "      <th>Age</th>\n",
       "      <th>SibSp</th>\n",
       "      <th>Parch</th>\n",
       "      <th>Ticket</th>\n",
       "      <th>Fare</th>\n",
       "      <th>Cabin</th>\n",
       "      <th>Embarked</th>\n",
       "      <th>Age_was_missing</th>\n",
       "    </tr>\n",
       "    <tr>\n",
       "      <th>PassengerId</th>\n",
       "      <th></th>\n",
       "      <th></th>\n",
       "      <th></th>\n",
       "      <th></th>\n",
       "      <th></th>\n",
       "      <th></th>\n",
       "      <th></th>\n",
       "      <th></th>\n",
       "      <th></th>\n",
       "      <th></th>\n",
       "      <th></th>\n",
       "    </tr>\n",
       "  </thead>\n",
       "  <tbody>\n",
       "    <tr>\n",
       "      <th>6</th>\n",
       "      <td>3</td>\n",
       "      <td>Moran, Mr. James</td>\n",
       "      <td>male</td>\n",
       "      <td>32.784298</td>\n",
       "      <td>0</td>\n",
       "      <td>0</td>\n",
       "      <td>330877</td>\n",
       "      <td>8.4583</td>\n",
       "      <td>unknown</td>\n",
       "      <td>Q</td>\n",
       "      <td>True</td>\n",
       "    </tr>\n",
       "    <tr>\n",
       "      <th>18</th>\n",
       "      <td>2</td>\n",
       "      <td>Williams, Mr. Charles Eugene</td>\n",
       "      <td>male</td>\n",
       "      <td>32.784298</td>\n",
       "      <td>0</td>\n",
       "      <td>0</td>\n",
       "      <td>244373</td>\n",
       "      <td>13.0000</td>\n",
       "      <td>unknown</td>\n",
       "      <td>S</td>\n",
       "      <td>True</td>\n",
       "    </tr>\n",
       "    <tr>\n",
       "      <th>27</th>\n",
       "      <td>3</td>\n",
       "      <td>Emir, Mr. Farred Chehab</td>\n",
       "      <td>male</td>\n",
       "      <td>32.784298</td>\n",
       "      <td>0</td>\n",
       "      <td>0</td>\n",
       "      <td>2631</td>\n",
       "      <td>7.2250</td>\n",
       "      <td>unknown</td>\n",
       "      <td>C</td>\n",
       "      <td>True</td>\n",
       "    </tr>\n",
       "    <tr>\n",
       "      <th>30</th>\n",
       "      <td>3</td>\n",
       "      <td>Todoroff, Mr. Lalio</td>\n",
       "      <td>male</td>\n",
       "      <td>32.784298</td>\n",
       "      <td>0</td>\n",
       "      <td>0</td>\n",
       "      <td>349216</td>\n",
       "      <td>7.8958</td>\n",
       "      <td>unknown</td>\n",
       "      <td>S</td>\n",
       "      <td>True</td>\n",
       "    </tr>\n",
       "    <tr>\n",
       "      <th>37</th>\n",
       "      <td>3</td>\n",
       "      <td>Mamee, Mr. Hanna</td>\n",
       "      <td>male</td>\n",
       "      <td>32.784298</td>\n",
       "      <td>0</td>\n",
       "      <td>0</td>\n",
       "      <td>2677</td>\n",
       "      <td>7.2292</td>\n",
       "      <td>unknown</td>\n",
       "      <td>C</td>\n",
       "      <td>True</td>\n",
       "    </tr>\n",
       "    <tr>\n",
       "      <th>...</th>\n",
       "      <td>...</td>\n",
       "      <td>...</td>\n",
       "      <td>...</td>\n",
       "      <td>...</td>\n",
       "      <td>...</td>\n",
       "      <td>...</td>\n",
       "      <td>...</td>\n",
       "      <td>...</td>\n",
       "      <td>...</td>\n",
       "      <td>...</td>\n",
       "      <td>...</td>\n",
       "    </tr>\n",
       "    <tr>\n",
       "      <th>1258</th>\n",
       "      <td>3</td>\n",
       "      <td>Caram, Mr. Joseph</td>\n",
       "      <td>male</td>\n",
       "      <td>32.784298</td>\n",
       "      <td>1</td>\n",
       "      <td>0</td>\n",
       "      <td>2689</td>\n",
       "      <td>14.4583</td>\n",
       "      <td>unknown</td>\n",
       "      <td>C</td>\n",
       "      <td>True</td>\n",
       "    </tr>\n",
       "    <tr>\n",
       "      <th>1272</th>\n",
       "      <td>3</td>\n",
       "      <td>O'Connor, Mr. Patrick</td>\n",
       "      <td>male</td>\n",
       "      <td>32.784298</td>\n",
       "      <td>0</td>\n",
       "      <td>0</td>\n",
       "      <td>366713</td>\n",
       "      <td>7.7500</td>\n",
       "      <td>unknown</td>\n",
       "      <td>Q</td>\n",
       "      <td>True</td>\n",
       "    </tr>\n",
       "    <tr>\n",
       "      <th>1276</th>\n",
       "      <td>2</td>\n",
       "      <td>Wheeler, Mr. Edwin Frederick\"\"</td>\n",
       "      <td>male</td>\n",
       "      <td>32.784298</td>\n",
       "      <td>0</td>\n",
       "      <td>0</td>\n",
       "      <td>SC/PARIS 2159</td>\n",
       "      <td>12.8750</td>\n",
       "      <td>unknown</td>\n",
       "      <td>S</td>\n",
       "      <td>True</td>\n",
       "    </tr>\n",
       "    <tr>\n",
       "      <th>1305</th>\n",
       "      <td>3</td>\n",
       "      <td>Spector, Mr. Woolf</td>\n",
       "      <td>male</td>\n",
       "      <td>32.784298</td>\n",
       "      <td>0</td>\n",
       "      <td>0</td>\n",
       "      <td>A.5. 3236</td>\n",
       "      <td>8.0500</td>\n",
       "      <td>unknown</td>\n",
       "      <td>S</td>\n",
       "      <td>True</td>\n",
       "    </tr>\n",
       "    <tr>\n",
       "      <th>1308</th>\n",
       "      <td>3</td>\n",
       "      <td>Ware, Mr. Frederick</td>\n",
       "      <td>male</td>\n",
       "      <td>32.784298</td>\n",
       "      <td>0</td>\n",
       "      <td>0</td>\n",
       "      <td>359309</td>\n",
       "      <td>8.0500</td>\n",
       "      <td>unknown</td>\n",
       "      <td>S</td>\n",
       "      <td>True</td>\n",
       "    </tr>\n",
       "  </tbody>\n",
       "</table>\n",
       "<p>177 rows × 11 columns</p>\n",
       "</div>"
      ],
      "text/plain": [
       "             Pclass                            Name   Sex        Age  SibSp  \\\n",
       "PassengerId                                                                   \n",
       "6                 3                Moran, Mr. James  male  32.784298      0   \n",
       "18                2    Williams, Mr. Charles Eugene  male  32.784298      0   \n",
       "27                3         Emir, Mr. Farred Chehab  male  32.784298      0   \n",
       "30                3             Todoroff, Mr. Lalio  male  32.784298      0   \n",
       "37                3                Mamee, Mr. Hanna  male  32.784298      0   \n",
       "...             ...                             ...   ...        ...    ...   \n",
       "1258              3               Caram, Mr. Joseph  male  32.784298      1   \n",
       "1272              3           O'Connor, Mr. Patrick  male  32.784298      0   \n",
       "1276              2  Wheeler, Mr. Edwin Frederick\"\"  male  32.784298      0   \n",
       "1305              3              Spector, Mr. Woolf  male  32.784298      0   \n",
       "1308              3             Ware, Mr. Frederick  male  32.784298      0   \n",
       "\n",
       "             Parch         Ticket     Fare    Cabin Embarked  Age_was_missing  \n",
       "PassengerId                                                                    \n",
       "6                0         330877   8.4583  unknown        Q             True  \n",
       "18               0         244373  13.0000  unknown        S             True  \n",
       "27               0           2631   7.2250  unknown        C             True  \n",
       "30               0         349216   7.8958  unknown        S             True  \n",
       "37               0           2677   7.2292  unknown        C             True  \n",
       "...            ...            ...      ...      ...      ...              ...  \n",
       "1258             0           2689  14.4583  unknown        C             True  \n",
       "1272             0         366713   7.7500  unknown        Q             True  \n",
       "1276             0  SC/PARIS 2159  12.8750  unknown        S             True  \n",
       "1305             0      A.5. 3236   8.0500  unknown        S             True  \n",
       "1308             0         359309   8.0500  unknown        S             True  \n",
       "\n",
       "[177 rows x 11 columns]"
      ]
     },
     "execution_count": 31,
     "metadata": {},
     "output_type": "execute_result"
    }
   ],
   "source": [
    "#Get indices of the 'NaN' age values for men\n",
    "men_age_nan_ind = X_all[(~(X_all['Name'].str.split(\",\").str.get(1).str.contains('Master.')))\n",
    "                        & (X_all['Age'].isnull()) & (X_all['Sex']=='male')].index\n",
    "\n",
    "#Impute the men 'NaN' age\n",
    "X_all.loc[men_age_nan_ind,'Age'] = men_mean_age\n",
    "print('Number of entries that are left with unknown age is:',\n",
    "      len(X_all[X_all['Age'].isnull()]))\n",
    "X_all.loc[men_age_nan_ind]"
   ]
  },
  {
   "cell_type": "markdown",
   "metadata": {
    "_cell_guid": "231d7fd9-a254-425a-90e9-abe48d30b129",
    "_uuid": "546f973e-f6bd-4876-b2ad-8a7e35ff462d",
    "papermill": {
     "duration": 0.062863,
     "end_time": "2021-05-19T10:55:36.591755",
     "exception": false,
     "start_time": "2021-05-19T10:55:36.528892",
     "status": "completed"
    },
    "tags": []
   },
   "source": [
    "One 'unconventional' missing entry in the 'Age' column still needs to be fixed. As it can be seen from the table below, the corresponding passenger's title is 'Ms.'. Therefore, we will impute this entry with the mean women's age. "
   ]
  },
  {
   "cell_type": "code",
   "execution_count": 32,
   "metadata": {
    "_cell_guid": "a2d4912b-2b97-4702-bcdf-bebeecf297d3",
    "_uuid": "73c89526-6cce-4a7b-b310-9a739456dff8",
    "execution": {
     "iopub.execute_input": "2021-05-19T10:55:36.732037Z",
     "iopub.status.busy": "2021-05-19T10:55:36.731136Z",
     "iopub.status.idle": "2021-05-19T10:55:36.735056Z",
     "shell.execute_reply": "2021-05-19T10:55:36.734555Z"
    },
    "jupyter": {
     "outputs_hidden": false
    },
    "papermill": {
     "duration": 0.080081,
     "end_time": "2021-05-19T10:55:36.735166",
     "exception": false,
     "start_time": "2021-05-19T10:55:36.655085",
     "status": "completed"
    },
    "tags": []
   },
   "outputs": [
    {
     "data": {
      "text/html": [
       "<div>\n",
       "<style scoped>\n",
       "    .dataframe tbody tr th:only-of-type {\n",
       "        vertical-align: middle;\n",
       "    }\n",
       "\n",
       "    .dataframe tbody tr th {\n",
       "        vertical-align: top;\n",
       "    }\n",
       "\n",
       "    .dataframe thead th {\n",
       "        text-align: right;\n",
       "    }\n",
       "</style>\n",
       "<table border=\"1\" class=\"dataframe\">\n",
       "  <thead>\n",
       "    <tr style=\"text-align: right;\">\n",
       "      <th></th>\n",
       "      <th>Pclass</th>\n",
       "      <th>Name</th>\n",
       "      <th>Sex</th>\n",
       "      <th>Age</th>\n",
       "      <th>SibSp</th>\n",
       "      <th>Parch</th>\n",
       "      <th>Ticket</th>\n",
       "      <th>Fare</th>\n",
       "      <th>Cabin</th>\n",
       "      <th>Embarked</th>\n",
       "      <th>Age_was_missing</th>\n",
       "    </tr>\n",
       "    <tr>\n",
       "      <th>PassengerId</th>\n",
       "      <th></th>\n",
       "      <th></th>\n",
       "      <th></th>\n",
       "      <th></th>\n",
       "      <th></th>\n",
       "      <th></th>\n",
       "      <th></th>\n",
       "      <th></th>\n",
       "      <th></th>\n",
       "      <th></th>\n",
       "      <th></th>\n",
       "    </tr>\n",
       "  </thead>\n",
       "  <tbody>\n",
       "    <tr>\n",
       "      <th>980</th>\n",
       "      <td>3</td>\n",
       "      <td>O'Donoghue, Ms. Bridget</td>\n",
       "      <td>female</td>\n",
       "      <td>NaN</td>\n",
       "      <td>0</td>\n",
       "      <td>0</td>\n",
       "      <td>364856</td>\n",
       "      <td>7.75</td>\n",
       "      <td>unknown</td>\n",
       "      <td>Q</td>\n",
       "      <td>True</td>\n",
       "    </tr>\n",
       "  </tbody>\n",
       "</table>\n",
       "</div>"
      ],
      "text/plain": [
       "             Pclass                     Name     Sex  Age  SibSp  Parch  \\\n",
       "PassengerId                                                               \n",
       "980               3  O'Donoghue, Ms. Bridget  female  NaN      0      0   \n",
       "\n",
       "             Ticket  Fare    Cabin Embarked  Age_was_missing  \n",
       "PassengerId                                                   \n",
       "980          364856  7.75  unknown        Q             True  "
      ]
     },
     "execution_count": 32,
     "metadata": {},
     "output_type": "execute_result"
    }
   ],
   "source": [
    "X_all[X_all.Age.isnull()]"
   ]
  },
  {
   "cell_type": "code",
   "execution_count": 33,
   "metadata": {
    "_cell_guid": "11d178cc-0208-4dc2-8027-c270e56f39de",
    "_uuid": "c9545dea-ca62-4ba3-99ab-eda09ab5219b",
    "execution": {
     "iopub.execute_input": "2021-05-19T10:55:36.870187Z",
     "iopub.status.busy": "2021-05-19T10:55:36.869448Z",
     "iopub.status.idle": "2021-05-19T10:55:36.872985Z",
     "shell.execute_reply": "2021-05-19T10:55:36.872594Z"
    },
    "jupyter": {
     "outputs_hidden": false
    },
    "papermill": {
     "duration": 0.074182,
     "end_time": "2021-05-19T10:55:36.873096",
     "exception": false,
     "start_time": "2021-05-19T10:55:36.798914",
     "status": "completed"
    },
    "tags": []
   },
   "outputs": [
    {
     "data": {
      "text/plain": [
       "Pclass                                   3\n",
       "Name               O'Donoghue, Ms. Bridget\n",
       "Sex                                 female\n",
       "Age                                28.4151\n",
       "SibSp                                    0\n",
       "Parch                                    0\n",
       "Ticket                              364856\n",
       "Fare                                  7.75\n",
       "Cabin                              unknown\n",
       "Embarked                                 Q\n",
       "Age_was_missing                       True\n",
       "Name: 980, dtype: object"
      ]
     },
     "execution_count": 33,
     "metadata": {},
     "output_type": "execute_result"
    }
   ],
   "source": [
    "#Generate the 'women_data' table and record the relevant statistical info\n",
    "women_data = X_all[X_all['Sex']=='female']\n",
    "women_mean_age = women_data.Age.mean()\n",
    "\n",
    "#Replace the 'Nan' age entry with the mean women's age\n",
    "X_all.loc[980, 'Age'] = women_mean_age\n",
    "X_all.loc[980, :]"
   ]
  },
  {
   "cell_type": "markdown",
   "metadata": {
    "_cell_guid": "8eaa7848-616c-4d1d-b078-4e336a40474b",
    "_uuid": "bbe4179e-d589-400a-b6e4-726d93b6831a",
    "papermill": {
     "duration": 0.063707,
     "end_time": "2021-05-19T10:55:37.002664",
     "exception": false,
     "start_time": "2021-05-19T10:55:36.938957",
     "status": "completed"
    },
    "tags": []
   },
   "source": [
    "Yahoo, we have finally imputed all the 'NaN' entries in the 'Age' column!!! The only entry to be fixed now is a single 'NaN' value in the 'Fare' column, which is coming from the testing dataset.\n",
    "\n",
    "## <a id='Link-SecImp-Fare'>Fare feature</a>\n",
    "\n",
    "Let's fix the only 'NaN' value in the 'Fare' column right away, taking into account that the corresponding passenger had a 3rd class ticket and embarked in (S)outhampton."
   ]
  },
  {
   "cell_type": "code",
   "execution_count": 34,
   "metadata": {
    "_cell_guid": "f98f01f6-7ae4-49cd-bdbf-62233bb6085c",
    "_uuid": "f032cd71-7d08-4cb2-99ca-f0ed83e1b94e",
    "execution": {
     "iopub.execute_input": "2021-05-19T10:55:37.146507Z",
     "iopub.status.busy": "2021-05-19T10:55:37.145717Z",
     "iopub.status.idle": "2021-05-19T10:55:37.149325Z",
     "shell.execute_reply": "2021-05-19T10:55:37.148874Z"
    },
    "jupyter": {
     "outputs_hidden": false
    },
    "papermill": {
     "duration": 0.082558,
     "end_time": "2021-05-19T10:55:37.149438",
     "exception": false,
     "start_time": "2021-05-19T10:55:37.066880",
     "status": "completed"
    },
    "tags": []
   },
   "outputs": [
    {
     "data": {
      "text/html": [
       "<div>\n",
       "<style scoped>\n",
       "    .dataframe tbody tr th:only-of-type {\n",
       "        vertical-align: middle;\n",
       "    }\n",
       "\n",
       "    .dataframe tbody tr th {\n",
       "        vertical-align: top;\n",
       "    }\n",
       "\n",
       "    .dataframe thead th {\n",
       "        text-align: right;\n",
       "    }\n",
       "</style>\n",
       "<table border=\"1\" class=\"dataframe\">\n",
       "  <thead>\n",
       "    <tr style=\"text-align: right;\">\n",
       "      <th></th>\n",
       "      <th>Pclass</th>\n",
       "      <th>Name</th>\n",
       "      <th>Sex</th>\n",
       "      <th>Age</th>\n",
       "      <th>SibSp</th>\n",
       "      <th>Parch</th>\n",
       "      <th>Ticket</th>\n",
       "      <th>Fare</th>\n",
       "      <th>Cabin</th>\n",
       "      <th>Embarked</th>\n",
       "      <th>Age_was_missing</th>\n",
       "    </tr>\n",
       "    <tr>\n",
       "      <th>PassengerId</th>\n",
       "      <th></th>\n",
       "      <th></th>\n",
       "      <th></th>\n",
       "      <th></th>\n",
       "      <th></th>\n",
       "      <th></th>\n",
       "      <th></th>\n",
       "      <th></th>\n",
       "      <th></th>\n",
       "      <th></th>\n",
       "      <th></th>\n",
       "    </tr>\n",
       "  </thead>\n",
       "  <tbody>\n",
       "    <tr>\n",
       "      <th>1044</th>\n",
       "      <td>3</td>\n",
       "      <td>Storey, Mr. Thomas</td>\n",
       "      <td>male</td>\n",
       "      <td>60.5</td>\n",
       "      <td>0</td>\n",
       "      <td>0</td>\n",
       "      <td>3701</td>\n",
       "      <td>NaN</td>\n",
       "      <td>unknown</td>\n",
       "      <td>S</td>\n",
       "      <td>False</td>\n",
       "    </tr>\n",
       "  </tbody>\n",
       "</table>\n",
       "</div>"
      ],
      "text/plain": [
       "             Pclass                Name   Sex   Age  SibSp  Parch Ticket  \\\n",
       "PassengerId                                                                \n",
       "1044              3  Storey, Mr. Thomas  male  60.5      0      0   3701   \n",
       "\n",
       "             Fare    Cabin Embarked  Age_was_missing  \n",
       "PassengerId                                           \n",
       "1044          NaN  unknown        S            False  "
      ]
     },
     "execution_count": 34,
     "metadata": {},
     "output_type": "execute_result"
    }
   ],
   "source": [
    "X_all[X_all.Fare.isnull()]"
   ]
  },
  {
   "cell_type": "code",
   "execution_count": 35,
   "metadata": {
    "_cell_guid": "abbae75a-7458-4316-9e5d-a78d52919821",
    "_uuid": "8acc7174-f27f-4ab1-9120-0749f6bf2a8b",
    "execution": {
     "iopub.execute_input": "2021-05-19T10:55:37.290470Z",
     "iopub.status.busy": "2021-05-19T10:55:37.289689Z",
     "iopub.status.idle": "2021-05-19T10:55:37.293232Z",
     "shell.execute_reply": "2021-05-19T10:55:37.292840Z"
    },
    "jupyter": {
     "outputs_hidden": false
    },
    "papermill": {
     "duration": 0.078349,
     "end_time": "2021-05-19T10:55:37.293361",
     "exception": false,
     "start_time": "2021-05-19T10:55:37.215012",
     "status": "completed"
    },
    "tags": []
   },
   "outputs": [
    {
     "data": {
      "text/plain": [
       "Pclass             0\n",
       "Name               0\n",
       "Sex                0\n",
       "Age                0\n",
       "SibSp              0\n",
       "Parch              0\n",
       "Ticket             0\n",
       "Fare               0\n",
       "Cabin              0\n",
       "Embarked           0\n",
       "Age_was_missing    0\n",
       "dtype: int64"
      ]
     },
     "execution_count": 35,
     "metadata": {},
     "output_type": "execute_result"
    }
   ],
   "source": [
    "#Create a list of 3rd class passengers embarked in 'S'\n",
    "fare_imputation_data = X_all[(X_all.Pclass==3)&(X_all.Embarked=='S')]\n",
    "\n",
    "#Impute the 'NaN' fare with the median fare value\n",
    "X_all.loc[1044, 'Fare'] = fare_imputation_data.Fare.median()\n",
    "X_all.isnull().sum()"
   ]
  },
  {
   "cell_type": "markdown",
   "metadata": {
    "_cell_guid": "81232267-871e-4dd3-ba5a-63073048ab79",
    "_uuid": "4bd2ae00-55fd-40af-9f90-45c07c07bd04",
    "papermill": {
     "duration": 0.065442,
     "end_time": "2021-05-19T10:55:37.424598",
     "exception": false,
     "start_time": "2021-05-19T10:55:37.359156",
     "status": "completed"
    },
    "tags": []
   },
   "source": [
    "Perfect!!! As seen above, _all the missing values are now imputed and a new feature is generated._ To fully complete the preprocessing stage, we will drop the 'Name' and 'Ticket' features from our imputed dataset and split it back into the training and testing datasets."
   ]
  },
  {
   "cell_type": "code",
   "execution_count": 36,
   "metadata": {
    "_cell_guid": "a7ef0b5f-1fcf-422d-84dc-1550004420e4",
    "_uuid": "ae5c89c5-f5b3-4b74-a133-3e91f2f59ec9",
    "execution": {
     "iopub.execute_input": "2021-05-19T10:55:37.582587Z",
     "iopub.status.busy": "2021-05-19T10:55:37.581544Z",
     "iopub.status.idle": "2021-05-19T10:55:37.585567Z",
     "shell.execute_reply": "2021-05-19T10:55:37.585148Z"
    },
    "jupyter": {
     "outputs_hidden": false
    },
    "papermill": {
     "duration": 0.093408,
     "end_time": "2021-05-19T10:55:37.585686",
     "exception": false,
     "start_time": "2021-05-19T10:55:37.492278",
     "status": "completed"
    },
    "tags": []
   },
   "outputs": [
    {
     "data": {
      "text/html": [
       "<div>\n",
       "<style scoped>\n",
       "    .dataframe tbody tr th:only-of-type {\n",
       "        vertical-align: middle;\n",
       "    }\n",
       "\n",
       "    .dataframe tbody tr th {\n",
       "        vertical-align: top;\n",
       "    }\n",
       "\n",
       "    .dataframe thead th {\n",
       "        text-align: right;\n",
       "    }\n",
       "</style>\n",
       "<table border=\"1\" class=\"dataframe\">\n",
       "  <thead>\n",
       "    <tr style=\"text-align: right;\">\n",
       "      <th></th>\n",
       "      <th>Pclass</th>\n",
       "      <th>Sex</th>\n",
       "      <th>Age</th>\n",
       "      <th>SibSp</th>\n",
       "      <th>Parch</th>\n",
       "      <th>Fare</th>\n",
       "      <th>Cabin</th>\n",
       "      <th>Embarked</th>\n",
       "      <th>Age_was_missing</th>\n",
       "    </tr>\n",
       "    <tr>\n",
       "      <th>PassengerId</th>\n",
       "      <th></th>\n",
       "      <th></th>\n",
       "      <th></th>\n",
       "      <th></th>\n",
       "      <th></th>\n",
       "      <th></th>\n",
       "      <th></th>\n",
       "      <th></th>\n",
       "      <th></th>\n",
       "    </tr>\n",
       "  </thead>\n",
       "  <tbody>\n",
       "    <tr>\n",
       "      <th>892</th>\n",
       "      <td>3</td>\n",
       "      <td>male</td>\n",
       "      <td>34.500000</td>\n",
       "      <td>0</td>\n",
       "      <td>0</td>\n",
       "      <td>7.8292</td>\n",
       "      <td>unknown</td>\n",
       "      <td>Q</td>\n",
       "      <td>False</td>\n",
       "    </tr>\n",
       "    <tr>\n",
       "      <th>893</th>\n",
       "      <td>3</td>\n",
       "      <td>female</td>\n",
       "      <td>47.000000</td>\n",
       "      <td>1</td>\n",
       "      <td>0</td>\n",
       "      <td>7.0000</td>\n",
       "      <td>unknown</td>\n",
       "      <td>S</td>\n",
       "      <td>False</td>\n",
       "    </tr>\n",
       "    <tr>\n",
       "      <th>894</th>\n",
       "      <td>2</td>\n",
       "      <td>male</td>\n",
       "      <td>62.000000</td>\n",
       "      <td>0</td>\n",
       "      <td>0</td>\n",
       "      <td>9.6875</td>\n",
       "      <td>unknown</td>\n",
       "      <td>Q</td>\n",
       "      <td>False</td>\n",
       "    </tr>\n",
       "    <tr>\n",
       "      <th>895</th>\n",
       "      <td>3</td>\n",
       "      <td>male</td>\n",
       "      <td>27.000000</td>\n",
       "      <td>0</td>\n",
       "      <td>0</td>\n",
       "      <td>8.6625</td>\n",
       "      <td>unknown</td>\n",
       "      <td>S</td>\n",
       "      <td>False</td>\n",
       "    </tr>\n",
       "    <tr>\n",
       "      <th>896</th>\n",
       "      <td>3</td>\n",
       "      <td>female</td>\n",
       "      <td>22.000000</td>\n",
       "      <td>1</td>\n",
       "      <td>1</td>\n",
       "      <td>12.2875</td>\n",
       "      <td>unknown</td>\n",
       "      <td>S</td>\n",
       "      <td>False</td>\n",
       "    </tr>\n",
       "    <tr>\n",
       "      <th>...</th>\n",
       "      <td>...</td>\n",
       "      <td>...</td>\n",
       "      <td>...</td>\n",
       "      <td>...</td>\n",
       "      <td>...</td>\n",
       "      <td>...</td>\n",
       "      <td>...</td>\n",
       "      <td>...</td>\n",
       "      <td>...</td>\n",
       "    </tr>\n",
       "    <tr>\n",
       "      <th>1305</th>\n",
       "      <td>3</td>\n",
       "      <td>male</td>\n",
       "      <td>32.784298</td>\n",
       "      <td>0</td>\n",
       "      <td>0</td>\n",
       "      <td>8.0500</td>\n",
       "      <td>unknown</td>\n",
       "      <td>S</td>\n",
       "      <td>True</td>\n",
       "    </tr>\n",
       "    <tr>\n",
       "      <th>1306</th>\n",
       "      <td>1</td>\n",
       "      <td>female</td>\n",
       "      <td>39.000000</td>\n",
       "      <td>0</td>\n",
       "      <td>0</td>\n",
       "      <td>108.9000</td>\n",
       "      <td>C105</td>\n",
       "      <td>C</td>\n",
       "      <td>False</td>\n",
       "    </tr>\n",
       "    <tr>\n",
       "      <th>1307</th>\n",
       "      <td>3</td>\n",
       "      <td>male</td>\n",
       "      <td>38.500000</td>\n",
       "      <td>0</td>\n",
       "      <td>0</td>\n",
       "      <td>7.2500</td>\n",
       "      <td>unknown</td>\n",
       "      <td>S</td>\n",
       "      <td>False</td>\n",
       "    </tr>\n",
       "    <tr>\n",
       "      <th>1308</th>\n",
       "      <td>3</td>\n",
       "      <td>male</td>\n",
       "      <td>32.784298</td>\n",
       "      <td>0</td>\n",
       "      <td>0</td>\n",
       "      <td>8.0500</td>\n",
       "      <td>unknown</td>\n",
       "      <td>S</td>\n",
       "      <td>True</td>\n",
       "    </tr>\n",
       "    <tr>\n",
       "      <th>1309</th>\n",
       "      <td>3</td>\n",
       "      <td>male</td>\n",
       "      <td>5.482642</td>\n",
       "      <td>1</td>\n",
       "      <td>1</td>\n",
       "      <td>22.3583</td>\n",
       "      <td>unknown</td>\n",
       "      <td>C</td>\n",
       "      <td>True</td>\n",
       "    </tr>\n",
       "  </tbody>\n",
       "</table>\n",
       "<p>418 rows × 9 columns</p>\n",
       "</div>"
      ],
      "text/plain": [
       "             Pclass     Sex        Age  SibSp  Parch      Fare    Cabin  \\\n",
       "PassengerId                                                               \n",
       "892               3    male  34.500000      0      0    7.8292  unknown   \n",
       "893               3  female  47.000000      1      0    7.0000  unknown   \n",
       "894               2    male  62.000000      0      0    9.6875  unknown   \n",
       "895               3    male  27.000000      0      0    8.6625  unknown   \n",
       "896               3  female  22.000000      1      1   12.2875  unknown   \n",
       "...             ...     ...        ...    ...    ...       ...      ...   \n",
       "1305              3    male  32.784298      0      0    8.0500  unknown   \n",
       "1306              1  female  39.000000      0      0  108.9000     C105   \n",
       "1307              3    male  38.500000      0      0    7.2500  unknown   \n",
       "1308              3    male  32.784298      0      0    8.0500  unknown   \n",
       "1309              3    male   5.482642      1      1   22.3583  unknown   \n",
       "\n",
       "            Embarked  Age_was_missing  \n",
       "PassengerId                            \n",
       "892                Q            False  \n",
       "893                S            False  \n",
       "894                Q            False  \n",
       "895                S            False  \n",
       "896                S            False  \n",
       "...              ...              ...  \n",
       "1305               S             True  \n",
       "1306               C            False  \n",
       "1307               S            False  \n",
       "1308               S             True  \n",
       "1309               C             True  \n",
       "\n",
       "[418 rows x 9 columns]"
      ]
     },
     "execution_count": 36,
     "metadata": {},
     "output_type": "execute_result"
    }
   ],
   "source": [
    "#Fully imputed train data\n",
    "X_train_imputed = X_all.iloc[:891].drop(['Name','Ticket'], axis = 1)\n",
    "X_train_imputed\n",
    "\n",
    "#Fully imputed test data\n",
    "X_test_imputed = X_all.iloc[891:].drop(['Name', 'Ticket'], axis = 1)\n",
    "X_test_imputed"
   ]
  },
  {
   "cell_type": "markdown",
   "metadata": {
    "_cell_guid": "a26c59ab-abdc-4aa7-a936-7f1223f1ae9e",
    "_uuid": "be0709a2-d491-42d7-b5e2-d73e90e492f9",
    "papermill": {
     "duration": 0.071688,
     "end_time": "2021-05-19T10:55:37.732370",
     "exception": false,
     "start_time": "2021-05-19T10:55:37.660682",
     "status": "completed"
    },
    "tags": []
   },
   "source": [
    "# <a id='Link-SecModel'>Model training, selection, and predictions</a>\n",
    "\n",
    "## <a id='Link-SecModel-DataPrepr'>Data preprocessing</a>\n",
    "\n",
    "Before we train our model and make predictions, we will first preprocess our categorical and numerical columns using the ColumnTransformer class of the `sklearn.compose` module and prepare the data for fitting a machine learning model. (Check out [this turotial](https://www.kaggle.com/alexisbcook/pipelines) to learn more about keeping your data preprocessing and modeling code organized) "
   ]
  },
  {
   "cell_type": "code",
   "execution_count": 37,
   "metadata": {
    "execution": {
     "iopub.execute_input": "2021-05-19T10:55:37.873613Z",
     "iopub.status.busy": "2021-05-19T10:55:37.872984Z",
     "iopub.status.idle": "2021-05-19T10:55:37.882208Z",
     "shell.execute_reply": "2021-05-19T10:55:37.881733Z"
    },
    "papermill": {
     "duration": 0.082675,
     "end_time": "2021-05-19T10:55:37.882330",
     "exception": false,
     "start_time": "2021-05-19T10:55:37.799655",
     "status": "completed"
    },
    "tags": []
   },
   "outputs": [],
   "source": [
    "#Load required packages\n",
    "from sklearn.pipeline import Pipeline\n",
    "from sklearn.preprocessing import OneHotEncoder, StandardScaler\n",
    "from sklearn.compose import ColumnTransformer\n",
    "\n",
    "#Create lists of numerical and categorical columns\n",
    "num_cols = [c for c in X_train_imputed.columns \n",
    "            if X_train_imputed[c].dtype in ['int64','float64']]\n",
    "cat_cols = [c for c in X_train_imputed.columns if \n",
    "            X_train_imputed[c].dtype in ['object','bool']]\n",
    "\n",
    "#Categorical and numerical columns transformation pipelines\n",
    "cat_transformer_onehot = Pipeline(steps=[\n",
    "    ('onehot_transf', OneHotEncoder(handle_unknown='ignore'))\n",
    "])\n",
    "num_transformer = Pipeline(steps=[('scaler', StandardScaler())])\n",
    "\n",
    "#Bundle preprocessing for numerical and categorical data\n",
    "preprocessor = ColumnTransformer([\n",
    "    ('categoricals', cat_transformer_onehot, cat_cols),\n",
    "    ('numericals', num_transformer, num_cols)],\n",
    "    remainder = 'passthrough')"
   ]
  },
  {
   "cell_type": "markdown",
   "metadata": {
    "papermill": {
     "duration": 0.067776,
     "end_time": "2021-05-19T10:55:38.024939",
     "exception": false,
     "start_time": "2021-05-19T10:55:37.957163",
     "status": "completed"
    },
    "tags": []
   },
   "source": [
    "## <a id='Link-SecModel-Training'>Model training</a>\n",
    "\n",
    "In this subsection, we will fit different machine learning algorithms with our preprocessed data and choose the optimal parameters for each model. We will consider the following models:\n",
    "* Random forest classifier\n",
    "* Gradient boost classifier\n",
    "* Logistic regression classifier\n",
    "* K-nearest neighbors classifier\n",
    "\n",
    "### <a id='Link-SecModel-Training-RFC'>Random forest classifier</a>"
   ]
  },
  {
   "cell_type": "code",
   "execution_count": 38,
   "metadata": {
    "_cell_guid": "dbe4b303-b89c-44c1-854e-794c4259d5c2",
    "_uuid": "3275dd15-58a1-4b87-bdb2-0be1fec64c71",
    "execution": {
     "iopub.execute_input": "2021-05-19T10:55:38.165661Z",
     "iopub.status.busy": "2021-05-19T10:55:38.164970Z",
     "iopub.status.idle": "2021-05-19T10:56:33.490551Z",
     "shell.execute_reply": "2021-05-19T10:56:33.490981Z"
    },
    "jupyter": {
     "outputs_hidden": false
    },
    "papermill": {
     "duration": 55.39904,
     "end_time": "2021-05-19T10:56:33.491161",
     "exception": false,
     "start_time": "2021-05-19T10:55:38.092121",
     "status": "completed"
    },
    "tags": []
   },
   "outputs": [
    {
     "name": "stdout",
     "output_type": "stream",
     "text": [
      "Best parameters for the Random Forest Classifier: \n",
      " {'RFC_model__max_depth': 30, 'RFC_model__min_samples_split': 15, 'RFC_model__n_estimators': 235, 'RFC_model__random_state': 10}\n",
      "Best accuracy score for the Random Forest Classifier:  0.8361308141359614\n"
     ]
    }
   ],
   "source": [
    "from sklearn.ensemble import RandomForestClassifier\n",
    "from sklearn.model_selection import GridSearchCV\n",
    "\n",
    "model_RFC = RandomForestClassifier()\n",
    "\n",
    "#Bundle preprocessing and modeling code in a pipeline\n",
    "my_pipeline_RFC = Pipeline(steps=[('preprocessor', preprocessor), \n",
    "                                  ('RFC_model', model_RFC)])\n",
    "\n",
    "#Hyperparameter tuning implementation\n",
    "param_grid_RFC = {\n",
    "    'RFC_model__n_estimators': [100, 235, 300], \n",
    "    'RFC_model__max_depth': [10, 30, 100], \n",
    "    'RFC_model__min_samples_split': [5, 15, 25],\n",
    "    'RFC_model__random_state': [10],\n",
    "}\n",
    "\n",
    "searchCV_RFC = GridSearchCV(my_pipeline_RFC, \n",
    "                            param_grid=param_grid_RFC,\n",
    "                            cv=5, scoring='accuracy',n_jobs=-1)\n",
    "\n",
    "searchCV_RFC.fit(X_train_imputed, y_train)\n",
    "print('Best parameters for the Random Forest Classifier: \\n',\n",
    "      searchCV_RFC.best_params_) \n",
    "print('Best accuracy score for the Random Forest Classifier: ',\n",
    "      searchCV_RFC.best_score_)"
   ]
  },
  {
   "cell_type": "markdown",
   "metadata": {
    "papermill": {
     "duration": 0.066065,
     "end_time": "2021-05-19T10:56:33.624495",
     "exception": false,
     "start_time": "2021-05-19T10:56:33.558430",
     "status": "completed"
    },
    "tags": []
   },
   "source": [
    "### <a id='Link-SecModel-Training-XGBC'>Gradient boosting classifier</a>"
   ]
  },
  {
   "cell_type": "code",
   "execution_count": 39,
   "metadata": {
    "execution": {
     "iopub.execute_input": "2021-05-19T10:56:33.764985Z",
     "iopub.status.busy": "2021-05-19T10:56:33.764471Z",
     "iopub.status.idle": "2021-05-19T10:56:46.621800Z",
     "shell.execute_reply": "2021-05-19T10:56:46.622406Z"
    },
    "papermill": {
     "duration": 12.931416,
     "end_time": "2021-05-19T10:56:46.622606",
     "exception": false,
     "start_time": "2021-05-19T10:56:33.691190",
     "status": "completed"
    },
    "tags": []
   },
   "outputs": [
    {
     "name": "stderr",
     "output_type": "stream",
     "text": [
      "C:\\Users\\alexk\\anaconda3\\lib\\site-packages\\xgboost\\sklearn.py:888: UserWarning: The use of label encoder in XGBClassifier is deprecated and will be removed in a future release. To remove this warning, do the following: 1) Pass option use_label_encoder=False when constructing XGBClassifier object; and 2) Encode your labels (y) as integers starting with 0, i.e. 0, 1, 2, ..., [num_class - 1].\n",
      "  warnings.warn(label_encoder_deprecation_msg, UserWarning)\n"
     ]
    },
    {
     "name": "stdout",
     "output_type": "stream",
     "text": [
      "Best parameters for the XGBoost Classifier: \n",
      " {'XGBC_model__eval_metric': 'error', 'XGBC_model__learning_rate': 0.1, 'XGBC_model__max_depth': 6, 'XGBC_model__min_child_weight': 2, 'XGBC_model__n_estimators': 150, 'XGBC_model__objective': 'binary:logistic', 'XGBC_model__random_state': 10, 'XGBC_model__reg_alpha': 1, 'XGBC_model__reg_lambda': 0.1}\n",
      "Best accuracy score for the XGBoost Classifier:  0.8417425145941874\n"
     ]
    }
   ],
   "source": [
    "from xgboost import XGBClassifier\n",
    "\n",
    "model_XGBC = XGBClassifier()\n",
    "\n",
    "#Bundle preprocessing and modeling code in a pipeline\n",
    "my_pipeline_XGBC = Pipeline(steps=[('preprocessor', preprocessor), \n",
    "                                   ('XGBC_model', model_XGBC)])\n",
    "\n",
    "#Hyperparameter tuning implementation \n",
    "#To speed up this block, non-optimal parameters are commented out\n",
    "param_grid_XGBC = {\n",
    "    'XGBC_model__eval_metric': ['error'],\n",
    "    'XGBC_model__objective': ['binary:logistic'],\n",
    "    'XGBC_model__n_estimators': [50, 100, 150],\n",
    "    'XGBC_model__learning_rate': [0.1, 0.3], \n",
    "    'XGBC_model__max_depth': [6, 9], \n",
    "    'XGBC_model__min_child_weight': [2],\n",
    "    'XGBC_model__reg_alpha': [0.3, 1, 3], \n",
    "    'XGBC_model__reg_lambda': [0.01, 0.03, 0.1],  \n",
    "    'XGBC_model__random_state': [10],\n",
    "}\n",
    "\n",
    "searchCV_XGBC = GridSearchCV(my_pipeline_XGBC, param_grid=param_grid_XGBC,\n",
    "                             cv=5, scoring='accuracy',n_jobs=-1)\n",
    "\n",
    "searchCV_XGBC.fit(X_train_imputed, y_train)\n",
    "print('Best parameters for the XGBoost Classifier: \\n',\n",
    "      searchCV_XGBC.best_params_) \n",
    "print('Best accuracy score for the XGBoost Classifier: ', \n",
    "      searchCV_XGBC.best_score_)"
   ]
  },
  {
   "cell_type": "markdown",
   "metadata": {
    "papermill": {
     "duration": 0.069162,
     "end_time": "2021-05-19T10:56:46.761949",
     "exception": false,
     "start_time": "2021-05-19T10:56:46.692787",
     "status": "completed"
    },
    "tags": []
   },
   "source": [
    "### <a id='Link-SecModel-Training-LRC'> Logistic regression classifier</a>"
   ]
  },
  {
   "cell_type": "code",
   "execution_count": 40,
   "metadata": {
    "execution": {
     "iopub.execute_input": "2021-05-19T10:56:46.905233Z",
     "iopub.status.busy": "2021-05-19T10:56:46.904434Z",
     "iopub.status.idle": "2021-05-19T10:56:52.664683Z",
     "shell.execute_reply": "2021-05-19T10:56:52.664204Z"
    },
    "papermill": {
     "duration": 5.8353,
     "end_time": "2021-05-19T10:56:52.664818",
     "exception": false,
     "start_time": "2021-05-19T10:56:46.829518",
     "status": "completed"
    },
    "tags": []
   },
   "outputs": [
    {
     "name": "stdout",
     "output_type": "stream",
     "text": [
      "Best parameters for the LogisticRegression Classifier: \n",
      " {'LRC_model__C': 1, 'LRC_model__max_iter': 10, 'LRC_model__penalty': 'l2', 'LRC_model__random_state': 10, 'LRC_model__solver': 'liblinear'}\n",
      "Best accuracy score for the LogisticRegression Classifier:  0.7991023790094783\n"
     ]
    }
   ],
   "source": [
    "from sklearn.linear_model import LogisticRegression\n",
    "\n",
    "model_LRC = LogisticRegression()\n",
    "\n",
    "#Bundle preprocessing and modeling code in a pipeline\n",
    "my_pipeline_LRC = Pipeline(steps=[('preprocessor', preprocessor), \n",
    "                                  ('LRC_model', model_LRC)])\n",
    "\n",
    "#Hyperparameter tuning implementation\n",
    "param_grid_LRC = {\n",
    "    'LRC_model__max_iter': [10, 50, 200, 1000],\n",
    "    'LRC_model__penalty': ['l1', 'l2'], \n",
    "    'LRC_model__C': [0.03, 0.1, 0.3, 1, 3, 10, 30], \n",
    "    'LRC_model__solver': ['liblinear'],\n",
    "    'LRC_model__random_state': [10],\n",
    "}\n",
    "\n",
    "searchCV_LRC = GridSearchCV(my_pipeline_LRC, param_grid=param_grid_LRC,\n",
    "                            cv=5, scoring='accuracy',n_jobs=-1)\n",
    "\n",
    "searchCV_LRC.fit(X_train_imputed, y_train)\n",
    "print('Best parameters for the LogisticRegression Classifier: \\n',\n",
    "      searchCV_LRC.best_params_) \n",
    "print('Best accuracy score for the LogisticRegression Classifier: ', \n",
    "      searchCV_LRC.best_score_)"
   ]
  },
  {
   "cell_type": "markdown",
   "metadata": {
    "papermill": {
     "duration": 0.066774,
     "end_time": "2021-05-19T10:56:52.800192",
     "exception": false,
     "start_time": "2021-05-19T10:56:52.733418",
     "status": "completed"
    },
    "tags": []
   },
   "source": [
    "### <a id='Link-SecModel-Training-KNNC'> k-nearest neighbors classifier</a>"
   ]
  },
  {
   "cell_type": "code",
   "execution_count": 41,
   "metadata": {
    "execution": {
     "iopub.execute_input": "2021-05-19T10:56:52.942919Z",
     "iopub.status.busy": "2021-05-19T10:56:52.942105Z",
     "iopub.status.idle": "2021-05-19T10:57:03.300961Z",
     "shell.execute_reply": "2021-05-19T10:57:03.300469Z"
    },
    "papermill": {
     "duration": 10.43388,
     "end_time": "2021-05-19T10:57:03.301099",
     "exception": false,
     "start_time": "2021-05-19T10:56:52.867219",
     "status": "completed"
    },
    "tags": []
   },
   "outputs": [
    {
     "name": "stdout",
     "output_type": "stream",
     "text": [
      "Best parameters for kNN Classifier: \n",
      " {'KNNC_model__leaf_size': 1, 'KNNC_model__n_neighbors': 9, 'KNNC_model__p': 1, 'KNNC_model__weights': 'uniform'}\n",
      "Best accuracy score for kNN Classifier:  0.8204318624066286\n"
     ]
    }
   ],
   "source": [
    "from sklearn.neighbors import KNeighborsClassifier\n",
    "\n",
    "model_KNNC = KNeighborsClassifier()\n",
    "\n",
    "#Bundle preprocessing and modeling code in a pipeline\n",
    "my_pipeline_KNNC = Pipeline(steps=[('preprocessor', preprocessor), \n",
    "                                   ('KNNC_model', model_KNNC)])\n",
    "\n",
    "#Hyperparameter tuning implementation\n",
    "param_grid_KNNC = {\n",
    "    'KNNC_model__n_neighbors': [3, 5, 7, 9, 11], \n",
    "    'KNNC_model__weights': ['uniform', 'distance'], \n",
    "    'KNNC_model__leaf_size': [1, 3, 10, 30],\n",
    "    'KNNC_model__p': [1, 2],\n",
    "}\n",
    "\n",
    "searchCV_KNNC = GridSearchCV(my_pipeline_KNNC, param_grid=param_grid_KNNC,\n",
    "                             cv=5, scoring='accuracy',n_jobs=-1)\n",
    "\n",
    "searchCV_KNNC.fit(X_train_imputed, y_train)\n",
    "print('Best parameters for kNN Classifier: \\n',searchCV_KNNC.best_params_) \n",
    "print('Best accuracy score for kNN Classifier: ', searchCV_KNNC.best_score_)"
   ]
  },
  {
   "cell_type": "markdown",
   "metadata": {
    "papermill": {
     "duration": 0.067069,
     "end_time": "2021-05-19T10:57:03.438963",
     "exception": false,
     "start_time": "2021-05-19T10:57:03.371894",
     "status": "completed"
    },
    "tags": []
   },
   "source": [
    "## <a id='Link-SecModel-Selection'>Model selection and predictions</a>\n",
    "\n",
    "Below, we provide a table that summarizes the Accuracy and F1 score predictions of 4 different models, after testing these models on cross validation dataset."
   ]
  },
  {
   "cell_type": "markdown",
   "metadata": {
    "papermill": {
     "duration": 0.068427,
     "end_time": "2021-05-19T10:57:03.575085",
     "exception": false,
     "start_time": "2021-05-19T10:57:03.506658",
     "status": "completed"
    },
    "tags": []
   },
   "source": [
    "| Model  | Accuracy | F1 score |\n",
    "| --- | --- | -- |\n",
    "| Random forest classifier | 0.836 | 0.765 |\n",
    "| Gradient boosting classifier | 0.842 | 0.781 |\n",
    "| Logistic regression classifier | 0.800 | 0.733 |\n",
    "| kNN classifier | 0.820 | 0.749 |\n"
   ]
  },
  {
   "cell_type": "markdown",
   "metadata": {
    "papermill": {
     "duration": 0.067303,
     "end_time": "2021-05-19T10:57:03.709723",
     "exception": false,
     "start_time": "2021-05-19T10:57:03.642420",
     "status": "completed"
    },
    "tags": []
   },
   "source": [
    "The XGBoost classifier provides the best accuracy on the cross validation data, so one can use this model to make predictions on the test dataset. "
   ]
  },
  {
   "cell_type": "code",
   "execution_count": 42,
   "metadata": {
    "execution": {
     "iopub.execute_input": "2021-05-19T10:57:03.855739Z",
     "iopub.status.busy": "2021-05-19T10:57:03.854912Z",
     "iopub.status.idle": "2021-05-19T10:57:03.892493Z",
     "shell.execute_reply": "2021-05-19T10:57:03.892083Z"
    },
    "papermill": {
     "duration": 0.115364,
     "end_time": "2021-05-19T10:57:03.892616",
     "exception": false,
     "start_time": "2021-05-19T10:57:03.777252",
     "status": "completed"
    },
    "tags": []
   },
   "outputs": [],
   "source": [
    "#Generate predictions\n",
    "my_pipeline_final = searchCV_XGBC.best_estimator_\n",
    "predictions = my_pipeline_final.predict(X_test_imputed)\n",
    "\n",
    "#Generate output\n",
    "output = pd.DataFrame({'PassengerId': X_test_imputed.index, \n",
    "                       'Survived': predictions})\n",
    "output.to_csv('predictions.csv', index=False)"
   ]
  },
  {
   "cell_type": "markdown",
   "metadata": {
    "papermill": {
     "duration": 0.067316,
     "end_time": "2021-05-19T10:57:04.027576",
     "exception": false,
     "start_time": "2021-05-19T10:57:03.960260",
     "status": "completed"
    },
    "tags": []
   },
   "source": [
    "Check out a copy of this notebook on [Kaggle](https://www.kaggle.com/alexkoshchii/top-7-titanic-dataset-notebook), which was prepared for a submission to the [Titanic - Machine Learning from Disaster](https://www.kaggle.com/c/titanic) competition."
   ]
  },
  {
   "cell_type": "code",
   "execution_count": null,
   "metadata": {},
   "outputs": [],
   "source": []
  }
 ],
 "metadata": {
  "kernelspec": {
   "display_name": "Python 3",
   "language": "python",
   "name": "python3"
  },
  "language_info": {
   "codemirror_mode": {
    "name": "ipython",
    "version": 3
   },
   "file_extension": ".py",
   "mimetype": "text/x-python",
   "name": "python",
   "nbconvert_exporter": "python",
   "pygments_lexer": "ipython3",
   "version": "3.8.5"
  },
  "papermill": {
   "default_parameters": {},
   "duration": 115.315914,
   "end_time": "2021-05-19T10:57:05.913224",
   "environment_variables": {},
   "exception": null,
   "input_path": "__notebook__.ipynb",
   "output_path": "__notebook__.ipynb",
   "parameters": {},
   "start_time": "2021-05-19T10:55:10.597310",
   "version": "2.2.2"
  }
 },
 "nbformat": 4,
 "nbformat_minor": 4
}
